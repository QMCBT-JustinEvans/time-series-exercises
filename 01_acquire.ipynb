{
 "cells": [
  {
   "cell_type": "code",
   "execution_count": null,
   "id": "c2ab30a2",
   "metadata": {},
   "outputs": [],
   "source": []
  },
  {
   "cell_type": "markdown",
   "id": "c41e79fd",
   "metadata": {},
   "source": [
    "# Acquire Exercises\n",
    "Create a new local git repository and remote repository on github named ***time-series-exercises***. Save this work for this module in your ```time-series-exercises``` repo.\n",
    "\n",
    "The end result of this exercise should be a file named ```acquire.py```.\n",
    "\n",
    "1. Using the code from the lesson as a guide and the REST API from https://swapi.dev/ as we did in the lesson, create a dataframe named ```people``` that has all of the data for people.\n",
    "2. Do the same thing, but for ```planets```.\n",
    "3. Extract the data for ```starships```.\n",
    "4. Save the data in your files to local csv files so that it will be faster to access in the future.\n",
    "5. Combine the data from your three separate dataframes into one large dataframe.\n",
    "6. Acquire the ```Open Power Systems``` Data for Germany, which has been rapidly expanding its renewable energy production in recent years. The data set includes country-wide totals of electricity consumption, wind power production, and solar power production for 2006-2017. You can get the data here: https://raw.githubusercontent.com/jenfly/opsd/master/opsd_germany_daily.csv\n",
    "7. Make sure all the work that you have done above is reproducible. That is, you should put the code above into separate functions in the ```acquire.py``` file and be able to re-run the functions and get the same data."
   ]
  },
  {
   "cell_type": "code",
   "execution_count": null,
   "id": "48539d87",
   "metadata": {},
   "outputs": [],
   "source": []
  }
 ],
 "metadata": {
  "kernelspec": {
   "display_name": "Python 3 (ipykernel)",
   "language": "python",
   "name": "python3"
  },
  "language_info": {
   "codemirror_mode": {
    "name": "ipython",
    "version": 3
   },
   "file_extension": ".py",
   "mimetype": "text/x-python",
   "name": "python",
   "nbconvert_exporter": "python",
   "pygments_lexer": "ipython3",
   "version": "3.9.12"
  }
 },
 "nbformat": 4,
 "nbformat_minor": 5
}

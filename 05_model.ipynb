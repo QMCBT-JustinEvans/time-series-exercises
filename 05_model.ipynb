{
 "cells": [
  {
   "cell_type": "code",
   "execution_count": 1,
   "id": "963a6aaa",
   "metadata": {},
   "outputs": [],
   "source": [
    "import numpy as np\n",
    "import pandas as pd\n",
    "import os\n",
    "\n",
    "# visualize \n",
    "import matplotlib.pyplot as plt\n",
    "from matplotlib.ticker import StrMethodFormatter\n",
    "from matplotlib.dates import DateFormatter\n",
    "import seaborn as sns\n",
    "\n",
    "# working with dates\n",
    "from datetime import datetime\n",
    "\n",
    "# to evaluate performance using rmse\n",
    "from sklearn.metrics import mean_squared_error\n",
    "from math import sqrt \n",
    "\n",
    "# for tsa \n",
    "import statsmodels.api as sm\n",
    "\n",
    "# holt's linear trend model. \n",
    "from statsmodels.tsa.api import Holt\n",
    "\n",
    "# for presentation purposes\n",
    "import warnings\n",
    "warnings.filterwarnings(\"ignore\")\n",
    "\n",
    "import QMCBT_01_acquire as acquire\n",
    "import QMCBT_02_prepare as prepare"
   ]
  },
  {
   "cell_type": "markdown",
   "id": "15fe8450",
   "metadata": {},
   "source": [
    "# Modelling Exercises\n",
    "The end result of this exercise should be a Jupyter notebook named model."
   ]
  },
  {
   "cell_type": "markdown",
   "id": "e9cc0db2",
   "metadata": {},
   "source": [
    "<div class=\"alert alert-success\">\n",
    "\n",
    "\n",
    "# ```SAAS``` dataset"
   ]
  },
  {
   "cell_type": "markdown",
   "id": "f47bddc1",
   "metadata": {},
   "source": [
    "## Acquire"
   ]
  },
  {
   "cell_type": "code",
   "execution_count": 2,
   "id": "f3567b80",
   "metadata": {},
   "outputs": [],
   "source": [
    "# Read in saas data from cache or Codeup server then write to cache\n",
    "filename = 'saas.csv'\n",
    "    \n",
    "if os.path.isfile(filename):\n",
    "    df = pd.read_csv(filename)\n",
    "else:\n",
    "    url = 'https://ds.codeup.com/saas.csv'\n",
    "    df = pd.read_csv(url)\n",
    "    df.to_csv('saas.csv', index=False)"
   ]
  },
  {
   "cell_type": "code",
   "execution_count": 3,
   "id": "d704e093",
   "metadata": {},
   "outputs": [
    {
     "data": {
      "text/html": [
       "<div>\n",
       "<style scoped>\n",
       "    .dataframe tbody tr th:only-of-type {\n",
       "        vertical-align: middle;\n",
       "    }\n",
       "\n",
       "    .dataframe tbody tr th {\n",
       "        vertical-align: top;\n",
       "    }\n",
       "\n",
       "    .dataframe thead th {\n",
       "        text-align: right;\n",
       "    }\n",
       "</style>\n",
       "<table border=\"1\" class=\"dataframe\">\n",
       "  <thead>\n",
       "    <tr style=\"text-align: right;\">\n",
       "      <th></th>\n",
       "      <th>0</th>\n",
       "      <th>1</th>\n",
       "      <th>2</th>\n",
       "      <th>3</th>\n",
       "      <th>4</th>\n",
       "      <th>5</th>\n",
       "      <th>6</th>\n",
       "      <th>7</th>\n",
       "      <th>8</th>\n",
       "      <th>9</th>\n",
       "      <th>...</th>\n",
       "      <th>790448</th>\n",
       "      <th>790449</th>\n",
       "      <th>790450</th>\n",
       "      <th>790451</th>\n",
       "      <th>790452</th>\n",
       "      <th>790453</th>\n",
       "      <th>790454</th>\n",
       "      <th>790455</th>\n",
       "      <th>790456</th>\n",
       "      <th>790457</th>\n",
       "    </tr>\n",
       "  </thead>\n",
       "  <tbody>\n",
       "    <tr>\n",
       "      <th>Month_Invoiced</th>\n",
       "      <td>2014-01-31</td>\n",
       "      <td>2014-01-31</td>\n",
       "      <td>2014-01-31</td>\n",
       "      <td>2014-01-31</td>\n",
       "      <td>2014-01-31</td>\n",
       "      <td>2014-01-31</td>\n",
       "      <td>2014-01-31</td>\n",
       "      <td>2014-01-31</td>\n",
       "      <td>2014-01-31</td>\n",
       "      <td>2014-01-31</td>\n",
       "      <td>...</td>\n",
       "      <td>2017-12-31</td>\n",
       "      <td>2017-12-31</td>\n",
       "      <td>2017-12-31</td>\n",
       "      <td>2017-12-31</td>\n",
       "      <td>2017-12-31</td>\n",
       "      <td>2017-12-31</td>\n",
       "      <td>2017-12-31</td>\n",
       "      <td>2017-12-31</td>\n",
       "      <td>2017-12-31</td>\n",
       "      <td>2017-12-31</td>\n",
       "    </tr>\n",
       "    <tr>\n",
       "      <th>Customer_Id</th>\n",
       "      <td>1000000</td>\n",
       "      <td>1000001</td>\n",
       "      <td>1000002</td>\n",
       "      <td>1000003</td>\n",
       "      <td>1000004</td>\n",
       "      <td>1000005</td>\n",
       "      <td>1000006</td>\n",
       "      <td>1000007</td>\n",
       "      <td>1000008</td>\n",
       "      <td>1000009</td>\n",
       "      <td>...</td>\n",
       "      <td>1029390</td>\n",
       "      <td>1029391</td>\n",
       "      <td>1029392</td>\n",
       "      <td>1029393</td>\n",
       "      <td>1029394</td>\n",
       "      <td>1029395</td>\n",
       "      <td>1029396</td>\n",
       "      <td>1029397</td>\n",
       "      <td>1029398</td>\n",
       "      <td>1029399</td>\n",
       "    </tr>\n",
       "    <tr>\n",
       "      <th>Invoice_Id</th>\n",
       "      <td>5000000</td>\n",
       "      <td>5000001</td>\n",
       "      <td>5000002</td>\n",
       "      <td>5000003</td>\n",
       "      <td>5000004</td>\n",
       "      <td>5000005</td>\n",
       "      <td>5000006</td>\n",
       "      <td>5000007</td>\n",
       "      <td>5000008</td>\n",
       "      <td>5000009</td>\n",
       "      <td>...</td>\n",
       "      <td>5790448</td>\n",
       "      <td>5790449</td>\n",
       "      <td>5790450</td>\n",
       "      <td>5790451</td>\n",
       "      <td>5790452</td>\n",
       "      <td>5790453</td>\n",
       "      <td>5790454</td>\n",
       "      <td>5790455</td>\n",
       "      <td>5790456</td>\n",
       "      <td>5790457</td>\n",
       "    </tr>\n",
       "    <tr>\n",
       "      <th>Subscription_Type</th>\n",
       "      <td>0.0</td>\n",
       "      <td>2.0</td>\n",
       "      <td>0.0</td>\n",
       "      <td>0.0</td>\n",
       "      <td>1.0</td>\n",
       "      <td>2.0</td>\n",
       "      <td>0.0</td>\n",
       "      <td>0.0</td>\n",
       "      <td>0.0</td>\n",
       "      <td>0.0</td>\n",
       "      <td>...</td>\n",
       "      <td>0.0</td>\n",
       "      <td>0.0</td>\n",
       "      <td>0.0</td>\n",
       "      <td>0.0</td>\n",
       "      <td>0.0</td>\n",
       "      <td>0.0</td>\n",
       "      <td>0.0</td>\n",
       "      <td>3.0</td>\n",
       "      <td>0.0</td>\n",
       "      <td>0.0</td>\n",
       "    </tr>\n",
       "    <tr>\n",
       "      <th>Amount</th>\n",
       "      <td>0.0</td>\n",
       "      <td>10.0</td>\n",
       "      <td>0.0</td>\n",
       "      <td>0.0</td>\n",
       "      <td>5.0</td>\n",
       "      <td>10.0</td>\n",
       "      <td>0.0</td>\n",
       "      <td>0.0</td>\n",
       "      <td>0.0</td>\n",
       "      <td>0.0</td>\n",
       "      <td>...</td>\n",
       "      <td>0.0</td>\n",
       "      <td>0.0</td>\n",
       "      <td>0.0</td>\n",
       "      <td>0.0</td>\n",
       "      <td>0.0</td>\n",
       "      <td>0.0</td>\n",
       "      <td>0.0</td>\n",
       "      <td>15.0</td>\n",
       "      <td>0.0</td>\n",
       "      <td>0.0</td>\n",
       "    </tr>\n",
       "  </tbody>\n",
       "</table>\n",
       "<p>5 rows × 790458 columns</p>\n",
       "</div>"
      ],
      "text/plain": [
       "                       0           1           2           3           4       \\\n",
       "Month_Invoiced     2014-01-31  2014-01-31  2014-01-31  2014-01-31  2014-01-31   \n",
       "Customer_Id           1000000     1000001     1000002     1000003     1000004   \n",
       "Invoice_Id            5000000     5000001     5000002     5000003     5000004   \n",
       "Subscription_Type         0.0         2.0         0.0         0.0         1.0   \n",
       "Amount                    0.0        10.0         0.0         0.0         5.0   \n",
       "\n",
       "                       5           6           7           8           9       \\\n",
       "Month_Invoiced     2014-01-31  2014-01-31  2014-01-31  2014-01-31  2014-01-31   \n",
       "Customer_Id           1000005     1000006     1000007     1000008     1000009   \n",
       "Invoice_Id            5000005     5000006     5000007     5000008     5000009   \n",
       "Subscription_Type         2.0         0.0         0.0         0.0         0.0   \n",
       "Amount                   10.0         0.0         0.0         0.0         0.0   \n",
       "\n",
       "                   ...      790448      790449      790450      790451  \\\n",
       "Month_Invoiced     ...  2017-12-31  2017-12-31  2017-12-31  2017-12-31   \n",
       "Customer_Id        ...     1029390     1029391     1029392     1029393   \n",
       "Invoice_Id         ...     5790448     5790449     5790450     5790451   \n",
       "Subscription_Type  ...         0.0         0.0         0.0         0.0   \n",
       "Amount             ...         0.0         0.0         0.0         0.0   \n",
       "\n",
       "                       790452      790453      790454      790455      790456  \\\n",
       "Month_Invoiced     2017-12-31  2017-12-31  2017-12-31  2017-12-31  2017-12-31   \n",
       "Customer_Id           1029394     1029395     1029396     1029397     1029398   \n",
       "Invoice_Id            5790452     5790453     5790454     5790455     5790456   \n",
       "Subscription_Type         0.0         0.0         0.0         3.0         0.0   \n",
       "Amount                    0.0         0.0         0.0        15.0         0.0   \n",
       "\n",
       "                       790457  \n",
       "Month_Invoiced     2017-12-31  \n",
       "Customer_Id           1029399  \n",
       "Invoice_Id            5790457  \n",
       "Subscription_Type         0.0  \n",
       "Amount                    0.0  \n",
       "\n",
       "[5 rows x 790458 columns]"
      ]
     },
     "execution_count": 3,
     "metadata": {},
     "output_type": "execute_result"
    }
   ],
   "source": [
    "df.T"
   ]
  },
  {
   "cell_type": "markdown",
   "id": "8e0adaf2",
   "metadata": {},
   "source": [
    "## Explore & Prepare"
   ]
  },
  {
   "cell_type": "code",
   "execution_count": 4,
   "id": "04c7bb94",
   "metadata": {},
   "outputs": [
    {
     "name": "stdout",
     "output_type": "stream",
     "text": [
      "<class 'pandas.core.frame.DataFrame'>\n",
      "RangeIndex: 790458 entries, 0 to 790457\n",
      "Data columns (total 5 columns):\n",
      " #   Column             Non-Null Count   Dtype  \n",
      "---  ------             --------------   -----  \n",
      " 0   Month_Invoiced     790458 non-null  object \n",
      " 1   Customer_Id        790458 non-null  int64  \n",
      " 2   Invoice_Id         790458 non-null  int64  \n",
      " 3   Subscription_Type  790458 non-null  float64\n",
      " 4   Amount             790458 non-null  float64\n",
      "dtypes: float64(2), int64(2), object(1)\n",
      "memory usage: 30.2+ MB\n"
     ]
    }
   ],
   "source": [
    "df.info()"
   ]
  },
  {
   "cell_type": "code",
   "execution_count": 5,
   "id": "b3fb3023",
   "metadata": {},
   "outputs": [
    {
     "data": {
      "text/plain": [
       "Month_Invoiced       0\n",
       "Customer_Id          0\n",
       "Invoice_Id           0\n",
       "Subscription_Type    0\n",
       "Amount               0\n",
       "dtype: int64"
      ]
     },
     "execution_count": 5,
     "metadata": {},
     "output_type": "execute_result"
    }
   ],
   "source": [
    "# Count null by coloumns\n",
    "df.isnull().sum()"
   ]
  },
  {
   "cell_type": "code",
   "execution_count": 6,
   "id": "3f1ed9fb",
   "metadata": {},
   "outputs": [],
   "source": [
    "# Convert column names to Lowercase\n",
    "df.columns = [col.lower() for col in df]"
   ]
  },
  {
   "cell_type": "code",
   "execution_count": 7,
   "id": "719ffbba",
   "metadata": {
    "scrolled": true
   },
   "outputs": [
    {
     "data": {
      "text/plain": [
       "Index(['month_invoiced', 'customer_id', 'invoice_id', 'subscription_type',\n",
       "       'amount'],\n",
       "      dtype='object')"
      ]
     },
     "execution_count": 7,
     "metadata": {},
     "output_type": "execute_result"
    }
   ],
   "source": [
    "# Check work\n",
    "df.columns"
   ]
  },
  {
   "cell_type": "markdown",
   "id": "be9e4ed5",
   "metadata": {},
   "source": [
    "<div class=\"alert alert-info\">\n",
    "\n",
    "\n",
    "### Observations:\n",
    "* amount & subscription_type should be int64 instead of float64\n",
    "* amount & subscription_type are correlated to eachother\n",
    "* amount should be labled as price because it is the amount being paid for subscription_type"
   ]
  },
  {
   "cell_type": "code",
   "execution_count": 8,
   "id": "6f953e7e",
   "metadata": {
    "scrolled": false
   },
   "outputs": [
    {
     "data": {
      "text/plain": [
       "0.0     496410\n",
       "5.0     178212\n",
       "10.0     70706\n",
       "15.0     26474\n",
       "20.0     18656\n",
       "Name: amount, dtype: int64"
      ]
     },
     "execution_count": 8,
     "metadata": {},
     "output_type": "execute_result"
    }
   ],
   "source": [
    "# Show unique value counts\n",
    "df.amount.value_counts()"
   ]
  },
  {
   "cell_type": "code",
   "execution_count": 9,
   "id": "d9a7624b",
   "metadata": {
    "scrolled": true
   },
   "outputs": [
    {
     "data": {
      "text/plain": [
       "0.0    496410\n",
       "1.0    178212\n",
       "2.0     70706\n",
       "3.0     26474\n",
       "4.0     18656\n",
       "Name: subscription_type, dtype: int64"
      ]
     },
     "execution_count": 9,
     "metadata": {},
     "output_type": "execute_result"
    }
   ],
   "source": [
    "# Show unique value counts\n",
    "df.subscription_type.value_counts()"
   ]
  },
  {
   "cell_type": "code",
   "execution_count": 10,
   "id": "2eec0e3b",
   "metadata": {},
   "outputs": [],
   "source": [
    "# Change dtype\n",
    "df.amount = df.amount.astype(int)"
   ]
  },
  {
   "cell_type": "code",
   "execution_count": 11,
   "id": "d445851f",
   "metadata": {},
   "outputs": [],
   "source": [
    "# Change dtype\n",
    "df.subscription_type = df.subscription_type.astype(int)"
   ]
  },
  {
   "cell_type": "code",
   "execution_count": 12,
   "id": "d458f9ad",
   "metadata": {},
   "outputs": [
    {
     "name": "stdout",
     "output_type": "stream",
     "text": [
      "<class 'pandas.core.frame.DataFrame'>\n",
      "RangeIndex: 790458 entries, 0 to 790457\n",
      "Data columns (total 5 columns):\n",
      " #   Column             Non-Null Count   Dtype \n",
      "---  ------             --------------   ----- \n",
      " 0   month_invoiced     790458 non-null  object\n",
      " 1   customer_id        790458 non-null  int64 \n",
      " 2   invoice_id         790458 non-null  int64 \n",
      " 3   subscription_type  790458 non-null  int64 \n",
      " 4   amount             790458 non-null  int64 \n",
      "dtypes: int64(4), object(1)\n",
      "memory usage: 30.2+ MB\n"
     ]
    }
   ],
   "source": [
    "# Check work\n",
    "df.info()"
   ]
  },
  {
   "cell_type": "code",
   "execution_count": 13,
   "id": "0dff3ffb",
   "metadata": {},
   "outputs": [
    {
     "data": {
      "text/html": [
       "<div>\n",
       "<style scoped>\n",
       "    .dataframe tbody tr th:only-of-type {\n",
       "        vertical-align: middle;\n",
       "    }\n",
       "\n",
       "    .dataframe tbody tr th {\n",
       "        vertical-align: top;\n",
       "    }\n",
       "\n",
       "    .dataframe thead th {\n",
       "        text-align: right;\n",
       "    }\n",
       "</style>\n",
       "<table border=\"1\" class=\"dataframe\">\n",
       "  <thead>\n",
       "    <tr style=\"text-align: right;\">\n",
       "      <th>amount</th>\n",
       "      <th>0</th>\n",
       "      <th>5</th>\n",
       "      <th>10</th>\n",
       "      <th>15</th>\n",
       "      <th>20</th>\n",
       "    </tr>\n",
       "    <tr>\n",
       "      <th>subscription_type</th>\n",
       "      <th></th>\n",
       "      <th></th>\n",
       "      <th></th>\n",
       "      <th></th>\n",
       "      <th></th>\n",
       "    </tr>\n",
       "  </thead>\n",
       "  <tbody>\n",
       "    <tr>\n",
       "      <th>0</th>\n",
       "      <td>496410</td>\n",
       "      <td>0</td>\n",
       "      <td>0</td>\n",
       "      <td>0</td>\n",
       "      <td>0</td>\n",
       "    </tr>\n",
       "    <tr>\n",
       "      <th>1</th>\n",
       "      <td>0</td>\n",
       "      <td>178212</td>\n",
       "      <td>0</td>\n",
       "      <td>0</td>\n",
       "      <td>0</td>\n",
       "    </tr>\n",
       "    <tr>\n",
       "      <th>2</th>\n",
       "      <td>0</td>\n",
       "      <td>0</td>\n",
       "      <td>70706</td>\n",
       "      <td>0</td>\n",
       "      <td>0</td>\n",
       "    </tr>\n",
       "    <tr>\n",
       "      <th>3</th>\n",
       "      <td>0</td>\n",
       "      <td>0</td>\n",
       "      <td>0</td>\n",
       "      <td>26474</td>\n",
       "      <td>0</td>\n",
       "    </tr>\n",
       "    <tr>\n",
       "      <th>4</th>\n",
       "      <td>0</td>\n",
       "      <td>0</td>\n",
       "      <td>0</td>\n",
       "      <td>0</td>\n",
       "      <td>18656</td>\n",
       "    </tr>\n",
       "  </tbody>\n",
       "</table>\n",
       "</div>"
      ],
      "text/plain": [
       "amount                 0       5      10     15     20\n",
       "subscription_type                                     \n",
       "0                  496410       0      0      0      0\n",
       "1                       0  178212      0      0      0\n",
       "2                       0       0  70706      0      0\n",
       "3                       0       0      0  26474      0\n",
       "4                       0       0      0      0  18656"
      ]
     },
     "execution_count": 13,
     "metadata": {},
     "output_type": "execute_result"
    }
   ],
   "source": [
    "# Crosstab to check correlation\n",
    "pd.crosstab(df.subscription_type, df.amount)"
   ]
  },
  {
   "cell_type": "code",
   "execution_count": 14,
   "id": "1e93e70b",
   "metadata": {},
   "outputs": [],
   "source": [
    "df.rename(columns = {'amount':'price'}, inplace = True)"
   ]
  },
  {
   "cell_type": "code",
   "execution_count": 15,
   "id": "b2bec981",
   "metadata": {},
   "outputs": [],
   "source": [
    "# Convert datetime column to dtype datetime64 and add day, month, year columns\n",
    "df = prepare.dmy_conversion(df, 'month_invoiced')"
   ]
  },
  {
   "cell_type": "code",
   "execution_count": 16,
   "id": "b9e6213e",
   "metadata": {
    "scrolled": true
   },
   "outputs": [
    {
     "data": {
      "text/html": [
       "<div>\n",
       "<style scoped>\n",
       "    .dataframe tbody tr th:only-of-type {\n",
       "        vertical-align: middle;\n",
       "    }\n",
       "\n",
       "    .dataframe tbody tr th {\n",
       "        vertical-align: top;\n",
       "    }\n",
       "\n",
       "    .dataframe thead th {\n",
       "        text-align: right;\n",
       "    }\n",
       "</style>\n",
       "<table border=\"1\" class=\"dataframe\">\n",
       "  <thead>\n",
       "    <tr style=\"text-align: right;\">\n",
       "      <th>month_invoiced</th>\n",
       "      <th>2014-01-31</th>\n",
       "      <th>2014-01-31</th>\n",
       "      <th>2014-01-31</th>\n",
       "      <th>2014-01-31</th>\n",
       "      <th>2014-01-31</th>\n",
       "      <th>2014-01-31</th>\n",
       "      <th>2014-01-31</th>\n",
       "      <th>2014-01-31</th>\n",
       "      <th>2014-01-31</th>\n",
       "      <th>2014-01-31</th>\n",
       "      <th>...</th>\n",
       "      <th>2017-12-31</th>\n",
       "      <th>2017-12-31</th>\n",
       "      <th>2017-12-31</th>\n",
       "      <th>2017-12-31</th>\n",
       "      <th>2017-12-31</th>\n",
       "      <th>2017-12-31</th>\n",
       "      <th>2017-12-31</th>\n",
       "      <th>2017-12-31</th>\n",
       "      <th>2017-12-31</th>\n",
       "      <th>2017-12-31</th>\n",
       "    </tr>\n",
       "  </thead>\n",
       "  <tbody>\n",
       "    <tr>\n",
       "      <th>customer_id</th>\n",
       "      <td>1000000</td>\n",
       "      <td>1000001</td>\n",
       "      <td>1000002</td>\n",
       "      <td>1000003</td>\n",
       "      <td>1000004</td>\n",
       "      <td>1000005</td>\n",
       "      <td>1000006</td>\n",
       "      <td>1000007</td>\n",
       "      <td>1000008</td>\n",
       "      <td>1000009</td>\n",
       "      <td>...</td>\n",
       "      <td>1029390</td>\n",
       "      <td>1029391</td>\n",
       "      <td>1029392</td>\n",
       "      <td>1029393</td>\n",
       "      <td>1029394</td>\n",
       "      <td>1029395</td>\n",
       "      <td>1029396</td>\n",
       "      <td>1029397</td>\n",
       "      <td>1029398</td>\n",
       "      <td>1029399</td>\n",
       "    </tr>\n",
       "    <tr>\n",
       "      <th>invoice_id</th>\n",
       "      <td>5000000</td>\n",
       "      <td>5000001</td>\n",
       "      <td>5000002</td>\n",
       "      <td>5000003</td>\n",
       "      <td>5000004</td>\n",
       "      <td>5000005</td>\n",
       "      <td>5000006</td>\n",
       "      <td>5000007</td>\n",
       "      <td>5000008</td>\n",
       "      <td>5000009</td>\n",
       "      <td>...</td>\n",
       "      <td>5790448</td>\n",
       "      <td>5790449</td>\n",
       "      <td>5790450</td>\n",
       "      <td>5790451</td>\n",
       "      <td>5790452</td>\n",
       "      <td>5790453</td>\n",
       "      <td>5790454</td>\n",
       "      <td>5790455</td>\n",
       "      <td>5790456</td>\n",
       "      <td>5790457</td>\n",
       "    </tr>\n",
       "    <tr>\n",
       "      <th>subscription_type</th>\n",
       "      <td>0</td>\n",
       "      <td>2</td>\n",
       "      <td>0</td>\n",
       "      <td>0</td>\n",
       "      <td>1</td>\n",
       "      <td>2</td>\n",
       "      <td>0</td>\n",
       "      <td>0</td>\n",
       "      <td>0</td>\n",
       "      <td>0</td>\n",
       "      <td>...</td>\n",
       "      <td>0</td>\n",
       "      <td>0</td>\n",
       "      <td>0</td>\n",
       "      <td>0</td>\n",
       "      <td>0</td>\n",
       "      <td>0</td>\n",
       "      <td>0</td>\n",
       "      <td>3</td>\n",
       "      <td>0</td>\n",
       "      <td>0</td>\n",
       "    </tr>\n",
       "    <tr>\n",
       "      <th>price</th>\n",
       "      <td>0</td>\n",
       "      <td>10</td>\n",
       "      <td>0</td>\n",
       "      <td>0</td>\n",
       "      <td>5</td>\n",
       "      <td>10</td>\n",
       "      <td>0</td>\n",
       "      <td>0</td>\n",
       "      <td>0</td>\n",
       "      <td>0</td>\n",
       "      <td>...</td>\n",
       "      <td>0</td>\n",
       "      <td>0</td>\n",
       "      <td>0</td>\n",
       "      <td>0</td>\n",
       "      <td>0</td>\n",
       "      <td>0</td>\n",
       "      <td>0</td>\n",
       "      <td>15</td>\n",
       "      <td>0</td>\n",
       "      <td>0</td>\n",
       "    </tr>\n",
       "    <tr>\n",
       "      <th>day</th>\n",
       "      <td>31</td>\n",
       "      <td>31</td>\n",
       "      <td>31</td>\n",
       "      <td>31</td>\n",
       "      <td>31</td>\n",
       "      <td>31</td>\n",
       "      <td>31</td>\n",
       "      <td>31</td>\n",
       "      <td>31</td>\n",
       "      <td>31</td>\n",
       "      <td>...</td>\n",
       "      <td>31</td>\n",
       "      <td>31</td>\n",
       "      <td>31</td>\n",
       "      <td>31</td>\n",
       "      <td>31</td>\n",
       "      <td>31</td>\n",
       "      <td>31</td>\n",
       "      <td>31</td>\n",
       "      <td>31</td>\n",
       "      <td>31</td>\n",
       "    </tr>\n",
       "    <tr>\n",
       "      <th>day_of_week</th>\n",
       "      <td>Friday</td>\n",
       "      <td>Friday</td>\n",
       "      <td>Friday</td>\n",
       "      <td>Friday</td>\n",
       "      <td>Friday</td>\n",
       "      <td>Friday</td>\n",
       "      <td>Friday</td>\n",
       "      <td>Friday</td>\n",
       "      <td>Friday</td>\n",
       "      <td>Friday</td>\n",
       "      <td>...</td>\n",
       "      <td>Sunday</td>\n",
       "      <td>Sunday</td>\n",
       "      <td>Sunday</td>\n",
       "      <td>Sunday</td>\n",
       "      <td>Sunday</td>\n",
       "      <td>Sunday</td>\n",
       "      <td>Sunday</td>\n",
       "      <td>Sunday</td>\n",
       "      <td>Sunday</td>\n",
       "      <td>Sunday</td>\n",
       "    </tr>\n",
       "    <tr>\n",
       "      <th>weekday_number</th>\n",
       "      <td>5</td>\n",
       "      <td>5</td>\n",
       "      <td>5</td>\n",
       "      <td>5</td>\n",
       "      <td>5</td>\n",
       "      <td>5</td>\n",
       "      <td>5</td>\n",
       "      <td>5</td>\n",
       "      <td>5</td>\n",
       "      <td>5</td>\n",
       "      <td>...</td>\n",
       "      <td>7</td>\n",
       "      <td>7</td>\n",
       "      <td>7</td>\n",
       "      <td>7</td>\n",
       "      <td>7</td>\n",
       "      <td>7</td>\n",
       "      <td>7</td>\n",
       "      <td>7</td>\n",
       "      <td>7</td>\n",
       "      <td>7</td>\n",
       "    </tr>\n",
       "    <tr>\n",
       "      <th>year</th>\n",
       "      <td>2014</td>\n",
       "      <td>2014</td>\n",
       "      <td>2014</td>\n",
       "      <td>2014</td>\n",
       "      <td>2014</td>\n",
       "      <td>2014</td>\n",
       "      <td>2014</td>\n",
       "      <td>2014</td>\n",
       "      <td>2014</td>\n",
       "      <td>2014</td>\n",
       "      <td>...</td>\n",
       "      <td>2017</td>\n",
       "      <td>2017</td>\n",
       "      <td>2017</td>\n",
       "      <td>2017</td>\n",
       "      <td>2017</td>\n",
       "      <td>2017</td>\n",
       "      <td>2017</td>\n",
       "      <td>2017</td>\n",
       "      <td>2017</td>\n",
       "      <td>2017</td>\n",
       "    </tr>\n",
       "    <tr>\n",
       "      <th>month</th>\n",
       "      <td>January</td>\n",
       "      <td>January</td>\n",
       "      <td>January</td>\n",
       "      <td>January</td>\n",
       "      <td>January</td>\n",
       "      <td>January</td>\n",
       "      <td>January</td>\n",
       "      <td>January</td>\n",
       "      <td>January</td>\n",
       "      <td>January</td>\n",
       "      <td>...</td>\n",
       "      <td>December</td>\n",
       "      <td>December</td>\n",
       "      <td>December</td>\n",
       "      <td>December</td>\n",
       "      <td>December</td>\n",
       "      <td>December</td>\n",
       "      <td>December</td>\n",
       "      <td>December</td>\n",
       "      <td>December</td>\n",
       "      <td>December</td>\n",
       "    </tr>\n",
       "    <tr>\n",
       "      <th>month_number</th>\n",
       "      <td>1</td>\n",
       "      <td>1</td>\n",
       "      <td>1</td>\n",
       "      <td>1</td>\n",
       "      <td>1</td>\n",
       "      <td>1</td>\n",
       "      <td>1</td>\n",
       "      <td>1</td>\n",
       "      <td>1</td>\n",
       "      <td>1</td>\n",
       "      <td>...</td>\n",
       "      <td>12</td>\n",
       "      <td>12</td>\n",
       "      <td>12</td>\n",
       "      <td>12</td>\n",
       "      <td>12</td>\n",
       "      <td>12</td>\n",
       "      <td>12</td>\n",
       "      <td>12</td>\n",
       "      <td>12</td>\n",
       "      <td>12</td>\n",
       "    </tr>\n",
       "  </tbody>\n",
       "</table>\n",
       "<p>10 rows × 790458 columns</p>\n",
       "</div>"
      ],
      "text/plain": [
       "month_invoiced    2014-01-31 2014-01-31 2014-01-31 2014-01-31 2014-01-31  \\\n",
       "customer_id          1000000    1000001    1000002    1000003    1000004   \n",
       "invoice_id           5000000    5000001    5000002    5000003    5000004   \n",
       "subscription_type          0          2          0          0          1   \n",
       "price                      0         10          0          0          5   \n",
       "day                       31         31         31         31         31   \n",
       "day_of_week           Friday     Friday     Friday     Friday     Friday   \n",
       "weekday_number             5          5          5          5          5   \n",
       "year                    2014       2014       2014       2014       2014   \n",
       "month                January    January    January    January    January   \n",
       "month_number               1          1          1          1          1   \n",
       "\n",
       "month_invoiced    2014-01-31 2014-01-31 2014-01-31 2014-01-31 2014-01-31  ...  \\\n",
       "customer_id          1000005    1000006    1000007    1000008    1000009  ...   \n",
       "invoice_id           5000005    5000006    5000007    5000008    5000009  ...   \n",
       "subscription_type          2          0          0          0          0  ...   \n",
       "price                     10          0          0          0          0  ...   \n",
       "day                       31         31         31         31         31  ...   \n",
       "day_of_week           Friday     Friday     Friday     Friday     Friday  ...   \n",
       "weekday_number             5          5          5          5          5  ...   \n",
       "year                    2014       2014       2014       2014       2014  ...   \n",
       "month                January    January    January    January    January  ...   \n",
       "month_number               1          1          1          1          1  ...   \n",
       "\n",
       "month_invoiced    2017-12-31 2017-12-31 2017-12-31 2017-12-31 2017-12-31  \\\n",
       "customer_id          1029390    1029391    1029392    1029393    1029394   \n",
       "invoice_id           5790448    5790449    5790450    5790451    5790452   \n",
       "subscription_type          0          0          0          0          0   \n",
       "price                      0          0          0          0          0   \n",
       "day                       31         31         31         31         31   \n",
       "day_of_week           Sunday     Sunday     Sunday     Sunday     Sunday   \n",
       "weekday_number             7          7          7          7          7   \n",
       "year                    2017       2017       2017       2017       2017   \n",
       "month               December   December   December   December   December   \n",
       "month_number              12         12         12         12         12   \n",
       "\n",
       "month_invoiced    2017-12-31 2017-12-31 2017-12-31 2017-12-31 2017-12-31  \n",
       "customer_id          1029395    1029396    1029397    1029398    1029399  \n",
       "invoice_id           5790453    5790454    5790455    5790456    5790457  \n",
       "subscription_type          0          0          3          0          0  \n",
       "price                      0          0         15          0          0  \n",
       "day                       31         31         31         31         31  \n",
       "day_of_week           Sunday     Sunday     Sunday     Sunday     Sunday  \n",
       "weekday_number             7          7          7          7          7  \n",
       "year                    2017       2017       2017       2017       2017  \n",
       "month               December   December   December   December   December  \n",
       "month_number              12         12         12         12         12  \n",
       "\n",
       "[10 rows x 790458 columns]"
      ]
     },
     "execution_count": 16,
     "metadata": {},
     "output_type": "execute_result"
    }
   ],
   "source": [
    "# Check work\n",
    "df.T"
   ]
  },
  {
   "cell_type": "markdown",
   "id": "80545056",
   "metadata": {},
   "source": [
    "<div class=\"alert alert-info\">\n",
    "\n",
    "\n",
    "### Observations:\n",
    "* invoice_id is a unique index of sales\n",
    "* customer_id is duplicated as same customers make multiple invoice transactions"
   ]
  },
  {
   "cell_type": "code",
   "execution_count": 17,
   "id": "a1238575",
   "metadata": {},
   "outputs": [
    {
     "data": {
      "text/plain": [
       "790458"
      ]
     },
     "execution_count": 17,
     "metadata": {},
     "output_type": "execute_result"
    }
   ],
   "source": [
    "df.shape[0]"
   ]
  },
  {
   "cell_type": "code",
   "execution_count": 18,
   "id": "eb598668",
   "metadata": {},
   "outputs": [
    {
     "data": {
      "text/plain": [
       "790458"
      ]
     },
     "execution_count": 18,
     "metadata": {},
     "output_type": "execute_result"
    }
   ],
   "source": [
    "df.invoice_id.nunique()"
   ]
  },
  {
   "cell_type": "code",
   "execution_count": 19,
   "id": "b9ddb903",
   "metadata": {},
   "outputs": [
    {
     "data": {
      "text/plain": [
       "29400"
      ]
     },
     "execution_count": 19,
     "metadata": {},
     "output_type": "execute_result"
    }
   ],
   "source": [
    "df.customer_id.nunique()"
   ]
  },
  {
   "cell_type": "code",
   "execution_count": 20,
   "id": "b6c7a95b",
   "metadata": {},
   "outputs": [
    {
     "data": {
      "text/plain": [
       "1014700    48\n",
       "1008258    48\n",
       "1008248    48\n",
       "1008249    48\n",
       "1008251    48\n",
       "           ..\n",
       "1011602     2\n",
       "1008136     2\n",
       "1008141     2\n",
       "1017892     2\n",
       "1011582     2\n",
       "Name: customer_id, Length: 28000, dtype: int64"
      ]
     },
     "execution_count": 20,
     "metadata": {},
     "output_type": "execute_result"
    }
   ],
   "source": [
    "df.customer_id.value_counts(ascending=False).head(28_000)"
   ]
  },
  {
   "cell_type": "code",
   "execution_count": 21,
   "id": "e24c2a5b",
   "metadata": {
    "scrolled": true
   },
   "outputs": [
    {
     "data": {
      "text/html": [
       "<div>\n",
       "<style scoped>\n",
       "    .dataframe tbody tr th:only-of-type {\n",
       "        vertical-align: middle;\n",
       "    }\n",
       "\n",
       "    .dataframe tbody tr th {\n",
       "        vertical-align: top;\n",
       "    }\n",
       "\n",
       "    .dataframe thead th {\n",
       "        text-align: right;\n",
       "    }\n",
       "</style>\n",
       "<table border=\"1\" class=\"dataframe\">\n",
       "  <thead>\n",
       "    <tr style=\"text-align: right;\">\n",
       "      <th>month_invoiced</th>\n",
       "      <th>2014-01-31</th>\n",
       "      <th>2014-01-31</th>\n",
       "      <th>2014-01-31</th>\n",
       "      <th>2014-01-31</th>\n",
       "      <th>2014-01-31</th>\n",
       "      <th>2014-01-31</th>\n",
       "      <th>2014-01-31</th>\n",
       "      <th>2014-01-31</th>\n",
       "      <th>2014-01-31</th>\n",
       "      <th>2014-01-31</th>\n",
       "      <th>...</th>\n",
       "      <th>2017-12-31</th>\n",
       "      <th>2017-12-31</th>\n",
       "      <th>2017-12-31</th>\n",
       "      <th>2017-12-31</th>\n",
       "      <th>2017-12-31</th>\n",
       "      <th>2017-12-31</th>\n",
       "      <th>2017-12-31</th>\n",
       "      <th>2017-12-31</th>\n",
       "      <th>2017-12-31</th>\n",
       "      <th>2017-12-31</th>\n",
       "    </tr>\n",
       "  </thead>\n",
       "  <tbody>\n",
       "    <tr>\n",
       "      <th>customer_id</th>\n",
       "      <td>1000000</td>\n",
       "      <td>1000001</td>\n",
       "      <td>1000002</td>\n",
       "      <td>1000003</td>\n",
       "      <td>1000004</td>\n",
       "      <td>1000005</td>\n",
       "      <td>1000006</td>\n",
       "      <td>1000007</td>\n",
       "      <td>1000008</td>\n",
       "      <td>1000009</td>\n",
       "      <td>...</td>\n",
       "      <td>1029390</td>\n",
       "      <td>1029391</td>\n",
       "      <td>1029392</td>\n",
       "      <td>1029393</td>\n",
       "      <td>1029394</td>\n",
       "      <td>1029395</td>\n",
       "      <td>1029396</td>\n",
       "      <td>1029397</td>\n",
       "      <td>1029398</td>\n",
       "      <td>1029399</td>\n",
       "    </tr>\n",
       "    <tr>\n",
       "      <th>invoice_id</th>\n",
       "      <td>5000000</td>\n",
       "      <td>5000001</td>\n",
       "      <td>5000002</td>\n",
       "      <td>5000003</td>\n",
       "      <td>5000004</td>\n",
       "      <td>5000005</td>\n",
       "      <td>5000006</td>\n",
       "      <td>5000007</td>\n",
       "      <td>5000008</td>\n",
       "      <td>5000009</td>\n",
       "      <td>...</td>\n",
       "      <td>5790448</td>\n",
       "      <td>5790449</td>\n",
       "      <td>5790450</td>\n",
       "      <td>5790451</td>\n",
       "      <td>5790452</td>\n",
       "      <td>5790453</td>\n",
       "      <td>5790454</td>\n",
       "      <td>5790455</td>\n",
       "      <td>5790456</td>\n",
       "      <td>5790457</td>\n",
       "    </tr>\n",
       "    <tr>\n",
       "      <th>subscription_type</th>\n",
       "      <td>0</td>\n",
       "      <td>2</td>\n",
       "      <td>0</td>\n",
       "      <td>0</td>\n",
       "      <td>1</td>\n",
       "      <td>2</td>\n",
       "      <td>0</td>\n",
       "      <td>0</td>\n",
       "      <td>0</td>\n",
       "      <td>0</td>\n",
       "      <td>...</td>\n",
       "      <td>0</td>\n",
       "      <td>0</td>\n",
       "      <td>0</td>\n",
       "      <td>0</td>\n",
       "      <td>0</td>\n",
       "      <td>0</td>\n",
       "      <td>0</td>\n",
       "      <td>3</td>\n",
       "      <td>0</td>\n",
       "      <td>0</td>\n",
       "    </tr>\n",
       "    <tr>\n",
       "      <th>price</th>\n",
       "      <td>0</td>\n",
       "      <td>10</td>\n",
       "      <td>0</td>\n",
       "      <td>0</td>\n",
       "      <td>5</td>\n",
       "      <td>10</td>\n",
       "      <td>0</td>\n",
       "      <td>0</td>\n",
       "      <td>0</td>\n",
       "      <td>0</td>\n",
       "      <td>...</td>\n",
       "      <td>0</td>\n",
       "      <td>0</td>\n",
       "      <td>0</td>\n",
       "      <td>0</td>\n",
       "      <td>0</td>\n",
       "      <td>0</td>\n",
       "      <td>0</td>\n",
       "      <td>15</td>\n",
       "      <td>0</td>\n",
       "      <td>0</td>\n",
       "    </tr>\n",
       "    <tr>\n",
       "      <th>day</th>\n",
       "      <td>31</td>\n",
       "      <td>31</td>\n",
       "      <td>31</td>\n",
       "      <td>31</td>\n",
       "      <td>31</td>\n",
       "      <td>31</td>\n",
       "      <td>31</td>\n",
       "      <td>31</td>\n",
       "      <td>31</td>\n",
       "      <td>31</td>\n",
       "      <td>...</td>\n",
       "      <td>31</td>\n",
       "      <td>31</td>\n",
       "      <td>31</td>\n",
       "      <td>31</td>\n",
       "      <td>31</td>\n",
       "      <td>31</td>\n",
       "      <td>31</td>\n",
       "      <td>31</td>\n",
       "      <td>31</td>\n",
       "      <td>31</td>\n",
       "    </tr>\n",
       "    <tr>\n",
       "      <th>day_of_week</th>\n",
       "      <td>Friday</td>\n",
       "      <td>Friday</td>\n",
       "      <td>Friday</td>\n",
       "      <td>Friday</td>\n",
       "      <td>Friday</td>\n",
       "      <td>Friday</td>\n",
       "      <td>Friday</td>\n",
       "      <td>Friday</td>\n",
       "      <td>Friday</td>\n",
       "      <td>Friday</td>\n",
       "      <td>...</td>\n",
       "      <td>Sunday</td>\n",
       "      <td>Sunday</td>\n",
       "      <td>Sunday</td>\n",
       "      <td>Sunday</td>\n",
       "      <td>Sunday</td>\n",
       "      <td>Sunday</td>\n",
       "      <td>Sunday</td>\n",
       "      <td>Sunday</td>\n",
       "      <td>Sunday</td>\n",
       "      <td>Sunday</td>\n",
       "    </tr>\n",
       "    <tr>\n",
       "      <th>weekday_number</th>\n",
       "      <td>5</td>\n",
       "      <td>5</td>\n",
       "      <td>5</td>\n",
       "      <td>5</td>\n",
       "      <td>5</td>\n",
       "      <td>5</td>\n",
       "      <td>5</td>\n",
       "      <td>5</td>\n",
       "      <td>5</td>\n",
       "      <td>5</td>\n",
       "      <td>...</td>\n",
       "      <td>7</td>\n",
       "      <td>7</td>\n",
       "      <td>7</td>\n",
       "      <td>7</td>\n",
       "      <td>7</td>\n",
       "      <td>7</td>\n",
       "      <td>7</td>\n",
       "      <td>7</td>\n",
       "      <td>7</td>\n",
       "      <td>7</td>\n",
       "    </tr>\n",
       "    <tr>\n",
       "      <th>year</th>\n",
       "      <td>2014</td>\n",
       "      <td>2014</td>\n",
       "      <td>2014</td>\n",
       "      <td>2014</td>\n",
       "      <td>2014</td>\n",
       "      <td>2014</td>\n",
       "      <td>2014</td>\n",
       "      <td>2014</td>\n",
       "      <td>2014</td>\n",
       "      <td>2014</td>\n",
       "      <td>...</td>\n",
       "      <td>2017</td>\n",
       "      <td>2017</td>\n",
       "      <td>2017</td>\n",
       "      <td>2017</td>\n",
       "      <td>2017</td>\n",
       "      <td>2017</td>\n",
       "      <td>2017</td>\n",
       "      <td>2017</td>\n",
       "      <td>2017</td>\n",
       "      <td>2017</td>\n",
       "    </tr>\n",
       "    <tr>\n",
       "      <th>month</th>\n",
       "      <td>January</td>\n",
       "      <td>January</td>\n",
       "      <td>January</td>\n",
       "      <td>January</td>\n",
       "      <td>January</td>\n",
       "      <td>January</td>\n",
       "      <td>January</td>\n",
       "      <td>January</td>\n",
       "      <td>January</td>\n",
       "      <td>January</td>\n",
       "      <td>...</td>\n",
       "      <td>December</td>\n",
       "      <td>December</td>\n",
       "      <td>December</td>\n",
       "      <td>December</td>\n",
       "      <td>December</td>\n",
       "      <td>December</td>\n",
       "      <td>December</td>\n",
       "      <td>December</td>\n",
       "      <td>December</td>\n",
       "      <td>December</td>\n",
       "    </tr>\n",
       "    <tr>\n",
       "      <th>month_number</th>\n",
       "      <td>1</td>\n",
       "      <td>1</td>\n",
       "      <td>1</td>\n",
       "      <td>1</td>\n",
       "      <td>1</td>\n",
       "      <td>1</td>\n",
       "      <td>1</td>\n",
       "      <td>1</td>\n",
       "      <td>1</td>\n",
       "      <td>1</td>\n",
       "      <td>...</td>\n",
       "      <td>12</td>\n",
       "      <td>12</td>\n",
       "      <td>12</td>\n",
       "      <td>12</td>\n",
       "      <td>12</td>\n",
       "      <td>12</td>\n",
       "      <td>12</td>\n",
       "      <td>12</td>\n",
       "      <td>12</td>\n",
       "      <td>12</td>\n",
       "    </tr>\n",
       "  </tbody>\n",
       "</table>\n",
       "<p>10 rows × 790458 columns</p>\n",
       "</div>"
      ],
      "text/plain": [
       "month_invoiced    2014-01-31 2014-01-31 2014-01-31 2014-01-31 2014-01-31  \\\n",
       "customer_id          1000000    1000001    1000002    1000003    1000004   \n",
       "invoice_id           5000000    5000001    5000002    5000003    5000004   \n",
       "subscription_type          0          2          0          0          1   \n",
       "price                      0         10          0          0          5   \n",
       "day                       31         31         31         31         31   \n",
       "day_of_week           Friday     Friday     Friday     Friday     Friday   \n",
       "weekday_number             5          5          5          5          5   \n",
       "year                    2014       2014       2014       2014       2014   \n",
       "month                January    January    January    January    January   \n",
       "month_number               1          1          1          1          1   \n",
       "\n",
       "month_invoiced    2014-01-31 2014-01-31 2014-01-31 2014-01-31 2014-01-31  ...  \\\n",
       "customer_id          1000005    1000006    1000007    1000008    1000009  ...   \n",
       "invoice_id           5000005    5000006    5000007    5000008    5000009  ...   \n",
       "subscription_type          2          0          0          0          0  ...   \n",
       "price                     10          0          0          0          0  ...   \n",
       "day                       31         31         31         31         31  ...   \n",
       "day_of_week           Friday     Friday     Friday     Friday     Friday  ...   \n",
       "weekday_number             5          5          5          5          5  ...   \n",
       "year                    2014       2014       2014       2014       2014  ...   \n",
       "month                January    January    January    January    January  ...   \n",
       "month_number               1          1          1          1          1  ...   \n",
       "\n",
       "month_invoiced    2017-12-31 2017-12-31 2017-12-31 2017-12-31 2017-12-31  \\\n",
       "customer_id          1029390    1029391    1029392    1029393    1029394   \n",
       "invoice_id           5790448    5790449    5790450    5790451    5790452   \n",
       "subscription_type          0          0          0          0          0   \n",
       "price                      0          0          0          0          0   \n",
       "day                       31         31         31         31         31   \n",
       "day_of_week           Sunday     Sunday     Sunday     Sunday     Sunday   \n",
       "weekday_number             7          7          7          7          7   \n",
       "year                    2017       2017       2017       2017       2017   \n",
       "month               December   December   December   December   December   \n",
       "month_number              12         12         12         12         12   \n",
       "\n",
       "month_invoiced    2017-12-31 2017-12-31 2017-12-31 2017-12-31 2017-12-31  \n",
       "customer_id          1029395    1029396    1029397    1029398    1029399  \n",
       "invoice_id           5790453    5790454    5790455    5790456    5790457  \n",
       "subscription_type          0          0          3          0          0  \n",
       "price                      0          0         15          0          0  \n",
       "day                       31         31         31         31         31  \n",
       "day_of_week           Sunday     Sunday     Sunday     Sunday     Sunday  \n",
       "weekday_number             7          7          7          7          7  \n",
       "year                    2017       2017       2017       2017       2017  \n",
       "month               December   December   December   December   December  \n",
       "month_number              12         12         12         12         12  \n",
       "\n",
       "[10 rows x 790458 columns]"
      ]
     },
     "execution_count": 21,
     "metadata": {},
     "output_type": "execute_result"
    }
   ],
   "source": [
    "df.T"
   ]
  },
  {
   "cell_type": "code",
   "execution_count": 22,
   "id": "6b190edb",
   "metadata": {
    "scrolled": false
   },
   "outputs": [
    {
     "data": {
      "text/plain": [
       "Text(0.5, 1.0, 'How many observations are there each month?')"
      ]
     },
     "execution_count": 22,
     "metadata": {},
     "output_type": "execute_result"
    },
    {
     "data": {
      "image/png": "[encoded data removed]",
      "text/plain": [
       "<Figure size 432x288 with 1 Axes>"
      ]
     },
     "metadata": {
      "needs_background": "light"
     },
     "output_type": "display_data"
    }
   ],
   "source": [
    "# Resample by Month and Plot\n",
    "df.resample('M').size().plot()\n",
    "plt.ylabel('# of Observations')\n",
    "plt.title('How many observations are there each month?')"
   ]
  },
  {
   "cell_type": "code",
   "execution_count": 23,
   "id": "5b7ee38d",
   "metadata": {},
   "outputs": [
    {
     "data": {
      "text/plain": [
       "<AxesSubplot:xlabel='month_invoiced'>"
      ]
     },
     "execution_count": 23,
     "metadata": {},
     "output_type": "execute_result"
    },
    {
     "data": {
      "image/png": "[encoded data removed]",
      "text/plain": [
       "<Figure size 432x288 with 1 Axes>"
      ]
     },
     "metadata": {
      "needs_background": "light"
     },
     "output_type": "display_data"
    }
   ],
   "source": [
    "# resample data on yearly basis and plot\n",
    "df.invoice_id.resample('Y').count().plot()\n",
    "#plt.ylim(1200,1400)"
   ]
  },
  {
   "cell_type": "code",
   "execution_count": 24,
   "id": "5cd4d341",
   "metadata": {
    "scrolled": false
   },
   "outputs": [
    {
     "data": {
      "text/plain": [
       "[Text(0.5, 1.0, 'Revenue Over time'),\n",
       " Text(0, 0.5, 'Revenue'),\n",
       " Text(0.5, 0, '')]"
      ]
     },
     "execution_count": 24,
     "metadata": {},
     "output_type": "execute_result"
    },
    {
     "data": {
      "image/png": "[encoded data removed]",
      "text/plain": [
       "<Figure size 432x288 with 1 Axes>"
      ]
     },
     "metadata": {
      "needs_background": "light"
     },
     "output_type": "display_data"
    }
   ],
   "source": [
    "ax = df.resample('M').price.sum().plot()\n",
    "ax.yaxis.set_major_formatter(StrMethodFormatter('${x:,}'))\n",
    "ax.set(title='Revenue Over time', ylabel='Revenue', xlabel='')"
   ]
  },
  {
   "cell_type": "code",
   "execution_count": 25,
   "id": "16515a59",
   "metadata": {},
   "outputs": [
    {
     "data": {
      "text/plain": [
       "<AxesSubplot:xlabel='month_invoiced'>"
      ]
     },
     "execution_count": 25,
     "metadata": {},
     "output_type": "execute_result"
    },
    {
     "data": {
      "image/png": "[encoded data removed]",
      "text/plain": [
       "<Figure size 432x288 with 1 Axes>"
      ]
     },
     "metadata": {
      "needs_background": "light"
     },
     "output_type": "display_data"
    }
   ],
   "source": [
    "# resample data on yearly basis and plot\n",
    "df.price.resample('Y').mean().plot()\n",
    "#plt.ylim(1200,1400)"
   ]
  },
  {
   "cell_type": "markdown",
   "id": "56ccbcac",
   "metadata": {},
   "source": [
    "### Create a subseasonal plot by month of Average Price."
   ]
  },
  {
   "cell_type": "code",
   "execution_count": 26,
   "id": "5d7f700f",
   "metadata": {
    "scrolled": true
   },
   "outputs": [
    {
     "data": {
      "text/html": [
       "<div>\n",
       "<style scoped>\n",
       "    .dataframe tbody tr th:only-of-type {\n",
       "        vertical-align: middle;\n",
       "    }\n",
       "\n",
       "    .dataframe tbody tr th {\n",
       "        vertical-align: top;\n",
       "    }\n",
       "\n",
       "    .dataframe thead th {\n",
       "        text-align: right;\n",
       "    }\n",
       "</style>\n",
       "<table border=\"1\" class=\"dataframe\">\n",
       "  <thead>\n",
       "    <tr style=\"text-align: right;\">\n",
       "      <th>month_invoiced</th>\n",
       "      <th>01-Jan</th>\n",
       "      <th>02-Feb</th>\n",
       "      <th>03-Mar</th>\n",
       "      <th>04-Apr</th>\n",
       "      <th>05-May</th>\n",
       "      <th>06-Jun</th>\n",
       "      <th>07-Jul</th>\n",
       "      <th>08-Aug</th>\n",
       "      <th>09-Sep</th>\n",
       "      <th>10-Oct</th>\n",
       "      <th>11-Nov</th>\n",
       "      <th>12-Dec</th>\n",
       "    </tr>\n",
       "    <tr>\n",
       "      <th>month_invoiced</th>\n",
       "      <th></th>\n",
       "      <th></th>\n",
       "      <th></th>\n",
       "      <th></th>\n",
       "      <th></th>\n",
       "      <th></th>\n",
       "      <th></th>\n",
       "      <th></th>\n",
       "      <th></th>\n",
       "      <th></th>\n",
       "      <th></th>\n",
       "      <th></th>\n",
       "    </tr>\n",
       "  </thead>\n",
       "  <tbody>\n",
       "    <tr>\n",
       "      <th>2014</th>\n",
       "      <td>1.792500</td>\n",
       "      <td>1.878283</td>\n",
       "      <td>1.953926</td>\n",
       "      <td>2.022099</td>\n",
       "      <td>2.099527</td>\n",
       "      <td>2.166982</td>\n",
       "      <td>2.237017</td>\n",
       "      <td>2.314160</td>\n",
       "      <td>2.383205</td>\n",
       "      <td>2.450718</td>\n",
       "      <td>2.510058</td>\n",
       "      <td>2.567793</td>\n",
       "    </tr>\n",
       "    <tr>\n",
       "      <th>2015</th>\n",
       "      <td>2.633070</td>\n",
       "      <td>2.687783</td>\n",
       "      <td>2.739589</td>\n",
       "      <td>2.794659</td>\n",
       "      <td>2.846154</td>\n",
       "      <td>2.895722</td>\n",
       "      <td>2.955873</td>\n",
       "      <td>3.002616</td>\n",
       "      <td>3.058305</td>\n",
       "      <td>3.112408</td>\n",
       "      <td>3.128089</td>\n",
       "      <td>3.166031</td>\n",
       "    </tr>\n",
       "    <tr>\n",
       "      <th>2016</th>\n",
       "      <td>3.218622</td>\n",
       "      <td>3.243336</td>\n",
       "      <td>3.271469</td>\n",
       "      <td>3.307980</td>\n",
       "      <td>3.335990</td>\n",
       "      <td>3.367478</td>\n",
       "      <td>3.408473</td>\n",
       "      <td>3.447737</td>\n",
       "      <td>3.476050</td>\n",
       "      <td>3.512282</td>\n",
       "      <td>3.546747</td>\n",
       "      <td>3.569420</td>\n",
       "    </tr>\n",
       "    <tr>\n",
       "      <th>2017</th>\n",
       "      <td>3.598046</td>\n",
       "      <td>3.625263</td>\n",
       "      <td>3.646778</td>\n",
       "      <td>3.660126</td>\n",
       "      <td>3.684974</td>\n",
       "      <td>3.708681</td>\n",
       "      <td>3.750699</td>\n",
       "      <td>3.787740</td>\n",
       "      <td>3.816078</td>\n",
       "      <td>3.835197</td>\n",
       "      <td>3.851269</td>\n",
       "      <td>3.866969</td>\n",
       "    </tr>\n",
       "  </tbody>\n",
       "</table>\n",
       "</div>"
      ],
      "text/plain": [
       "month_invoiced    01-Jan    02-Feb    03-Mar    04-Apr    05-May    06-Jun  \\\n",
       "month_invoiced                                                               \n",
       "2014            1.792500  1.878283  1.953926  2.022099  2.099527  2.166982   \n",
       "2015            2.633070  2.687783  2.739589  2.794659  2.846154  2.895722   \n",
       "2016            3.218622  3.243336  3.271469  3.307980  3.335990  3.367478   \n",
       "2017            3.598046  3.625263  3.646778  3.660126  3.684974  3.708681   \n",
       "\n",
       "month_invoiced    07-Jul    08-Aug    09-Sep    10-Oct    11-Nov    12-Dec  \n",
       "month_invoiced                                                              \n",
       "2014            2.237017  2.314160  2.383205  2.450718  2.510058  2.567793  \n",
       "2015            2.955873  3.002616  3.058305  3.112408  3.128089  3.166031  \n",
       "2016            3.408473  3.447737  3.476050  3.512282  3.546747  3.569420  \n",
       "2017            3.750699  3.787740  3.816078  3.835197  3.851269  3.866969  "
      ]
     },
     "execution_count": 26,
     "metadata": {},
     "output_type": "execute_result"
    }
   ],
   "source": [
    "y = df.price\n",
    "table = y.groupby([y.index.strftime('%Y'), y.index.strftime('%m-%b')]).mean().unstack()\n",
    "\n",
    "table.head()"
   ]
  },
  {
   "cell_type": "code",
   "execution_count": 27,
   "id": "6a581068",
   "metadata": {},
   "outputs": [
    {
     "data": {
      "image/png": "[encoded data removed]",
      "text/plain": [
       "<Figure size 1800x576 with 12 Axes>"
      ]
     },
     "metadata": {
      "needs_background": "light"
     },
     "output_type": "display_data"
    }
   ],
   "source": [
    "fig, axs = plt.subplots(1, 12, sharey=True, sharex=True, figsize=(25,8))\n",
    "for ax, (month, subset) in zip(axs, table.iteritems()):\n",
    "    subset.plot(ax=ax, title=month)\n",
    "    x_left, x_right = ax.get_xlim()\n",
    "    ax.hlines(subset.mean(), x_left, x_right, ls='--')\n",
    "    ax.set(xlabel='')\n",
    "\n",
    "fig.suptitle('Seasonal Subseries Plot') # super-title for the overall figure\n",
    "fig.subplots_adjust(wspace=0)"
   ]
  },
  {
   "cell_type": "code",
   "execution_count": 28,
   "id": "4ba60429",
   "metadata": {},
   "outputs": [
    {
     "data": {
      "image/png": "[encoded data removed]",
      "text/plain": [
       "<Figure size 1800x576 with 12 Axes>"
      ]
     },
     "metadata": {
      "needs_background": "light"
     },
     "output_type": "display_data"
    }
   ],
   "source": [
    "fig, axs = plt.subplots(3, 4, sharex=False, sharey=True, figsize=(25,8))\n",
    "\n",
    "for ax, (month, subset) in zip(axs.ravel(), table.iteritems()):\n",
    "    subset.plot(ax=ax, title=month[3:])\n",
    "    ax.hlines(subset.mean(), *ax.get_xlim(), ls = '--')\n",
    "fig.subplots_adjust(wspace=0)\n",
    "plt.tight_layout()"
   ]
  },
  {
   "cell_type": "markdown",
   "id": "737f1492",
   "metadata": {},
   "source": [
    "### Create a subseasonal plot by month of Invoice Transaction count."
   ]
  },
  {
   "cell_type": "code",
   "execution_count": 29,
   "id": "1662faaf",
   "metadata": {
    "scrolled": true
   },
   "outputs": [
    {
     "data": {
      "text/html": [
       "<div>\n",
       "<style scoped>\n",
       "    .dataframe tbody tr th:only-of-type {\n",
       "        vertical-align: middle;\n",
       "    }\n",
       "\n",
       "    .dataframe tbody tr th {\n",
       "        vertical-align: top;\n",
       "    }\n",
       "\n",
       "    .dataframe thead th {\n",
       "        text-align: right;\n",
       "    }\n",
       "</style>\n",
       "<table border=\"1\" class=\"dataframe\">\n",
       "  <thead>\n",
       "    <tr style=\"text-align: right;\">\n",
       "      <th>month_invoiced</th>\n",
       "      <th>01-Jan</th>\n",
       "      <th>02-Feb</th>\n",
       "      <th>03-Mar</th>\n",
       "      <th>04-Apr</th>\n",
       "      <th>05-May</th>\n",
       "      <th>06-Jun</th>\n",
       "      <th>07-Jul</th>\n",
       "      <th>08-Aug</th>\n",
       "      <th>09-Sep</th>\n",
       "      <th>10-Oct</th>\n",
       "      <th>11-Nov</th>\n",
       "      <th>12-Dec</th>\n",
       "    </tr>\n",
       "    <tr>\n",
       "      <th>month_invoiced</th>\n",
       "      <th></th>\n",
       "      <th></th>\n",
       "      <th></th>\n",
       "      <th></th>\n",
       "      <th></th>\n",
       "      <th></th>\n",
       "      <th></th>\n",
       "      <th></th>\n",
       "      <th></th>\n",
       "      <th></th>\n",
       "      <th></th>\n",
       "      <th></th>\n",
       "    </tr>\n",
       "  </thead>\n",
       "  <tbody>\n",
       "    <tr>\n",
       "      <th>2014</th>\n",
       "      <td>20000</td>\n",
       "      <td>19800</td>\n",
       "      <td>19599</td>\n",
       "      <td>19413</td>\n",
       "      <td>19221</td>\n",
       "      <td>19038</td>\n",
       "      <td>18851</td>\n",
       "      <td>18672</td>\n",
       "      <td>18494</td>\n",
       "      <td>18313</td>\n",
       "      <td>18145</td>\n",
       "      <td>17996</td>\n",
       "    </tr>\n",
       "    <tr>\n",
       "      <th>2015</th>\n",
       "      <td>17829</td>\n",
       "      <td>17680</td>\n",
       "      <td>17530</td>\n",
       "      <td>17376</td>\n",
       "      <td>17225</td>\n",
       "      <td>17089</td>\n",
       "      <td>16951</td>\n",
       "      <td>16817</td>\n",
       "      <td>16671</td>\n",
       "      <td>16529</td>\n",
       "      <td>16387</td>\n",
       "      <td>16268</td>\n",
       "    </tr>\n",
       "    <tr>\n",
       "      <th>2016</th>\n",
       "      <td>16142</td>\n",
       "      <td>16019</td>\n",
       "      <td>15895</td>\n",
       "      <td>15777</td>\n",
       "      <td>15685</td>\n",
       "      <td>15571</td>\n",
       "      <td>15460</td>\n",
       "      <td>15355</td>\n",
       "      <td>15240</td>\n",
       "      <td>15144</td>\n",
       "      <td>15049</td>\n",
       "      <td>14938</td>\n",
       "    </tr>\n",
       "    <tr>\n",
       "      <th>2017</th>\n",
       "      <td>14840</td>\n",
       "      <td>14741</td>\n",
       "      <td>14665</td>\n",
       "      <td>14576</td>\n",
       "      <td>14475</td>\n",
       "      <td>14400</td>\n",
       "      <td>14312</td>\n",
       "      <td>14209</td>\n",
       "      <td>14131</td>\n",
       "      <td>14041</td>\n",
       "      <td>13985</td>\n",
       "      <td>13914</td>\n",
       "    </tr>\n",
       "  </tbody>\n",
       "</table>\n",
       "</div>"
      ],
      "text/plain": [
       "month_invoiced  01-Jan  02-Feb  03-Mar  04-Apr  05-May  06-Jun  07-Jul  \\\n",
       "month_invoiced                                                           \n",
       "2014             20000   19800   19599   19413   19221   19038   18851   \n",
       "2015             17829   17680   17530   17376   17225   17089   16951   \n",
       "2016             16142   16019   15895   15777   15685   15571   15460   \n",
       "2017             14840   14741   14665   14576   14475   14400   14312   \n",
       "\n",
       "month_invoiced  08-Aug  09-Sep  10-Oct  11-Nov  12-Dec  \n",
       "month_invoiced                                          \n",
       "2014             18672   18494   18313   18145   17996  \n",
       "2015             16817   16671   16529   16387   16268  \n",
       "2016             15355   15240   15144   15049   14938  \n",
       "2017             14209   14131   14041   13985   13914  "
      ]
     },
     "execution_count": 29,
     "metadata": {},
     "output_type": "execute_result"
    }
   ],
   "source": [
    "y = df.invoice_id\n",
    "table = y.groupby([y.index.strftime('%Y'), y.index.strftime('%m-%b')]).count().unstack()\n",
    "\n",
    "table.head()"
   ]
  },
  {
   "cell_type": "code",
   "execution_count": 30,
   "id": "36c71c7a",
   "metadata": {},
   "outputs": [
    {
     "data": {
      "image/png": "[encoded data removed]",
      "text/plain": [
       "<Figure size 1800x576 with 12 Axes>"
      ]
     },
     "metadata": {
      "needs_background": "light"
     },
     "output_type": "display_data"
    }
   ],
   "source": [
    "fig, axs = plt.subplots(1, 12, sharey=True, sharex=True, figsize=(25,8))\n",
    "for ax, (month, subset) in zip(axs, table.iteritems()):\n",
    "    subset.plot(ax=ax, title=month)\n",
    "    x_left, x_right = ax.get_xlim()\n",
    "    ax.hlines(subset.count(), x_left, x_right, ls='--')\n",
    "    ax.set(xlabel='')\n",
    "\n",
    "fig.suptitle('Seasonal Subseries Plot') # super-title for the overall figure\n",
    "fig.subplots_adjust(wspace=0)"
   ]
  },
  {
   "cell_type": "code",
   "execution_count": 31,
   "id": "0709bed7",
   "metadata": {},
   "outputs": [
    {
     "data": {
      "image/png": "[encoded data removed]",
      "text/plain": [
       "<Figure size 1800x576 with 12 Axes>"
      ]
     },
     "metadata": {
      "needs_background": "light"
     },
     "output_type": "display_data"
    }
   ],
   "source": [
    "fig, axs = plt.subplots(3, 4, sharex=False, sharey=True, figsize=(25,8))\n",
    "\n",
    "for ax, (month, subset) in zip(axs.ravel(), table.iteritems()):\n",
    "    subset.plot(ax=ax, title=month[3:])\n",
    "    ax.hlines(subset.count(), *ax.get_xlim(), ls = '--')\n",
    "fig.subplots_adjust(wspace=0)\n",
    "plt.tight_layout()"
   ]
  },
  {
   "cell_type": "markdown",
   "id": "de89ce21",
   "metadata": {},
   "source": [
    "<div class=\"alert alert-info\">\n",
    "\n",
    "\n",
    "### Observations:\n",
    "* It appears there is a downward trend on transactions\n",
    "* But... there is an upward trend on price"
   ]
  },
  {
   "cell_type": "markdown",
   "id": "614fa9c2",
   "metadata": {},
   "source": [
    "<div class=\"alert alert-warning\">\n",
    "\n",
    "\n",
    "## 1. Split data (train/validate/test) and resample by any period except daily. Aggregate using the sum."
   ]
  },
  {
   "cell_type": "code",
   "execution_count": 32,
   "id": "0cb8f7a7",
   "metadata": {},
   "outputs": [],
   "source": [
    "price = df.resample('M')[['price']].sum()"
   ]
  },
  {
   "cell_type": "code",
   "execution_count": 33,
   "id": "99c6bc58",
   "metadata": {},
   "outputs": [
    {
     "data": {
      "text/html": [
       "<div>\n",
       "<style scoped>\n",
       "    .dataframe tbody tr th:only-of-type {\n",
       "        vertical-align: middle;\n",
       "    }\n",
       "\n",
       "    .dataframe tbody tr th {\n",
       "        vertical-align: top;\n",
       "    }\n",
       "\n",
       "    .dataframe thead th {\n",
       "        text-align: right;\n",
       "    }\n",
       "</style>\n",
       "<table border=\"1\" class=\"dataframe\">\n",
       "  <thead>\n",
       "    <tr style=\"text-align: right;\">\n",
       "      <th>month_invoiced</th>\n",
       "      <th>2014-01-31</th>\n",
       "      <th>2014-02-28</th>\n",
       "      <th>2014-03-31</th>\n",
       "      <th>2014-04-30</th>\n",
       "      <th>2014-05-31</th>\n",
       "      <th>2014-06-30</th>\n",
       "      <th>2014-07-31</th>\n",
       "      <th>2014-08-31</th>\n",
       "      <th>2014-09-30</th>\n",
       "      <th>2014-10-31</th>\n",
       "      <th>...</th>\n",
       "      <th>2017-03-31</th>\n",
       "      <th>2017-04-30</th>\n",
       "      <th>2017-05-31</th>\n",
       "      <th>2017-06-30</th>\n",
       "      <th>2017-07-31</th>\n",
       "      <th>2017-08-31</th>\n",
       "      <th>2017-09-30</th>\n",
       "      <th>2017-10-31</th>\n",
       "      <th>2017-11-30</th>\n",
       "      <th>2017-12-31</th>\n",
       "    </tr>\n",
       "  </thead>\n",
       "  <tbody>\n",
       "    <tr>\n",
       "      <th>price</th>\n",
       "      <td>35850</td>\n",
       "      <td>37190</td>\n",
       "      <td>38295</td>\n",
       "      <td>39255</td>\n",
       "      <td>40355</td>\n",
       "      <td>41255</td>\n",
       "      <td>42170</td>\n",
       "      <td>43210</td>\n",
       "      <td>44075</td>\n",
       "      <td>44880</td>\n",
       "      <td>...</td>\n",
       "      <td>53480</td>\n",
       "      <td>53350</td>\n",
       "      <td>53340</td>\n",
       "      <td>53405</td>\n",
       "      <td>53680</td>\n",
       "      <td>53820</td>\n",
       "      <td>53925</td>\n",
       "      <td>53850</td>\n",
       "      <td>53860</td>\n",
       "      <td>53805</td>\n",
       "    </tr>\n",
       "  </tbody>\n",
       "</table>\n",
       "<p>1 rows × 48 columns</p>\n",
       "</div>"
      ],
      "text/plain": [
       "month_invoiced  2014-01-31  2014-02-28  2014-03-31  2014-04-30  2014-05-31  \\\n",
       "price                35850       37190       38295       39255       40355   \n",
       "\n",
       "month_invoiced  2014-06-30  2014-07-31  2014-08-31  2014-09-30  2014-10-31  \\\n",
       "price                41255       42170       43210       44075       44880   \n",
       "\n",
       "month_invoiced  ...  2017-03-31  2017-04-30  2017-05-31  2017-06-30  \\\n",
       "price           ...       53480       53350       53340       53405   \n",
       "\n",
       "month_invoiced  2017-07-31  2017-08-31  2017-09-30  2017-10-31  2017-11-30  \\\n",
       "price                53680       53820       53925       53850       53860   \n",
       "\n",
       "month_invoiced  2017-12-31  \n",
       "price                53805  \n",
       "\n",
       "[1 rows x 48 columns]"
      ]
     },
     "execution_count": 33,
     "metadata": {},
     "output_type": "execute_result"
    }
   ],
   "source": [
    "price.T"
   ]
  },
  {
   "cell_type": "markdown",
   "id": "626bec7a",
   "metadata": {},
   "source": [
    "## Split\n",
    "\n",
    "1. We will use the training proportion method to split.    \n",
    "2. Identify the total length of the dataframe and multiply by `train_prop` to get the number of rows that equates to the first x% of the dataframe, which equates to the first x% of the time covered in the data.   (`x = train_prop * 100`)  \n",
    "3. Select row indices from 0 up to the index representing x-percentile for train, and from the index representing x-percentile through the end of the dataframe for test. In both of these, we will reset the index in order to return dataframes sorted by datetime.  \n",
    "4. Return train and test dataframes.  "
   ]
  },
  {
   "cell_type": "code",
   "execution_count": 34,
   "id": "daff4da9",
   "metadata": {},
   "outputs": [
    {
     "data": {
      "text/plain": [
       "24"
      ]
     },
     "execution_count": 34,
     "metadata": {},
     "output_type": "execute_result"
    }
   ],
   "source": [
    "int(len(price) * 0.5)"
   ]
  },
  {
   "cell_type": "code",
   "execution_count": 35,
   "id": "6385f912",
   "metadata": {},
   "outputs": [
    {
     "data": {
      "text/plain": [
       "24"
      ]
     },
     "execution_count": 35,
     "metadata": {},
     "output_type": "execute_result"
    }
   ],
   "source": [
    "# set train size to be 50% of total \n",
    "train_size = int(len(price) * 0.5)\n",
    "train_size"
   ]
  },
  {
   "cell_type": "code",
   "execution_count": 36,
   "id": "26f9d6ad",
   "metadata": {},
   "outputs": [
    {
     "data": {
      "text/plain": [
       "14"
      ]
     },
     "execution_count": 36,
     "metadata": {},
     "output_type": "execute_result"
    }
   ],
   "source": [
    "# set validate size to be 30% of total \n",
    "validate_size = int(len(price) * 0.3)\n",
    "validate_size"
   ]
  },
  {
   "cell_type": "code",
   "execution_count": 37,
   "id": "efd18269",
   "metadata": {},
   "outputs": [
    {
     "data": {
      "text/plain": [
       "10"
      ]
     },
     "execution_count": 37,
     "metadata": {},
     "output_type": "execute_result"
    }
   ],
   "source": [
    "# set test size to be number of rows remaining. \n",
    "test_size = int(len(price) - train_size - validate_size)\n",
    "test_size"
   ]
  },
  {
   "cell_type": "code",
   "execution_count": 38,
   "id": "1024b6e5",
   "metadata": {},
   "outputs": [
    {
     "data": {
      "text/plain": [
       "True"
      ]
     },
     "execution_count": 38,
     "metadata": {},
     "output_type": "execute_result"
    }
   ],
   "source": [
    "len(price) == train_size + validate_size + test_size"
   ]
  },
  {
   "cell_type": "code",
   "execution_count": 39,
   "id": "47f56310",
   "metadata": {},
   "outputs": [
    {
     "data": {
      "text/plain": [
       "38"
      ]
     },
     "execution_count": 39,
     "metadata": {},
     "output_type": "execute_result"
    }
   ],
   "source": [
    "# set end for validate\n",
    "validate_end_index = train_size + validate_size\n",
    "validate_end_index"
   ]
  },
  {
   "cell_type": "markdown",
   "id": "29733855",
   "metadata": {},
   "source": [
    "Use those values to split our dataframe"
   ]
  },
  {
   "cell_type": "code",
   "execution_count": 40,
   "id": "49766655",
   "metadata": {},
   "outputs": [],
   "source": [
    "# train will go from 0 to 23\n",
    "train = price[:train_size]"
   ]
  },
  {
   "cell_type": "code",
   "execution_count": 41,
   "id": "3da6dd69",
   "metadata": {},
   "outputs": [
    {
     "data": {
      "text/html": [
       "<div>\n",
       "<style scoped>\n",
       "    .dataframe tbody tr th:only-of-type {\n",
       "        vertical-align: middle;\n",
       "    }\n",
       "\n",
       "    .dataframe tbody tr th {\n",
       "        vertical-align: top;\n",
       "    }\n",
       "\n",
       "    .dataframe thead th {\n",
       "        text-align: right;\n",
       "    }\n",
       "</style>\n",
       "<table border=\"1\" class=\"dataframe\">\n",
       "  <thead>\n",
       "    <tr style=\"text-align: right;\">\n",
       "      <th>month_invoiced</th>\n",
       "      <th>2014-01-31</th>\n",
       "      <th>2014-02-28</th>\n",
       "      <th>2014-03-31</th>\n",
       "      <th>2014-04-30</th>\n",
       "      <th>2014-05-31</th>\n",
       "      <th>2014-06-30</th>\n",
       "      <th>2014-07-31</th>\n",
       "      <th>2014-08-31</th>\n",
       "      <th>2014-09-30</th>\n",
       "      <th>2014-10-31</th>\n",
       "      <th>...</th>\n",
       "      <th>2015-03-31</th>\n",
       "      <th>2015-04-30</th>\n",
       "      <th>2015-05-31</th>\n",
       "      <th>2015-06-30</th>\n",
       "      <th>2015-07-31</th>\n",
       "      <th>2015-08-31</th>\n",
       "      <th>2015-09-30</th>\n",
       "      <th>2015-10-31</th>\n",
       "      <th>2015-11-30</th>\n",
       "      <th>2015-12-31</th>\n",
       "    </tr>\n",
       "  </thead>\n",
       "  <tbody>\n",
       "    <tr>\n",
       "      <th>price</th>\n",
       "      <td>35850</td>\n",
       "      <td>37190</td>\n",
       "      <td>38295</td>\n",
       "      <td>39255</td>\n",
       "      <td>40355</td>\n",
       "      <td>41255</td>\n",
       "      <td>42170</td>\n",
       "      <td>43210</td>\n",
       "      <td>44075</td>\n",
       "      <td>44880</td>\n",
       "      <td>...</td>\n",
       "      <td>48025</td>\n",
       "      <td>48560</td>\n",
       "      <td>49025</td>\n",
       "      <td>49485</td>\n",
       "      <td>50105</td>\n",
       "      <td>50495</td>\n",
       "      <td>50985</td>\n",
       "      <td>51445</td>\n",
       "      <td>51260</td>\n",
       "      <td>51505</td>\n",
       "    </tr>\n",
       "  </tbody>\n",
       "</table>\n",
       "<p>1 rows × 24 columns</p>\n",
       "</div>"
      ],
      "text/plain": [
       "month_invoiced  2014-01-31  2014-02-28  2014-03-31  2014-04-30  2014-05-31  \\\n",
       "price                35850       37190       38295       39255       40355   \n",
       "\n",
       "month_invoiced  2014-06-30  2014-07-31  2014-08-31  2014-09-30  2014-10-31  \\\n",
       "price                41255       42170       43210       44075       44880   \n",
       "\n",
       "month_invoiced  ...  2015-03-31  2015-04-30  2015-05-31  2015-06-30  \\\n",
       "price           ...       48025       48560       49025       49485   \n",
       "\n",
       "month_invoiced  2015-07-31  2015-08-31  2015-09-30  2015-10-31  2015-11-30  \\\n",
       "price                50105       50495       50985       51445       51260   \n",
       "\n",
       "month_invoiced  2015-12-31  \n",
       "price                51505  \n",
       "\n",
       "[1 rows x 24 columns]"
      ]
     },
     "execution_count": 41,
     "metadata": {},
     "output_type": "execute_result"
    }
   ],
   "source": [
    "train.T"
   ]
  },
  {
   "cell_type": "code",
   "execution_count": 42,
   "id": "2de8ac09",
   "metadata": {},
   "outputs": [],
   "source": [
    "# validate will go from 24 to 37\n",
    "validate = price[train_size:validate_end_index]"
   ]
  },
  {
   "cell_type": "code",
   "execution_count": 43,
   "id": "362dda77",
   "metadata": {},
   "outputs": [
    {
     "data": {
      "text/html": [
       "<div>\n",
       "<style scoped>\n",
       "    .dataframe tbody tr th:only-of-type {\n",
       "        vertical-align: middle;\n",
       "    }\n",
       "\n",
       "    .dataframe tbody tr th {\n",
       "        vertical-align: top;\n",
       "    }\n",
       "\n",
       "    .dataframe thead th {\n",
       "        text-align: right;\n",
       "    }\n",
       "</style>\n",
       "<table border=\"1\" class=\"dataframe\">\n",
       "  <thead>\n",
       "    <tr style=\"text-align: right;\">\n",
       "      <th>month_invoiced</th>\n",
       "      <th>2016-01-31</th>\n",
       "      <th>2016-02-29</th>\n",
       "      <th>2016-03-31</th>\n",
       "      <th>2016-04-30</th>\n",
       "      <th>2016-05-31</th>\n",
       "      <th>2016-06-30</th>\n",
       "      <th>2016-07-31</th>\n",
       "      <th>2016-08-31</th>\n",
       "      <th>2016-09-30</th>\n",
       "      <th>2016-10-31</th>\n",
       "      <th>2016-11-30</th>\n",
       "      <th>2016-12-31</th>\n",
       "      <th>2017-01-31</th>\n",
       "      <th>2017-02-28</th>\n",
       "    </tr>\n",
       "  </thead>\n",
       "  <tbody>\n",
       "    <tr>\n",
       "      <th>price</th>\n",
       "      <td>51955</td>\n",
       "      <td>51955</td>\n",
       "      <td>52000</td>\n",
       "      <td>52190</td>\n",
       "      <td>52325</td>\n",
       "      <td>52435</td>\n",
       "      <td>52695</td>\n",
       "      <td>52940</td>\n",
       "      <td>52975</td>\n",
       "      <td>53190</td>\n",
       "      <td>53375</td>\n",
       "      <td>53320</td>\n",
       "      <td>53395</td>\n",
       "      <td>53440</td>\n",
       "    </tr>\n",
       "  </tbody>\n",
       "</table>\n",
       "</div>"
      ],
      "text/plain": [
       "month_invoiced  2016-01-31  2016-02-29  2016-03-31  2016-04-30  2016-05-31  \\\n",
       "price                51955       51955       52000       52190       52325   \n",
       "\n",
       "month_invoiced  2016-06-30  2016-07-31  2016-08-31  2016-09-30  2016-10-31  \\\n",
       "price                52435       52695       52940       52975       53190   \n",
       "\n",
       "month_invoiced  2016-11-30  2016-12-31  2017-01-31  2017-02-28  \n",
       "price                53375       53320       53395       53440  "
      ]
     },
     "execution_count": 43,
     "metadata": {},
     "output_type": "execute_result"
    }
   ],
   "source": [
    "validate.T"
   ]
  },
  {
   "cell_type": "code",
   "execution_count": 44,
   "id": "7d0f3f94",
   "metadata": {},
   "outputs": [],
   "source": [
    "# test will include 38 to the end\n",
    "test = price[validate_end_index:]"
   ]
  },
  {
   "cell_type": "code",
   "execution_count": 45,
   "id": "5b9231ff",
   "metadata": {},
   "outputs": [
    {
     "data": {
      "text/plain": [
       "(24, 14, 10)"
      ]
     },
     "execution_count": 45,
     "metadata": {},
     "output_type": "execute_result"
    }
   ],
   "source": [
    "train.size, validate.size, test.size"
   ]
  },
  {
   "cell_type": "markdown",
   "id": "1b9d9a96",
   "metadata": {},
   "source": [
    "# Verify Splits\n",
    "\n",
    "### Does the sum lengths of each train, validate, and test DataFrame equal the length of the original DataFrame? "
   ]
  },
  {
   "cell_type": "code",
   "execution_count": 46,
   "id": "3c4110df",
   "metadata": {},
   "outputs": [
    {
     "data": {
      "text/plain": [
       "True"
      ]
     },
     "execution_count": 46,
     "metadata": {},
     "output_type": "execute_result"
    }
   ],
   "source": [
    "# is len of train + validate + test == lenght of entire dataframe. \n",
    "len(train) + len(validate) + len(test) == len(price)"
   ]
  },
  {
   "cell_type": "code",
   "execution_count": 47,
   "id": "a9297ce7",
   "metadata": {},
   "outputs": [
    {
     "data": {
      "text/plain": [
       "True"
      ]
     },
     "execution_count": 47,
     "metadata": {},
     "output_type": "execute_result"
    }
   ],
   "source": [
    "# Do row counts of train + validate + test == row count of entire DataFrame? \n",
    "train.shape[0] + validate.shape[0] + test.shape[0] == price.shape[0]"
   ]
  },
  {
   "cell_type": "markdown",
   "id": "d6a7fe6a",
   "metadata": {},
   "source": [
    "### Is the first row of the original DataFrame and the first row of train the same? "
   ]
  },
  {
   "cell_type": "code",
   "execution_count": 48,
   "id": "c67c2613",
   "metadata": {},
   "outputs": [
    {
     "name": "stdout",
     "output_type": "stream",
     "text": [
      "                price\n",
      "month_invoiced       \n",
      "2014-01-31       True\n"
     ]
    }
   ],
   "source": [
    "print(price.head(1) == train.head(1))"
   ]
  },
  {
   "cell_type": "markdown",
   "id": "7fdca72c",
   "metadata": {},
   "source": [
    "### Is the last row of train the day before the first row of validate?"
   ]
  },
  {
   "cell_type": "code",
   "execution_count": 49,
   "id": "9bfab58f",
   "metadata": {},
   "outputs": [
    {
     "data": {
      "text/html": [
       "<div>\n",
       "<style scoped>\n",
       "    .dataframe tbody tr th:only-of-type {\n",
       "        vertical-align: middle;\n",
       "    }\n",
       "\n",
       "    .dataframe tbody tr th {\n",
       "        vertical-align: top;\n",
       "    }\n",
       "\n",
       "    .dataframe thead th {\n",
       "        text-align: right;\n",
       "    }\n",
       "</style>\n",
       "<table border=\"1\" class=\"dataframe\">\n",
       "  <thead>\n",
       "    <tr style=\"text-align: right;\">\n",
       "      <th></th>\n",
       "      <th>price</th>\n",
       "    </tr>\n",
       "    <tr>\n",
       "      <th>month_invoiced</th>\n",
       "      <th></th>\n",
       "    </tr>\n",
       "  </thead>\n",
       "  <tbody>\n",
       "    <tr>\n",
       "      <th>2015-12-31</th>\n",
       "      <td>51505</td>\n",
       "    </tr>\n",
       "    <tr>\n",
       "      <th>2016-01-31</th>\n",
       "      <td>51955</td>\n",
       "    </tr>\n",
       "  </tbody>\n",
       "</table>\n",
       "</div>"
      ],
      "text/plain": [
       "                price\n",
       "month_invoiced       \n",
       "2015-12-31      51505\n",
       "2016-01-31      51955"
      ]
     },
     "execution_count": 49,
     "metadata": {},
     "output_type": "execute_result"
    }
   ],
   "source": [
    "pd.concat([train.tail(1), validate.head(1)])"
   ]
  },
  {
   "cell_type": "markdown",
   "id": "ef464304",
   "metadata": {},
   "source": [
    "### Is the last row of validate the day before the first row of test?"
   ]
  },
  {
   "cell_type": "code",
   "execution_count": 50,
   "id": "9c91070d",
   "metadata": {},
   "outputs": [
    {
     "data": {
      "text/html": [
       "<div>\n",
       "<style scoped>\n",
       "    .dataframe tbody tr th:only-of-type {\n",
       "        vertical-align: middle;\n",
       "    }\n",
       "\n",
       "    .dataframe tbody tr th {\n",
       "        vertical-align: top;\n",
       "    }\n",
       "\n",
       "    .dataframe thead th {\n",
       "        text-align: right;\n",
       "    }\n",
       "</style>\n",
       "<table border=\"1\" class=\"dataframe\">\n",
       "  <thead>\n",
       "    <tr style=\"text-align: right;\">\n",
       "      <th></th>\n",
       "      <th>price</th>\n",
       "    </tr>\n",
       "    <tr>\n",
       "      <th>month_invoiced</th>\n",
       "      <th></th>\n",
       "    </tr>\n",
       "  </thead>\n",
       "  <tbody>\n",
       "    <tr>\n",
       "      <th>2017-02-28</th>\n",
       "      <td>53440</td>\n",
       "    </tr>\n",
       "    <tr>\n",
       "      <th>2017-03-31</th>\n",
       "      <td>53480</td>\n",
       "    </tr>\n",
       "  </tbody>\n",
       "</table>\n",
       "</div>"
      ],
      "text/plain": [
       "                price\n",
       "month_invoiced       \n",
       "2017-02-28      53440\n",
       "2017-03-31      53480"
      ]
     },
     "execution_count": 50,
     "metadata": {},
     "output_type": "execute_result"
    }
   ],
   "source": [
    "pd.concat([validate.tail(1), test.head(1)])"
   ]
  },
  {
   "cell_type": "markdown",
   "id": "f5b1d906",
   "metadata": {},
   "source": [
    "### Is the last row of test the same as the last row of original dataframe? "
   ]
  },
  {
   "cell_type": "code",
   "execution_count": 51,
   "id": "828cd639",
   "metadata": {},
   "outputs": [
    {
     "data": {
      "text/html": [
       "<div>\n",
       "<style scoped>\n",
       "    .dataframe tbody tr th:only-of-type {\n",
       "        vertical-align: middle;\n",
       "    }\n",
       "\n",
       "    .dataframe tbody tr th {\n",
       "        vertical-align: top;\n",
       "    }\n",
       "\n",
       "    .dataframe thead th {\n",
       "        text-align: right;\n",
       "    }\n",
       "</style>\n",
       "<table border=\"1\" class=\"dataframe\">\n",
       "  <thead>\n",
       "    <tr style=\"text-align: right;\">\n",
       "      <th></th>\n",
       "      <th>price</th>\n",
       "    </tr>\n",
       "    <tr>\n",
       "      <th>month_invoiced</th>\n",
       "      <th></th>\n",
       "    </tr>\n",
       "  </thead>\n",
       "  <tbody>\n",
       "    <tr>\n",
       "      <th>2017-12-31</th>\n",
       "      <td>53805</td>\n",
       "    </tr>\n",
       "    <tr>\n",
       "      <th>2017-12-31</th>\n",
       "      <td>53805</td>\n",
       "    </tr>\n",
       "  </tbody>\n",
       "</table>\n",
       "</div>"
      ],
      "text/plain": [
       "                price\n",
       "month_invoiced       \n",
       "2017-12-31      53805\n",
       "2017-12-31      53805"
      ]
     },
     "execution_count": 51,
     "metadata": {},
     "output_type": "execute_result"
    }
   ],
   "source": [
    "pd.concat([test.tail(1), price.tail(1)])"
   ]
  },
  {
   "cell_type": "markdown",
   "id": "4a8c13e6",
   "metadata": {},
   "source": [
    "### Plot data, viewing where the data is split into train and test. "
   ]
  },
  {
   "cell_type": "code",
   "execution_count": 52,
   "id": "bfb84ea4",
   "metadata": {},
   "outputs": [
    {
     "data": {
      "text/plain": [
       "Index(['price'], dtype='object')"
      ]
     },
     "execution_count": 52,
     "metadata": {},
     "output_type": "execute_result"
    }
   ],
   "source": [
    "train.columns"
   ]
  },
  {
   "cell_type": "code",
   "execution_count": 53,
   "id": "fe7603e4",
   "metadata": {},
   "outputs": [
    {
     "data": {
      "image/png": "[encoded data removed]",
      "text/plain": [
       "<Figure size 504x288 with 1 Axes>"
      ]
     },
     "metadata": {
      "needs_background": "light"
     },
     "output_type": "display_data"
    }
   ],
   "source": [
    "for col in train.columns:\n",
    "    plt.figure(figsize=(7,4))\n",
    "    plt.plot(train[col])\n",
    "    plt.plot(validate[col])\n",
    "    plt.plot(test[col])\n",
    "    plt.ylabel(col)\n",
    "    plt.title(col)\n",
    "    plt.show()"
   ]
  },
  {
   "cell_type": "markdown",
   "id": "668ebe26",
   "metadata": {},
   "source": [
    "<div class=\"alert alert-warning\">\n",
    "\n",
    "\n",
    "## 2. Forecast, plot and evaluate using each of the 4 parametric based methods we discussed:\n",
    "* Simple Average\n",
    "* Moving Average\n",
    "* Holt's Linear Trend Model\n",
    "* Based on previous year/month/etc., this is up to you."
   ]
  },
  {
   "cell_type": "markdown",
   "id": "46338e17",
   "metadata": {},
   "source": [
    "#### attempted to write ambiguously enough to use outside this workbook\n",
    "#### did not work so I am commenting it out by applying markdown to this cell\n",
    "\n",
    "def evaluate(df, target_var, yhat_df):\n",
    "    '''\n",
    "    This function will take the actual values of the target_var from validate, \n",
    "    and the predicted values stored in yhat_df, \n",
    "    and compute the rmse, rounding to 0 decimal places. \n",
    "    it will return the rmse. \n",
    "    '''\n",
    "    rmse = round(sqrt(mean_squared_error(df[target_var], yhat_df[target_var])), 0)\n",
    "    return rmse\n",
    "\n",
    "def plot_and_eval(target_var, train, validate, yhat_df):\n",
    "    '''\n",
    "    This function takes in the target var name (string), and returns a plot\n",
    "    of the values of train for that variable, validate, and the predicted values from yhat_df. \n",
    "    it will als lable the rmse. \n",
    "    '''\n",
    "    plt.figure(figsize = (12,4))\n",
    "    plt.plot(train[target_var], label='Train', linewidth=1)\n",
    "    plt.plot(validate[target_var], label='Validate', linewidth=1)\n",
    "    plt.plot(yhat_df[target_var], label=target_var)\n",
    "    plt.title(target_var)\n",
    "    plt.legend()\n",
    "    rmse = evaluate(df, target_var, yhat_df)\n",
    "    print(target_var, '-- RMSE: {:.0f}'.format(rmse))\n",
    "    plt.show()"
   ]
  },
  {
   "cell_type": "code",
   "execution_count": 54,
   "id": "f5a852bd",
   "metadata": {},
   "outputs": [],
   "source": [
    "def evaluate(target_var):\n",
    "    '''\n",
    "    This function will take the actual values of the target_var from validate, \n",
    "    and the predicted values stored in yhat_df, \n",
    "    and compute the rmse, rounding to 0 decimal places. \n",
    "    it will return the rmse. \n",
    "    '''\n",
    "    rmse = round(sqrt(mean_squared_error(validate[target_var], yhat_df[target_var])), 0)\n",
    "    return rmse\n",
    "\n",
    "def plot_and_eval(target_var):\n",
    "    '''\n",
    "    This function takes in the target var name (string), and returns a plot\n",
    "    of the values of train for that variable, validate, and the predicted values from yhat_df. \n",
    "    it will als lable the rmse. \n",
    "    '''\n",
    "    plt.figure(figsize = (12,4))\n",
    "    plt.plot(train[target_var], label='Train', linewidth=1)\n",
    "    plt.plot(validate[target_var], label='Validate', linewidth=1)\n",
    "    plt.plot(yhat_df[target_var], label=target_var)\n",
    "    plt.title(target_var)\n",
    "    plt.legend()\n",
    "    rmse = evaluate(target_var)\n",
    "    print(target_var, '-- RMSE: {:.0f}'.format(rmse))\n",
    "    plt.show()"
   ]
  },
  {
   "cell_type": "markdown",
   "id": "29dd6fca",
   "metadata": {},
   "source": [
    "Write `append_eval_df(model_type)` to append evaluation metrics for each model type, target variable, and metric type, along with the metric value into our `eval_df` data frame object. Which we will create an empty `eval_df` dataframe object to start. "
   ]
  },
  {
   "cell_type": "code",
   "execution_count": 55,
   "id": "cb79961a",
   "metadata": {},
   "outputs": [
    {
     "data": {
      "text/html": [
       "<div>\n",
       "<style scoped>\n",
       "    .dataframe tbody tr th:only-of-type {\n",
       "        vertical-align: middle;\n",
       "    }\n",
       "\n",
       "    .dataframe tbody tr th {\n",
       "        vertical-align: top;\n",
       "    }\n",
       "\n",
       "    .dataframe thead th {\n",
       "        text-align: right;\n",
       "    }\n",
       "</style>\n",
       "<table border=\"1\" class=\"dataframe\">\n",
       "  <thead>\n",
       "    <tr style=\"text-align: right;\">\n",
       "      <th></th>\n",
       "      <th>model_type</th>\n",
       "      <th>target_var</th>\n",
       "      <th>rmse</th>\n",
       "    </tr>\n",
       "  </thead>\n",
       "  <tbody>\n",
       "  </tbody>\n",
       "</table>\n",
       "</div>"
      ],
      "text/plain": [
       "Empty DataFrame\n",
       "Columns: [model_type, target_var, rmse]\n",
       "Index: []"
      ]
     },
     "execution_count": 55,
     "metadata": {},
     "output_type": "execute_result"
    }
   ],
   "source": [
    "# create an empty dataframe\n",
    "eval_df = pd.DataFrame(columns=['model_type', 'target_var', 'rmse'])\n",
    "eval_df"
   ]
  },
  {
   "cell_type": "code",
   "execution_count": 56,
   "id": "809ed988",
   "metadata": {},
   "outputs": [],
   "source": [
    "# function to store the rmse so that we can compare\n",
    "def append_eval_df(model_type, target_var):\n",
    "    '''\n",
    "    this function takes in as arguments the type of model run, and the name of the target variable. \n",
    "    It returns the eval_df with the rmse appended to it for that model and target_var. \n",
    "    '''\n",
    "    rmse = evaluate(target_var)\n",
    "    d = {'model_type': [model_type], 'target_var': [target_var],\n",
    "        'rmse': [rmse]}\n",
    "    d = pd.DataFrame(d)\n",
    "    return eval_df.append(d, ignore_index = True)"
   ]
  },
  {
   "cell_type": "markdown",
   "id": "fcb8c421",
   "metadata": {},
   "source": [
    "<div class=\"alert alert-warning\">\n",
    "\n",
    "\n",
    "## Last Observed Value"
   ]
  },
  {
   "cell_type": "code",
   "execution_count": 57,
   "id": "eed21ea7",
   "metadata": {},
   "outputs": [
    {
     "data": {
      "text/plain": [
       "51505"
      ]
     },
     "execution_count": 57,
     "metadata": {},
     "output_type": "execute_result"
    }
   ],
   "source": [
    "# take the last item of amount and assign to variable\n",
    "last_observed_value = train['price'][-1:][0]\n",
    "last_observed_value"
   ]
  },
  {
   "cell_type": "code",
   "execution_count": 58,
   "id": "63c466a3",
   "metadata": {},
   "outputs": [
    {
     "data": {
      "text/html": [
       "<div>\n",
       "<style scoped>\n",
       "    .dataframe tbody tr th:only-of-type {\n",
       "        vertical-align: middle;\n",
       "    }\n",
       "\n",
       "    .dataframe tbody tr th {\n",
       "        vertical-align: top;\n",
       "    }\n",
       "\n",
       "    .dataframe thead th {\n",
       "        text-align: right;\n",
       "    }\n",
       "</style>\n",
       "<table border=\"1\" class=\"dataframe\">\n",
       "  <thead>\n",
       "    <tr style=\"text-align: right;\">\n",
       "      <th></th>\n",
       "      <th>price</th>\n",
       "    </tr>\n",
       "    <tr>\n",
       "      <th>month_invoiced</th>\n",
       "      <th></th>\n",
       "    </tr>\n",
       "  </thead>\n",
       "  <tbody>\n",
       "    <tr>\n",
       "      <th>2016-01-31</th>\n",
       "      <td>51505</td>\n",
       "    </tr>\n",
       "    <tr>\n",
       "      <th>2016-02-29</th>\n",
       "      <td>51505</td>\n",
       "    </tr>\n",
       "    <tr>\n",
       "      <th>2016-03-31</th>\n",
       "      <td>51505</td>\n",
       "    </tr>\n",
       "    <tr>\n",
       "      <th>2016-04-30</th>\n",
       "      <td>51505</td>\n",
       "    </tr>\n",
       "    <tr>\n",
       "      <th>2016-05-31</th>\n",
       "      <td>51505</td>\n",
       "    </tr>\n",
       "    <tr>\n",
       "      <th>2016-06-30</th>\n",
       "      <td>51505</td>\n",
       "    </tr>\n",
       "    <tr>\n",
       "      <th>2016-07-31</th>\n",
       "      <td>51505</td>\n",
       "    </tr>\n",
       "    <tr>\n",
       "      <th>2016-08-31</th>\n",
       "      <td>51505</td>\n",
       "    </tr>\n",
       "    <tr>\n",
       "      <th>2016-09-30</th>\n",
       "      <td>51505</td>\n",
       "    </tr>\n",
       "    <tr>\n",
       "      <th>2016-10-31</th>\n",
       "      <td>51505</td>\n",
       "    </tr>\n",
       "    <tr>\n",
       "      <th>2016-11-30</th>\n",
       "      <td>51505</td>\n",
       "    </tr>\n",
       "    <tr>\n",
       "      <th>2016-12-31</th>\n",
       "      <td>51505</td>\n",
       "    </tr>\n",
       "    <tr>\n",
       "      <th>2017-01-31</th>\n",
       "      <td>51505</td>\n",
       "    </tr>\n",
       "    <tr>\n",
       "      <th>2017-02-28</th>\n",
       "      <td>51505</td>\n",
       "    </tr>\n",
       "  </tbody>\n",
       "</table>\n",
       "</div>"
      ],
      "text/plain": [
       "                price\n",
       "month_invoiced       \n",
       "2016-01-31      51505\n",
       "2016-02-29      51505\n",
       "2016-03-31      51505\n",
       "2016-04-30      51505\n",
       "2016-05-31      51505\n",
       "2016-06-30      51505\n",
       "2016-07-31      51505\n",
       "2016-08-31      51505\n",
       "2016-09-30      51505\n",
       "2016-10-31      51505\n",
       "2016-11-30      51505\n",
       "2016-12-31      51505\n",
       "2017-01-31      51505\n",
       "2017-02-28      51505"
      ]
     },
     "execution_count": 58,
     "metadata": {},
     "output_type": "execute_result"
    }
   ],
   "source": [
    "# assign that variable value to a new yhat DataFrame as the last_observed_value prediction\n",
    "yhat_df = pd.DataFrame(\n",
    "    {'price': [last_observed_value]},\n",
    "    index=validate.index)\n",
    "\n",
    "yhat_df"
   ]
  },
  {
   "cell_type": "code",
   "execution_count": 60,
   "id": "ad7d4f30",
   "metadata": {},
   "outputs": [
    {
     "data": {
      "text/plain": [
       "array([51505])"
      ]
     },
     "execution_count": 60,
     "metadata": {},
     "output_type": "execute_result"
    }
   ],
   "source": [
    "# Check that all values are the same\n",
    "yhat_df.price.unique()"
   ]
  },
  {
   "cell_type": "code",
   "execution_count": 61,
   "id": "8ef94b73",
   "metadata": {
    "scrolled": false
   },
   "outputs": [
    {
     "name": "stdout",
     "output_type": "stream",
     "text": [
      "price -- RMSE: 1343\n"
     ]
    },
    {
     "data": {
      "image/png": "[encoded data removed]",
      "text/plain": [
       "<Figure size 864x288 with 1 Axes>"
      ]
     },
     "metadata": {
      "needs_background": "light"
     },
     "output_type": "display_data"
    }
   ],
   "source": [
    "# plot\n",
    "plot_and_eval('price')"
   ]
  },
  {
   "cell_type": "code",
   "execution_count": 62,
   "id": "fa77266f",
   "metadata": {},
   "outputs": [
    {
     "data": {
      "text/html": [
       "<div>\n",
       "<style scoped>\n",
       "    .dataframe tbody tr th:only-of-type {\n",
       "        vertical-align: middle;\n",
       "    }\n",
       "\n",
       "    .dataframe tbody tr th {\n",
       "        vertical-align: top;\n",
       "    }\n",
       "\n",
       "    .dataframe thead th {\n",
       "        text-align: right;\n",
       "    }\n",
       "</style>\n",
       "<table border=\"1\" class=\"dataframe\">\n",
       "  <thead>\n",
       "    <tr style=\"text-align: right;\">\n",
       "      <th></th>\n",
       "      <th>model_type</th>\n",
       "      <th>target_var</th>\n",
       "      <th>rmse</th>\n",
       "    </tr>\n",
       "  </thead>\n",
       "  <tbody>\n",
       "    <tr>\n",
       "      <th>0</th>\n",
       "      <td>last_observed_value</td>\n",
       "      <td>price</td>\n",
       "      <td>1343.0</td>\n",
       "    </tr>\n",
       "  </tbody>\n",
       "</table>\n",
       "</div>"
      ],
      "text/plain": [
       "            model_type target_var    rmse\n",
       "0  last_observed_value      price  1343.0"
      ]
     },
     "execution_count": 62,
     "metadata": {},
     "output_type": "execute_result"
    }
   ],
   "source": [
    "# evaluate\n",
    "for col in train.columns:\n",
    "    eval_df = append_eval_df(model_type = 'last_observed_value', \n",
    "                             target_var = col)\n",
    "\n",
    "eval_df"
   ]
  },
  {
   "cell_type": "markdown",
   "id": "c0570b9b",
   "metadata": {},
   "source": [
    "<div class=\"alert alert-warning\">\n",
    "\n",
    "\n",
    "## Simple Average\n",
    "* Take the simple average of historical values and use that value to predict future values.   \n",
    "\n",
    "* This is a good option for an initial baseline. Every future datapoint (those in 'test') will be assigned the same value, and that value will be the overall mean of the values in train. "
   ]
  },
  {
   "cell_type": "code",
   "execution_count": 63,
   "id": "7be50ed3",
   "metadata": {
    "scrolled": true
   },
   "outputs": [
    {
     "data": {
      "text/plain": [
       "45568.54"
      ]
     },
     "execution_count": 63,
     "metadata": {},
     "output_type": "execute_result"
    }
   ],
   "source": [
    "# compute simple average\n",
    "simple_avg = round(train['price'].mean(), 2)\n",
    "simple_avg"
   ]
  },
  {
   "cell_type": "code",
   "execution_count": 64,
   "id": "52ee686c",
   "metadata": {},
   "outputs": [],
   "source": [
    "# assign that variable value to the yhat DataFrame as the simple_avg prediction\n",
    "def make_predictions(simple_avg=None):\n",
    "    yhat_df = pd.DataFrame({'price': [simple_avg]},\n",
    "                          index=validate.index)\n",
    "    return yhat_df"
   ]
  },
  {
   "cell_type": "code",
   "execution_count": 65,
   "id": "7a4faa87",
   "metadata": {},
   "outputs": [],
   "source": [
    "# reassign yhat DataFrame\n",
    "yhat_df = make_predictions(simple_avg)"
   ]
  },
  {
   "cell_type": "code",
   "execution_count": 66,
   "id": "b31b1600",
   "metadata": {},
   "outputs": [
    {
     "data": {
      "text/html": [
       "<div>\n",
       "<style scoped>\n",
       "    .dataframe tbody tr th:only-of-type {\n",
       "        vertical-align: middle;\n",
       "    }\n",
       "\n",
       "    .dataframe tbody tr th {\n",
       "        vertical-align: top;\n",
       "    }\n",
       "\n",
       "    .dataframe thead th {\n",
       "        text-align: right;\n",
       "    }\n",
       "</style>\n",
       "<table border=\"1\" class=\"dataframe\">\n",
       "  <thead>\n",
       "    <tr style=\"text-align: right;\">\n",
       "      <th></th>\n",
       "      <th>price</th>\n",
       "    </tr>\n",
       "    <tr>\n",
       "      <th>month_invoiced</th>\n",
       "      <th></th>\n",
       "    </tr>\n",
       "  </thead>\n",
       "  <tbody>\n",
       "    <tr>\n",
       "      <th>2016-01-31</th>\n",
       "      <td>45568.54</td>\n",
       "    </tr>\n",
       "    <tr>\n",
       "      <th>2016-02-29</th>\n",
       "      <td>45568.54</td>\n",
       "    </tr>\n",
       "    <tr>\n",
       "      <th>2016-03-31</th>\n",
       "      <td>45568.54</td>\n",
       "    </tr>\n",
       "    <tr>\n",
       "      <th>2016-04-30</th>\n",
       "      <td>45568.54</td>\n",
       "    </tr>\n",
       "    <tr>\n",
       "      <th>2016-05-31</th>\n",
       "      <td>45568.54</td>\n",
       "    </tr>\n",
       "  </tbody>\n",
       "</table>\n",
       "</div>"
      ],
      "text/plain": [
       "                   price\n",
       "month_invoiced          \n",
       "2016-01-31      45568.54\n",
       "2016-02-29      45568.54\n",
       "2016-03-31      45568.54\n",
       "2016-04-30      45568.54\n",
       "2016-05-31      45568.54"
      ]
     },
     "execution_count": 66,
     "metadata": {},
     "output_type": "execute_result"
    }
   ],
   "source": [
    "yhat_df.head()"
   ]
  },
  {
   "cell_type": "code",
   "execution_count": 67,
   "id": "8040d8fa",
   "metadata": {},
   "outputs": [
    {
     "data": {
      "text/plain": [
       "array([45568.54])"
      ]
     },
     "execution_count": 67,
     "metadata": {},
     "output_type": "execute_result"
    }
   ],
   "source": [
    "# Check that all values are the same\n",
    "yhat_df.price.unique()"
   ]
  },
  {
   "cell_type": "code",
   "execution_count": 68,
   "id": "126a5228",
   "metadata": {},
   "outputs": [
    {
     "name": "stdout",
     "output_type": "stream",
     "text": [
      "price -- RMSE: 7181\n"
     ]
    },
    {
     "data": {
      "image/png": "[encoded data removed]",
      "text/plain": [
       "<Figure size 864x288 with 1 Axes>"
      ]
     },
     "metadata": {
      "needs_background": "light"
     },
     "output_type": "display_data"
    }
   ],
   "source": [
    "# plot\n",
    "for col in train.columns:\n",
    "    plot_and_eval(col)"
   ]
  },
  {
   "cell_type": "code",
   "execution_count": 69,
   "id": "c0ae7fc3",
   "metadata": {
    "scrolled": true
   },
   "outputs": [
    {
     "data": {
      "text/html": [
       "<div>\n",
       "<style scoped>\n",
       "    .dataframe tbody tr th:only-of-type {\n",
       "        vertical-align: middle;\n",
       "    }\n",
       "\n",
       "    .dataframe tbody tr th {\n",
       "        vertical-align: top;\n",
       "    }\n",
       "\n",
       "    .dataframe thead th {\n",
       "        text-align: right;\n",
       "    }\n",
       "</style>\n",
       "<table border=\"1\" class=\"dataframe\">\n",
       "  <thead>\n",
       "    <tr style=\"text-align: right;\">\n",
       "      <th></th>\n",
       "      <th>model_type</th>\n",
       "      <th>target_var</th>\n",
       "      <th>rmse</th>\n",
       "    </tr>\n",
       "  </thead>\n",
       "  <tbody>\n",
       "    <tr>\n",
       "      <th>0</th>\n",
       "      <td>last_observed_value</td>\n",
       "      <td>price</td>\n",
       "      <td>1343.0</td>\n",
       "    </tr>\n",
       "    <tr>\n",
       "      <th>1</th>\n",
       "      <td>simple_average</td>\n",
       "      <td>price</td>\n",
       "      <td>7181.0</td>\n",
       "    </tr>\n",
       "  </tbody>\n",
       "</table>\n",
       "</div>"
      ],
      "text/plain": [
       "            model_type target_var    rmse\n",
       "0  last_observed_value      price  1343.0\n",
       "1       simple_average      price  7181.0"
      ]
     },
     "execution_count": 69,
     "metadata": {},
     "output_type": "execute_result"
    }
   ],
   "source": [
    "# append predictions to yhat_df\n",
    "for col in train.columns:\n",
    "    eval_df = append_eval_df(model_type='simple_average', \n",
    "                            target_var = col)\n",
    "eval_df"
   ]
  },
  {
   "cell_type": "markdown",
   "id": "5474dc5d",
   "metadata": {},
   "source": [
    "<div class=\"alert alert-warning\">\n",
    "\n",
    "\n",
    "## Moving Average"
   ]
  },
  {
   "cell_type": "code",
   "execution_count": 70,
   "id": "cc2313e4",
   "metadata": {},
   "outputs": [
    {
     "data": {
      "text/plain": [
       "51403.333333333336"
      ]
     },
     "execution_count": 70,
     "metadata": {},
     "output_type": "execute_result"
    }
   ],
   "source": [
    "# Take a look at a 3 month rolling mean\n",
    "period=3\n",
    "train['price'].rolling(period).mean()[-1]"
   ]
  },
  {
   "cell_type": "code",
   "execution_count": 71,
   "id": "ba3204fc",
   "metadata": {},
   "outputs": [
    {
     "name": "stdout",
     "output_type": "stream",
     "text": [
      "51403.33\n"
     ]
    }
   ],
   "source": [
    "# take 90 day rolling average, take last value as our yhat prediction. \n",
    "period = 3\n",
    "moving_avg = round(train['price'].rolling(period).mean()[-1], 2)\n",
    "print(moving_avg)"
   ]
  },
  {
   "cell_type": "code",
   "execution_count": 72,
   "id": "519434d9",
   "metadata": {},
   "outputs": [
    {
     "data": {
      "text/html": [
       "<div>\n",
       "<style scoped>\n",
       "    .dataframe tbody tr th:only-of-type {\n",
       "        vertical-align: middle;\n",
       "    }\n",
       "\n",
       "    .dataframe tbody tr th {\n",
       "        vertical-align: top;\n",
       "    }\n",
       "\n",
       "    .dataframe thead th {\n",
       "        text-align: right;\n",
       "    }\n",
       "</style>\n",
       "<table border=\"1\" class=\"dataframe\">\n",
       "  <thead>\n",
       "    <tr style=\"text-align: right;\">\n",
       "      <th></th>\n",
       "      <th>price</th>\n",
       "    </tr>\n",
       "    <tr>\n",
       "      <th>month_invoiced</th>\n",
       "      <th></th>\n",
       "    </tr>\n",
       "  </thead>\n",
       "  <tbody>\n",
       "    <tr>\n",
       "      <th>2016-01-31</th>\n",
       "      <td>51403.33</td>\n",
       "    </tr>\n",
       "    <tr>\n",
       "      <th>2016-02-29</th>\n",
       "      <td>51403.33</td>\n",
       "    </tr>\n",
       "    <tr>\n",
       "      <th>2016-03-31</th>\n",
       "      <td>51403.33</td>\n",
       "    </tr>\n",
       "    <tr>\n",
       "      <th>2016-04-30</th>\n",
       "      <td>51403.33</td>\n",
       "    </tr>\n",
       "    <tr>\n",
       "      <th>2016-05-31</th>\n",
       "      <td>51403.33</td>\n",
       "    </tr>\n",
       "  </tbody>\n",
       "</table>\n",
       "</div>"
      ],
      "text/plain": [
       "                   price\n",
       "month_invoiced          \n",
       "2016-01-31      51403.33\n",
       "2016-02-29      51403.33\n",
       "2016-03-31      51403.33\n",
       "2016-04-30      51403.33\n",
       "2016-05-31      51403.33"
      ]
     },
     "execution_count": 72,
     "metadata": {},
     "output_type": "execute_result"
    }
   ],
   "source": [
    "# reassign yhat DataFrame\n",
    "yhat_df = make_predictions(moving_avg)\n",
    "yhat_df.head()"
   ]
  },
  {
   "cell_type": "code",
   "execution_count": 73,
   "id": "4f8b5a3f",
   "metadata": {},
   "outputs": [
    {
     "name": "stdout",
     "output_type": "stream",
     "text": [
      "price -- RMSE: 1436\n"
     ]
    },
    {
     "data": {
      "image/png": "[encoded data removed]",
      "text/plain": [
       "<Figure size 864x288 with 1 Axes>"
      ]
     },
     "metadata": {
      "needs_background": "light"
     },
     "output_type": "display_data"
    }
   ],
   "source": [
    "# Plot\n",
    "for col in train.columns:\n",
    "    plot_and_eval(col)"
   ]
  },
  {
   "cell_type": "code",
   "execution_count": 74,
   "id": "fd5650f1",
   "metadata": {},
   "outputs": [
    {
     "data": {
      "text/html": [
       "<div>\n",
       "<style scoped>\n",
       "    .dataframe tbody tr th:only-of-type {\n",
       "        vertical-align: middle;\n",
       "    }\n",
       "\n",
       "    .dataframe tbody tr th {\n",
       "        vertical-align: top;\n",
       "    }\n",
       "\n",
       "    .dataframe thead th {\n",
       "        text-align: right;\n",
       "    }\n",
       "</style>\n",
       "<table border=\"1\" class=\"dataframe\">\n",
       "  <thead>\n",
       "    <tr style=\"text-align: right;\">\n",
       "      <th></th>\n",
       "      <th>model_type</th>\n",
       "      <th>target_var</th>\n",
       "      <th>rmse</th>\n",
       "    </tr>\n",
       "  </thead>\n",
       "  <tbody>\n",
       "    <tr>\n",
       "      <th>0</th>\n",
       "      <td>last_observed_value</td>\n",
       "      <td>price</td>\n",
       "      <td>1343.0</td>\n",
       "    </tr>\n",
       "    <tr>\n",
       "      <th>1</th>\n",
       "      <td>simple_average</td>\n",
       "      <td>price</td>\n",
       "      <td>7181.0</td>\n",
       "    </tr>\n",
       "    <tr>\n",
       "      <th>2</th>\n",
       "      <td>3_month_moving_avg</td>\n",
       "      <td>price</td>\n",
       "      <td>1436.0</td>\n",
       "    </tr>\n",
       "  </tbody>\n",
       "</table>\n",
       "</div>"
      ],
      "text/plain": [
       "            model_type target_var    rmse\n",
       "0  last_observed_value      price  1343.0\n",
       "1       simple_average      price  7181.0\n",
       "2   3_month_moving_avg      price  1436.0"
      ]
     },
     "execution_count": 74,
     "metadata": {},
     "output_type": "execute_result"
    }
   ],
   "source": [
    "# Append eval DataFrame\n",
    "for col in train.columns:\n",
    "    eval_df = append_eval_df(model_type = '3_month_moving_avg', \n",
    "                            target_var = col)\n",
    "\n",
    "eval_df"
   ]
  },
  {
   "cell_type": "code",
   "execution_count": 75,
   "id": "46c13a69",
   "metadata": {},
   "outputs": [],
   "source": [
    "# Apply other rolling periods\n",
    "periods = [1, 3, 6, 9, 12]\n",
    "\n",
    "for p in periods: \n",
    "    moving_avg = round(train['price'].rolling(p).mean()[-1], 2)\n",
    "    yhat_df = make_predictions(moving_avg)\n",
    "    model_type = str(p) + '_month_moving_avg'\n",
    "    for col in train.columns:\n",
    "        eval_df = append_eval_df(model_type = model_type,\n",
    "                                target_var = col)"
   ]
  },
  {
   "cell_type": "code",
   "execution_count": 76,
   "id": "8cb306be",
   "metadata": {},
   "outputs": [
    {
     "data": {
      "text/html": [
       "<div>\n",
       "<style scoped>\n",
       "    .dataframe tbody tr th:only-of-type {\n",
       "        vertical-align: middle;\n",
       "    }\n",
       "\n",
       "    .dataframe tbody tr th {\n",
       "        vertical-align: top;\n",
       "    }\n",
       "\n",
       "    .dataframe thead th {\n",
       "        text-align: right;\n",
       "    }\n",
       "</style>\n",
       "<table border=\"1\" class=\"dataframe\">\n",
       "  <thead>\n",
       "    <tr style=\"text-align: right;\">\n",
       "      <th></th>\n",
       "      <th>model_type</th>\n",
       "      <th>target_var</th>\n",
       "      <th>rmse</th>\n",
       "    </tr>\n",
       "  </thead>\n",
       "  <tbody>\n",
       "    <tr>\n",
       "      <th>0</th>\n",
       "      <td>last_observed_value</td>\n",
       "      <td>price</td>\n",
       "      <td>1343.0</td>\n",
       "    </tr>\n",
       "    <tr>\n",
       "      <th>1</th>\n",
       "      <td>simple_average</td>\n",
       "      <td>price</td>\n",
       "      <td>7181.0</td>\n",
       "    </tr>\n",
       "    <tr>\n",
       "      <th>2</th>\n",
       "      <td>3_month_moving_avg</td>\n",
       "      <td>price</td>\n",
       "      <td>1436.0</td>\n",
       "    </tr>\n",
       "    <tr>\n",
       "      <th>3</th>\n",
       "      <td>1_month_moving_avg</td>\n",
       "      <td>price</td>\n",
       "      <td>1343.0</td>\n",
       "    </tr>\n",
       "    <tr>\n",
       "      <th>4</th>\n",
       "      <td>3_month_moving_avg</td>\n",
       "      <td>price</td>\n",
       "      <td>1436.0</td>\n",
       "    </tr>\n",
       "    <tr>\n",
       "      <th>5</th>\n",
       "      <td>6_month_moving_avg</td>\n",
       "      <td>price</td>\n",
       "      <td>1847.0</td>\n",
       "    </tr>\n",
       "    <tr>\n",
       "      <th>6</th>\n",
       "      <td>9_month_moving_avg</td>\n",
       "      <td>price</td>\n",
       "      <td>2473.0</td>\n",
       "    </tr>\n",
       "    <tr>\n",
       "      <th>7</th>\n",
       "      <td>12_month_moving_avg</td>\n",
       "      <td>price</td>\n",
       "      <td>3164.0</td>\n",
       "    </tr>\n",
       "  </tbody>\n",
       "</table>\n",
       "</div>"
      ],
      "text/plain": [
       "            model_type target_var    rmse\n",
       "0  last_observed_value      price  1343.0\n",
       "1       simple_average      price  7181.0\n",
       "2   3_month_moving_avg      price  1436.0\n",
       "3   1_month_moving_avg      price  1343.0\n",
       "4   3_month_moving_avg      price  1436.0\n",
       "5   6_month_moving_avg      price  1847.0\n",
       "6   9_month_moving_avg      price  2473.0\n",
       "7  12_month_moving_avg      price  3164.0"
      ]
     },
     "execution_count": 76,
     "metadata": {},
     "output_type": "execute_result"
    }
   ],
   "source": [
    "# show results\n",
    "eval_df"
   ]
  },
  {
   "cell_type": "code",
   "execution_count": 77,
   "id": "e3a20daa",
   "metadata": {},
   "outputs": [],
   "source": [
    "# Assign min rmse\n",
    "min_rmse = eval_df[eval_df.target_var == 'amount']['rmse'].min()"
   ]
  },
  {
   "cell_type": "code",
   "execution_count": 78,
   "id": "d60a17e5",
   "metadata": {
    "scrolled": true
   },
   "outputs": [
    {
     "data": {
      "text/plain": [
       "nan"
      ]
     },
     "execution_count": 78,
     "metadata": {},
     "output_type": "execute_result"
    }
   ],
   "source": [
    "# show it\n",
    "min_rmse"
   ]
  },
  {
   "cell_type": "code",
   "execution_count": 79,
   "id": "2319c9a8",
   "metadata": {},
   "outputs": [
    {
     "data": {
      "text/html": [
       "<div>\n",
       "<style scoped>\n",
       "    .dataframe tbody tr th:only-of-type {\n",
       "        vertical-align: middle;\n",
       "    }\n",
       "\n",
       "    .dataframe tbody tr th {\n",
       "        vertical-align: top;\n",
       "    }\n",
       "\n",
       "    .dataframe thead th {\n",
       "        text-align: right;\n",
       "    }\n",
       "</style>\n",
       "<table border=\"1\" class=\"dataframe\">\n",
       "  <thead>\n",
       "    <tr style=\"text-align: right;\">\n",
       "      <th></th>\n",
       "      <th>model_type</th>\n",
       "      <th>target_var</th>\n",
       "      <th>rmse</th>\n",
       "    </tr>\n",
       "  </thead>\n",
       "  <tbody>\n",
       "  </tbody>\n",
       "</table>\n",
       "</div>"
      ],
      "text/plain": [
       "Empty DataFrame\n",
       "Columns: [model_type, target_var, rmse]\n",
       "Index: []"
      ]
     },
     "execution_count": 79,
     "metadata": {},
     "output_type": "execute_result"
    }
   ],
   "source": [
    "# show DataFrame for just min rmse\n",
    "eval_df[eval_df.rmse == min_rmse]"
   ]
  },
  {
   "cell_type": "code",
   "execution_count": 80,
   "id": "a185b5f2",
   "metadata": {},
   "outputs": [
    {
     "data": {
      "text/html": [
       "<div>\n",
       "<style scoped>\n",
       "    .dataframe tbody tr th:only-of-type {\n",
       "        vertical-align: middle;\n",
       "    }\n",
       "\n",
       "    .dataframe tbody tr th {\n",
       "        vertical-align: top;\n",
       "    }\n",
       "\n",
       "    .dataframe thead th {\n",
       "        text-align: right;\n",
       "    }\n",
       "</style>\n",
       "<table border=\"1\" class=\"dataframe\">\n",
       "  <thead>\n",
       "    <tr style=\"text-align: right;\">\n",
       "      <th></th>\n",
       "      <th>model_type</th>\n",
       "      <th>target_var</th>\n",
       "      <th>rmse</th>\n",
       "    </tr>\n",
       "  </thead>\n",
       "  <tbody>\n",
       "    <tr>\n",
       "      <th>0</th>\n",
       "      <td>last_observed_value</td>\n",
       "      <td>price</td>\n",
       "      <td>1343.0</td>\n",
       "    </tr>\n",
       "    <tr>\n",
       "      <th>3</th>\n",
       "      <td>1_month_moving_avg</td>\n",
       "      <td>price</td>\n",
       "      <td>1343.0</td>\n",
       "    </tr>\n",
       "    <tr>\n",
       "      <th>2</th>\n",
       "      <td>3_month_moving_avg</td>\n",
       "      <td>price</td>\n",
       "      <td>1436.0</td>\n",
       "    </tr>\n",
       "    <tr>\n",
       "      <th>4</th>\n",
       "      <td>3_month_moving_avg</td>\n",
       "      <td>price</td>\n",
       "      <td>1436.0</td>\n",
       "    </tr>\n",
       "    <tr>\n",
       "      <th>5</th>\n",
       "      <td>6_month_moving_avg</td>\n",
       "      <td>price</td>\n",
       "      <td>1847.0</td>\n",
       "    </tr>\n",
       "    <tr>\n",
       "      <th>6</th>\n",
       "      <td>9_month_moving_avg</td>\n",
       "      <td>price</td>\n",
       "      <td>2473.0</td>\n",
       "    </tr>\n",
       "    <tr>\n",
       "      <th>7</th>\n",
       "      <td>12_month_moving_avg</td>\n",
       "      <td>price</td>\n",
       "      <td>3164.0</td>\n",
       "    </tr>\n",
       "    <tr>\n",
       "      <th>1</th>\n",
       "      <td>simple_average</td>\n",
       "      <td>price</td>\n",
       "      <td>7181.0</td>\n",
       "    </tr>\n",
       "  </tbody>\n",
       "</table>\n",
       "</div>"
      ],
      "text/plain": [
       "            model_type target_var    rmse\n",
       "0  last_observed_value      price  1343.0\n",
       "3   1_month_moving_avg      price  1343.0\n",
       "2   3_month_moving_avg      price  1436.0\n",
       "4   3_month_moving_avg      price  1436.0\n",
       "5   6_month_moving_avg      price  1847.0\n",
       "6   9_month_moving_avg      price  2473.0\n",
       "7  12_month_moving_avg      price  3164.0\n",
       "1       simple_average      price  7181.0"
      ]
     },
     "execution_count": 80,
     "metadata": {},
     "output_type": "execute_result"
    }
   ],
   "source": [
    "# show entire DataFrame sorted by RMSE\n",
    "eval_df.sort_values(by='rmse')"
   ]
  },
  {
   "cell_type": "markdown",
   "id": "00acba61",
   "metadata": {},
   "source": [
    "<div class=\"alert alert-warning\">\n",
    "\n",
    "\n",
    "## Holt's Linear Trend Model\n",
    "* Exponential smoothing applied to both the average and the trend (slope).  \n",
    "\n",
    "- $\\alpha$ / smoothing_level: smoothing parameter for mean. Values closer to 1 will have less of a smoothing effect and will give greater weight to recent values.   \n",
    "- $\\beta$ / smoothing_slope: smoothing parameter for the slope. Values closer to 1 will give greater weight to recent slope/values. \n",
    "\n",
    "\n",
    "\n",
    "**Seasonal Decomposition**\n",
    "    \n",
    "Holt: \n",
    "\n",
    "- exponential = True/False (exponential vs. linear growth, additive vs. multiplicative)\n",
    "- damped $\\phi$ = True/False: with Holt, forecasts will increase or decrease indefinitely into the future.  To avoid this, use the Damped trend method which has a damping parameter 0< ϕ <1. \n",
    "\n",
    "\n",
    "fit: \n",
    "\n",
    "- smoothing_level ($\\alpha$): value between (0,1)\n",
    "- smoothing_slope ($\\beta$): value between (0,1)\n",
    "- optimized: use the auto-optimization that allow statsmodels to automatically find an optimized value for us. \n"
   ]
  },
  {
   "cell_type": "code",
   "execution_count": 81,
   "id": "f7f726d5",
   "metadata": {},
   "outputs": [],
   "source": [
    "# Required Import\n",
    "import statsmodels.api as sm"
   ]
  },
  {
   "cell_type": "code",
   "execution_count": 82,
   "id": "c1b766d4",
   "metadata": {},
   "outputs": [
    {
     "name": "stdout",
     "output_type": "stream",
     "text": [
      "price \n",
      "\n"
     ]
    },
    {
     "data": {
      "image/png": "[encoded data removed]",
      "text/plain": [
       "<Figure size 432x288 with 4 Axes>"
      ]
     },
     "metadata": {
      "needs_background": "light"
     },
     "output_type": "display_data"
    }
   ],
   "source": [
    "# Show various time plots\n",
    "print(col, '\\n')\n",
    "sm.tsa.seasonal_decompose(train[col].resample('M').mean()).plot()\n",
    "plt.show()"
   ]
  },
  {
   "cell_type": "code",
   "execution_count": 83,
   "id": "34168b47",
   "metadata": {},
   "outputs": [],
   "source": [
    "# create our Holt's Object\n",
    "col = 'price' \n",
    "model = Holt(train[col], exponential=False, damped=True)"
   ]
  },
  {
   "cell_type": "code",
   "execution_count": 84,
   "id": "5b42d70a",
   "metadata": {},
   "outputs": [],
   "source": [
    "# fit the holt's object\n",
    "model = model.fit(optimized=True)"
   ]
  },
  {
   "cell_type": "code",
   "execution_count": 85,
   "id": "56e99309",
   "metadata": {},
   "outputs": [],
   "source": [
    "# Predict\n",
    "yhat_items = model.predict(start = validate.index[0],\n",
    "                              end = validate.index[-1])"
   ]
  },
  {
   "cell_type": "code",
   "execution_count": 86,
   "id": "70cd1f0d",
   "metadata": {},
   "outputs": [],
   "source": [
    "# assign to yhat DataFrame\n",
    "yhat_df[col] = round(yhat_items, 2)"
   ]
  },
  {
   "cell_type": "code",
   "execution_count": 87,
   "id": "ff3daa1a",
   "metadata": {},
   "outputs": [
    {
     "data": {
      "text/html": [
       "<div>\n",
       "<style scoped>\n",
       "    .dataframe tbody tr th:only-of-type {\n",
       "        vertical-align: middle;\n",
       "    }\n",
       "\n",
       "    .dataframe tbody tr th {\n",
       "        vertical-align: top;\n",
       "    }\n",
       "\n",
       "    .dataframe thead th {\n",
       "        text-align: right;\n",
       "    }\n",
       "</style>\n",
       "<table border=\"1\" class=\"dataframe\">\n",
       "  <thead>\n",
       "    <tr style=\"text-align: right;\">\n",
       "      <th></th>\n",
       "      <th>price</th>\n",
       "    </tr>\n",
       "    <tr>\n",
       "      <th>month_invoiced</th>\n",
       "      <th></th>\n",
       "    </tr>\n",
       "  </thead>\n",
       "  <tbody>\n",
       "    <tr>\n",
       "      <th>2016-01-31</th>\n",
       "      <td>51748.62</td>\n",
       "    </tr>\n",
       "    <tr>\n",
       "      <th>2016-02-29</th>\n",
       "      <td>51962.00</td>\n",
       "    </tr>\n",
       "    <tr>\n",
       "      <th>2016-03-31</th>\n",
       "      <td>52173.35</td>\n",
       "    </tr>\n",
       "    <tr>\n",
       "      <th>2016-04-30</th>\n",
       "      <td>52382.69</td>\n",
       "    </tr>\n",
       "    <tr>\n",
       "      <th>2016-05-31</th>\n",
       "      <td>52590.04</td>\n",
       "    </tr>\n",
       "    <tr>\n",
       "      <th>2016-06-30</th>\n",
       "      <td>52795.43</td>\n",
       "    </tr>\n",
       "    <tr>\n",
       "      <th>2016-07-31</th>\n",
       "      <td>52998.86</td>\n",
       "    </tr>\n",
       "    <tr>\n",
       "      <th>2016-08-31</th>\n",
       "      <td>53200.36</td>\n",
       "    </tr>\n",
       "    <tr>\n",
       "      <th>2016-09-30</th>\n",
       "      <td>53399.95</td>\n",
       "    </tr>\n",
       "    <tr>\n",
       "      <th>2016-10-31</th>\n",
       "      <td>53597.64</td>\n",
       "    </tr>\n",
       "    <tr>\n",
       "      <th>2016-11-30</th>\n",
       "      <td>53793.45</td>\n",
       "    </tr>\n",
       "    <tr>\n",
       "      <th>2016-12-31</th>\n",
       "      <td>53987.41</td>\n",
       "    </tr>\n",
       "    <tr>\n",
       "      <th>2017-01-31</th>\n",
       "      <td>54179.51</td>\n",
       "    </tr>\n",
       "    <tr>\n",
       "      <th>2017-02-28</th>\n",
       "      <td>54369.80</td>\n",
       "    </tr>\n",
       "  </tbody>\n",
       "</table>\n",
       "</div>"
      ],
      "text/plain": [
       "                   price\n",
       "month_invoiced          \n",
       "2016-01-31      51748.62\n",
       "2016-02-29      51962.00\n",
       "2016-03-31      52173.35\n",
       "2016-04-30      52382.69\n",
       "2016-05-31      52590.04\n",
       "2016-06-30      52795.43\n",
       "2016-07-31      52998.86\n",
       "2016-08-31      53200.36\n",
       "2016-09-30      53399.95\n",
       "2016-10-31      53597.64\n",
       "2016-11-30      53793.45\n",
       "2016-12-31      53987.41\n",
       "2017-01-31      54179.51\n",
       "2017-02-28      54369.80"
      ]
     },
     "execution_count": 87,
     "metadata": {},
     "output_type": "execute_result"
    }
   ],
   "source": [
    "yhat_df"
   ]
  },
  {
   "cell_type": "markdown",
   "id": "6474efc9",
   "metadata": {},
   "source": [
    "**Plot Actual vs. Predicted Values**"
   ]
  },
  {
   "cell_type": "code",
   "execution_count": 88,
   "id": "08269450",
   "metadata": {},
   "outputs": [
    {
     "name": "stdout",
     "output_type": "stream",
     "text": [
      "price -- RMSE: 456\n"
     ]
    },
    {
     "data": {
      "image/png": "[encoded data removed]",
      "text/plain": [
       "<Figure size 864x288 with 1 Axes>"
      ]
     },
     "metadata": {
      "needs_background": "light"
     },
     "output_type": "display_data"
    }
   ],
   "source": [
    "# Plot yhat predictions vs actual\n",
    "plot_and_eval(target_var = col)"
   ]
  },
  {
   "cell_type": "code",
   "execution_count": 89,
   "id": "6880f0ab",
   "metadata": {},
   "outputs": [],
   "source": [
    "# append eval DataFrame\n",
    "eval_df = append_eval_df(model_type = 'holts_optimized', \n",
    "                            target_var = col)"
   ]
  },
  {
   "cell_type": "code",
   "execution_count": 90,
   "id": "e4268abe",
   "metadata": {},
   "outputs": [
    {
     "data": {
      "text/html": [
       "<div>\n",
       "<style scoped>\n",
       "    .dataframe tbody tr th:only-of-type {\n",
       "        vertical-align: middle;\n",
       "    }\n",
       "\n",
       "    .dataframe tbody tr th {\n",
       "        vertical-align: top;\n",
       "    }\n",
       "\n",
       "    .dataframe thead th {\n",
       "        text-align: right;\n",
       "    }\n",
       "</style>\n",
       "<table border=\"1\" class=\"dataframe\">\n",
       "  <thead>\n",
       "    <tr style=\"text-align: right;\">\n",
       "      <th></th>\n",
       "      <th>model_type</th>\n",
       "      <th>target_var</th>\n",
       "      <th>rmse</th>\n",
       "    </tr>\n",
       "  </thead>\n",
       "  <tbody>\n",
       "    <tr>\n",
       "      <th>8</th>\n",
       "      <td>holts_optimized</td>\n",
       "      <td>price</td>\n",
       "      <td>456.0</td>\n",
       "    </tr>\n",
       "    <tr>\n",
       "      <th>0</th>\n",
       "      <td>last_observed_value</td>\n",
       "      <td>price</td>\n",
       "      <td>1343.0</td>\n",
       "    </tr>\n",
       "    <tr>\n",
       "      <th>3</th>\n",
       "      <td>1_month_moving_avg</td>\n",
       "      <td>price</td>\n",
       "      <td>1343.0</td>\n",
       "    </tr>\n",
       "    <tr>\n",
       "      <th>2</th>\n",
       "      <td>3_month_moving_avg</td>\n",
       "      <td>price</td>\n",
       "      <td>1436.0</td>\n",
       "    </tr>\n",
       "    <tr>\n",
       "      <th>4</th>\n",
       "      <td>3_month_moving_avg</td>\n",
       "      <td>price</td>\n",
       "      <td>1436.0</td>\n",
       "    </tr>\n",
       "    <tr>\n",
       "      <th>5</th>\n",
       "      <td>6_month_moving_avg</td>\n",
       "      <td>price</td>\n",
       "      <td>1847.0</td>\n",
       "    </tr>\n",
       "    <tr>\n",
       "      <th>6</th>\n",
       "      <td>9_month_moving_avg</td>\n",
       "      <td>price</td>\n",
       "      <td>2473.0</td>\n",
       "    </tr>\n",
       "    <tr>\n",
       "      <th>7</th>\n",
       "      <td>12_month_moving_avg</td>\n",
       "      <td>price</td>\n",
       "      <td>3164.0</td>\n",
       "    </tr>\n",
       "    <tr>\n",
       "      <th>1</th>\n",
       "      <td>simple_average</td>\n",
       "      <td>price</td>\n",
       "      <td>7181.0</td>\n",
       "    </tr>\n",
       "  </tbody>\n",
       "</table>\n",
       "</div>"
      ],
      "text/plain": [
       "            model_type target_var    rmse\n",
       "8      holts_optimized      price   456.0\n",
       "0  last_observed_value      price  1343.0\n",
       "3   1_month_moving_avg      price  1343.0\n",
       "2   3_month_moving_avg      price  1436.0\n",
       "4   3_month_moving_avg      price  1436.0\n",
       "5   6_month_moving_avg      price  1847.0\n",
       "6   9_month_moving_avg      price  2473.0\n",
       "7  12_month_moving_avg      price  3164.0\n",
       "1       simple_average      price  7181.0"
      ]
     },
     "execution_count": 90,
     "metadata": {},
     "output_type": "execute_result"
    }
   ],
   "source": [
    "# Display eval DataFrame sorted by RMSE\n",
    "eval_df.sort_values(by='rmse')"
   ]
  },
  {
   "cell_type": "markdown",
   "id": "34c4061d",
   "metadata": {},
   "source": [
    "<div class=\"alert alert-warning\">\n",
    "\n",
    "\n",
    "## Based on Cycle\n",
    "* previous year/month/etc., this is up to you.\n",
    "\n",
    "    \n",
    "Take all the 2016 data points, compute the daily delta, year-over-year, average that delta over all the days, and adding that average to the previous year's value on a day will give you the forecast for that day. \n",
    "\n",
    "If a primary cycle is weekly, then you may want to do this on a week-over-week cadence. \n",
    "\n",
    "In the below example:  \n",
    "1. Compute the 365 average year over year differences from 2013 through 2015\n",
    "2. Add that average delta to the values during 2015. \n",
    "3. Set the index in your yhat dataframe to represent the dates those predictions are make for. \n",
    "\n",
    "**Re-split data**"
   ]
  },
  {
   "cell_type": "code",
   "execution_count": 91,
   "id": "8f04ffe9",
   "metadata": {},
   "outputs": [],
   "source": [
    "df = df.resample('M')[['price']].sum()"
   ]
  },
  {
   "cell_type": "code",
   "execution_count": 92,
   "id": "46b4a1e3",
   "metadata": {},
   "outputs": [
    {
     "data": {
      "text/plain": [
       "DatetimeIndex(['2014-01-31', '2014-02-28', '2014-03-31', '2014-04-30',\n",
       "               '2014-05-31', '2014-06-30', '2014-07-31', '2014-08-31',\n",
       "               '2014-09-30', '2014-10-31', '2014-11-30', '2014-12-31',\n",
       "               '2015-01-31', '2015-02-28', '2015-03-31', '2015-04-30',\n",
       "               '2015-05-31', '2015-06-30', '2015-07-31', '2015-08-31',\n",
       "               '2015-09-30', '2015-10-31', '2015-11-30', '2015-12-31',\n",
       "               '2016-01-31', '2016-02-29', '2016-03-31', '2016-04-30',\n",
       "               '2016-05-31', '2016-06-30', '2016-07-31', '2016-08-31',\n",
       "               '2016-09-30', '2016-10-31', '2016-11-30', '2016-12-31',\n",
       "               '2017-01-31', '2017-02-28', '2017-03-31', '2017-04-30',\n",
       "               '2017-05-31', '2017-06-30', '2017-07-31', '2017-08-31',\n",
       "               '2017-09-30', '2017-10-31', '2017-11-30', '2017-12-31'],\n",
       "              dtype='datetime64[ns]', name='month_invoiced', freq='M')"
      ]
     },
     "execution_count": 92,
     "metadata": {},
     "output_type": "execute_result"
    }
   ],
   "source": [
    "df.index"
   ]
  },
  {
   "cell_type": "code",
   "execution_count": 93,
   "id": "1ab8e275",
   "metadata": {},
   "outputs": [
    {
     "name": "stdout",
     "output_type": "stream",
     "text": [
      "(24, 1)\n",
      "(12, 1)\n",
      "(12, 1)\n"
     ]
    },
    {
     "data": {
      "text/html": [
       "<div>\n",
       "<style scoped>\n",
       "    .dataframe tbody tr th:only-of-type {\n",
       "        vertical-align: middle;\n",
       "    }\n",
       "\n",
       "    .dataframe tbody tr th {\n",
       "        vertical-align: top;\n",
       "    }\n",
       "\n",
       "    .dataframe thead th {\n",
       "        text-align: right;\n",
       "    }\n",
       "</style>\n",
       "<table border=\"1\" class=\"dataframe\">\n",
       "  <thead>\n",
       "    <tr style=\"text-align: right;\">\n",
       "      <th></th>\n",
       "      <th>price</th>\n",
       "    </tr>\n",
       "    <tr>\n",
       "      <th>month_invoiced</th>\n",
       "      <th></th>\n",
       "    </tr>\n",
       "  </thead>\n",
       "  <tbody>\n",
       "    <tr>\n",
       "      <th>2014-01-31</th>\n",
       "      <td>35850</td>\n",
       "    </tr>\n",
       "    <tr>\n",
       "      <th>2014-02-28</th>\n",
       "      <td>37190</td>\n",
       "    </tr>\n",
       "    <tr>\n",
       "      <th>2014-03-31</th>\n",
       "      <td>38295</td>\n",
       "    </tr>\n",
       "    <tr>\n",
       "      <th>2014-04-30</th>\n",
       "      <td>39255</td>\n",
       "    </tr>\n",
       "    <tr>\n",
       "      <th>2014-05-31</th>\n",
       "      <td>40355</td>\n",
       "    </tr>\n",
       "  </tbody>\n",
       "</table>\n",
       "</div>"
      ],
      "text/plain": [
       "                price\n",
       "month_invoiced       \n",
       "2014-01-31      35850\n",
       "2014-02-28      37190\n",
       "2014-03-31      38295\n",
       "2014-04-30      39255\n",
       "2014-05-31      40355"
      ]
     },
     "execution_count": 93,
     "metadata": {},
     "output_type": "execute_result"
    }
   ],
   "source": [
    "train = df[:'2015']\n",
    "validate = df['2016']\n",
    "test = df['2017']\n",
    "\n",
    "print(train.shape)\n",
    "print(validate.shape)\n",
    "print(test.shape)\n",
    "\n",
    "train.head()"
   ]
  },
  {
   "cell_type": "code",
   "execution_count": 94,
   "id": "822ab3dc",
   "metadata": {},
   "outputs": [],
   "source": [
    "# finding the year-over-year difference for each day from 2013 to 2015\n",
    "# taking the mean, and then adding that value to the daily 2015 values. \n",
    "\n",
    "# find your difference from 2013-2014 and 2014-2015, take the mean, and add to each value in 2015. \n",
    "yhat_df = train['2015'] + train.diff(12).mean()"
   ]
  },
  {
   "cell_type": "code",
   "execution_count": 95,
   "id": "399a6d66",
   "metadata": {
    "scrolled": true
   },
   "outputs": [
    {
     "data": {
      "text/html": [
       "<div>\n",
       "<style scoped>\n",
       "    .dataframe tbody tr th:only-of-type {\n",
       "        vertical-align: middle;\n",
       "    }\n",
       "\n",
       "    .dataframe tbody tr th {\n",
       "        vertical-align: top;\n",
       "    }\n",
       "\n",
       "    .dataframe thead th {\n",
       "        text-align: right;\n",
       "    }\n",
       "</style>\n",
       "<table border=\"1\" class=\"dataframe\">\n",
       "  <thead>\n",
       "    <tr style=\"text-align: right;\">\n",
       "      <th></th>\n",
       "      <th>price</th>\n",
       "    </tr>\n",
       "    <tr>\n",
       "      <th>month_invoiced</th>\n",
       "      <th></th>\n",
       "    </tr>\n",
       "  </thead>\n",
       "  <tbody>\n",
       "    <tr>\n",
       "      <th>2015-01-31</th>\n",
       "      <td>46945</td>\n",
       "    </tr>\n",
       "    <tr>\n",
       "      <th>2015-02-28</th>\n",
       "      <td>47520</td>\n",
       "    </tr>\n",
       "    <tr>\n",
       "      <th>2015-03-31</th>\n",
       "      <td>48025</td>\n",
       "    </tr>\n",
       "    <tr>\n",
       "      <th>2015-04-30</th>\n",
       "      <td>48560</td>\n",
       "    </tr>\n",
       "    <tr>\n",
       "      <th>2015-05-31</th>\n",
       "      <td>49025</td>\n",
       "    </tr>\n",
       "  </tbody>\n",
       "</table>\n",
       "</div>"
      ],
      "text/plain": [
       "                price\n",
       "month_invoiced       \n",
       "2015-01-31      46945\n",
       "2015-02-28      47520\n",
       "2015-03-31      48025\n",
       "2015-04-30      48560\n",
       "2015-05-31      49025"
      ]
     },
     "execution_count": 95,
     "metadata": {},
     "output_type": "execute_result"
    }
   ],
   "source": [
    "# look at train 2015 index\n",
    "train.loc['2015'].head()"
   ]
  },
  {
   "cell_type": "code",
   "execution_count": 96,
   "id": "b0e767d1",
   "metadata": {},
   "outputs": [
    {
     "data": {
      "text/html": [
       "<div>\n",
       "<style scoped>\n",
       "    .dataframe tbody tr th:only-of-type {\n",
       "        vertical-align: middle;\n",
       "    }\n",
       "\n",
       "    .dataframe tbody tr th {\n",
       "        vertical-align: top;\n",
       "    }\n",
       "\n",
       "    .dataframe thead th {\n",
       "        text-align: right;\n",
       "    }\n",
       "</style>\n",
       "<table border=\"1\" class=\"dataframe\">\n",
       "  <thead>\n",
       "    <tr style=\"text-align: right;\">\n",
       "      <th></th>\n",
       "      <th>price</th>\n",
       "    </tr>\n",
       "    <tr>\n",
       "      <th>month_invoiced</th>\n",
       "      <th></th>\n",
       "    </tr>\n",
       "  </thead>\n",
       "  <tbody>\n",
       "    <tr>\n",
       "      <th>2015-01-31</th>\n",
       "      <td>55033.75</td>\n",
       "    </tr>\n",
       "    <tr>\n",
       "      <th>2015-02-28</th>\n",
       "      <td>55608.75</td>\n",
       "    </tr>\n",
       "    <tr>\n",
       "      <th>2015-03-31</th>\n",
       "      <td>56113.75</td>\n",
       "    </tr>\n",
       "    <tr>\n",
       "      <th>2015-04-30</th>\n",
       "      <td>56648.75</td>\n",
       "    </tr>\n",
       "    <tr>\n",
       "      <th>2015-05-31</th>\n",
       "      <td>57113.75</td>\n",
       "    </tr>\n",
       "  </tbody>\n",
       "</table>\n",
       "</div>"
      ],
      "text/plain": [
       "                   price\n",
       "month_invoiced          \n",
       "2015-01-31      55033.75\n",
       "2015-02-28      55608.75\n",
       "2015-03-31      56113.75\n",
       "2015-04-30      56648.75\n",
       "2015-05-31      57113.75"
      ]
     },
     "execution_count": 96,
     "metadata": {},
     "output_type": "execute_result"
    }
   ],
   "source": [
    "# look at yhat head\n",
    "yhat_df.head()"
   ]
  },
  {
   "cell_type": "code",
   "execution_count": 97,
   "id": "ecb20ac7",
   "metadata": {},
   "outputs": [
    {
     "data": {
      "text/html": [
       "<div>\n",
       "<style scoped>\n",
       "    .dataframe tbody tr th:only-of-type {\n",
       "        vertical-align: middle;\n",
       "    }\n",
       "\n",
       "    .dataframe tbody tr th {\n",
       "        vertical-align: top;\n",
       "    }\n",
       "\n",
       "    .dataframe thead th {\n",
       "        text-align: right;\n",
       "    }\n",
       "</style>\n",
       "<table border=\"1\" class=\"dataframe\">\n",
       "  <thead>\n",
       "    <tr style=\"text-align: right;\">\n",
       "      <th></th>\n",
       "      <th>price</th>\n",
       "    </tr>\n",
       "    <tr>\n",
       "      <th>month_invoiced</th>\n",
       "      <th></th>\n",
       "    </tr>\n",
       "  </thead>\n",
       "  <tbody>\n",
       "    <tr>\n",
       "      <th>2016-01-31</th>\n",
       "      <td>51955</td>\n",
       "    </tr>\n",
       "    <tr>\n",
       "      <th>2016-02-29</th>\n",
       "      <td>51955</td>\n",
       "    </tr>\n",
       "    <tr>\n",
       "      <th>2016-03-31</th>\n",
       "      <td>52000</td>\n",
       "    </tr>\n",
       "    <tr>\n",
       "      <th>2016-04-30</th>\n",
       "      <td>52190</td>\n",
       "    </tr>\n",
       "    <tr>\n",
       "      <th>2016-05-31</th>\n",
       "      <td>52325</td>\n",
       "    </tr>\n",
       "  </tbody>\n",
       "</table>\n",
       "</div>"
      ],
      "text/plain": [
       "                price\n",
       "month_invoiced       \n",
       "2016-01-31      51955\n",
       "2016-02-29      51955\n",
       "2016-03-31      52000\n",
       "2016-04-30      52190\n",
       "2016-05-31      52325"
      ]
     },
     "execution_count": 97,
     "metadata": {},
     "output_type": "execute_result"
    }
   ],
   "source": [
    "# look at validate head\n",
    "validate.head()"
   ]
  },
  {
   "cell_type": "code",
   "execution_count": 98,
   "id": "8746a8b8",
   "metadata": {},
   "outputs": [
    {
     "data": {
      "text/html": [
       "<div>\n",
       "<style scoped>\n",
       "    .dataframe tbody tr th:only-of-type {\n",
       "        vertical-align: middle;\n",
       "    }\n",
       "\n",
       "    .dataframe tbody tr th {\n",
       "        vertical-align: top;\n",
       "    }\n",
       "\n",
       "    .dataframe thead th {\n",
       "        text-align: right;\n",
       "    }\n",
       "</style>\n",
       "<table border=\"1\" class=\"dataframe\">\n",
       "  <thead>\n",
       "    <tr style=\"text-align: right;\">\n",
       "      <th></th>\n",
       "      <th>price</th>\n",
       "    </tr>\n",
       "    <tr>\n",
       "      <th>month_invoiced</th>\n",
       "      <th></th>\n",
       "    </tr>\n",
       "  </thead>\n",
       "  <tbody>\n",
       "    <tr>\n",
       "      <th>2015-01-31</th>\n",
       "      <td>55033.75</td>\n",
       "    </tr>\n",
       "    <tr>\n",
       "      <th>2016-01-31</th>\n",
       "      <td>51955.00</td>\n",
       "    </tr>\n",
       "  </tbody>\n",
       "</table>\n",
       "</div>"
      ],
      "text/plain": [
       "                   price\n",
       "month_invoiced          \n",
       "2015-01-31      55033.75\n",
       "2016-01-31      51955.00"
      ]
     },
     "execution_count": 98,
     "metadata": {},
     "output_type": "execute_result"
    }
   ],
   "source": [
    "# let's peek into the prediction we will make for 1/1/2016\n",
    "# by comparing the predicted value \n",
    "# (2015 value + year-over-year average difference)\n",
    "# to the actual 1/1/2016 value\n",
    "pd.concat([yhat_df.head(1), validate.head(1)])"
   ]
  },
  {
   "cell_type": "code",
   "execution_count": 99,
   "id": "d396b0f5",
   "metadata": {},
   "outputs": [],
   "source": [
    "# set yhat_df to index of validate\n",
    "yhat_df.index = validate.index"
   ]
  },
  {
   "cell_type": "code",
   "execution_count": 100,
   "id": "a5efb5ad",
   "metadata": {
    "scrolled": true
   },
   "outputs": [
    {
     "data": {
      "text/html": [
       "<div>\n",
       "<style scoped>\n",
       "    .dataframe tbody tr th:only-of-type {\n",
       "        vertical-align: middle;\n",
       "    }\n",
       "\n",
       "    .dataframe tbody tr th {\n",
       "        vertical-align: top;\n",
       "    }\n",
       "\n",
       "    .dataframe thead th {\n",
       "        text-align: right;\n",
       "    }\n",
       "</style>\n",
       "<table border=\"1\" class=\"dataframe\">\n",
       "  <thead>\n",
       "    <tr style=\"text-align: right;\">\n",
       "      <th></th>\n",
       "      <th>price</th>\n",
       "    </tr>\n",
       "  </thead>\n",
       "  <tbody>\n",
       "    <tr>\n",
       "      <th>count</th>\n",
       "      <td>12.000000</td>\n",
       "    </tr>\n",
       "    <tr>\n",
       "      <th>mean</th>\n",
       "      <td>57701.666667</td>\n",
       "    </tr>\n",
       "    <tr>\n",
       "      <th>std</th>\n",
       "      <td>1596.656248</td>\n",
       "    </tr>\n",
       "    <tr>\n",
       "      <th>min</th>\n",
       "      <td>55033.750000</td>\n",
       "    </tr>\n",
       "    <tr>\n",
       "      <th>25%</th>\n",
       "      <td>56515.000000</td>\n",
       "    </tr>\n",
       "    <tr>\n",
       "      <th>50%</th>\n",
       "      <td>57883.750000</td>\n",
       "    </tr>\n",
       "    <tr>\n",
       "      <th>75%</th>\n",
       "      <td>59142.500000</td>\n",
       "    </tr>\n",
       "    <tr>\n",
       "      <th>max</th>\n",
       "      <td>59593.750000</td>\n",
       "    </tr>\n",
       "  </tbody>\n",
       "</table>\n",
       "</div>"
      ],
      "text/plain": [
       "              price\n",
       "count     12.000000\n",
       "mean   57701.666667\n",
       "std     1596.656248\n",
       "min    55033.750000\n",
       "25%    56515.000000\n",
       "50%    57883.750000\n",
       "75%    59142.500000\n",
       "max    59593.750000"
      ]
     },
     "execution_count": 100,
     "metadata": {},
     "output_type": "execute_result"
    }
   ],
   "source": [
    "yhat_df.describe()"
   ]
  },
  {
   "cell_type": "code",
   "execution_count": 101,
   "id": "6bbd95f8",
   "metadata": {},
   "outputs": [
    {
     "data": {
      "text/html": [
       "<div>\n",
       "<style scoped>\n",
       "    .dataframe tbody tr th:only-of-type {\n",
       "        vertical-align: middle;\n",
       "    }\n",
       "\n",
       "    .dataframe tbody tr th {\n",
       "        vertical-align: top;\n",
       "    }\n",
       "\n",
       "    .dataframe thead th {\n",
       "        text-align: right;\n",
       "    }\n",
       "</style>\n",
       "<table border=\"1\" class=\"dataframe\">\n",
       "  <thead>\n",
       "    <tr style=\"text-align: right;\">\n",
       "      <th></th>\n",
       "      <th>price</th>\n",
       "    </tr>\n",
       "    <tr>\n",
       "      <th>month_invoiced</th>\n",
       "      <th></th>\n",
       "    </tr>\n",
       "  </thead>\n",
       "  <tbody>\n",
       "    <tr>\n",
       "      <th>2016-01-31</th>\n",
       "      <td>55033.75</td>\n",
       "    </tr>\n",
       "    <tr>\n",
       "      <th>2016-02-29</th>\n",
       "      <td>55608.75</td>\n",
       "    </tr>\n",
       "    <tr>\n",
       "      <th>2016-03-31</th>\n",
       "      <td>56113.75</td>\n",
       "    </tr>\n",
       "    <tr>\n",
       "      <th>2016-04-30</th>\n",
       "      <td>56648.75</td>\n",
       "    </tr>\n",
       "    <tr>\n",
       "      <th>2016-05-31</th>\n",
       "      <td>57113.75</td>\n",
       "    </tr>\n",
       "  </tbody>\n",
       "</table>\n",
       "</div>"
      ],
      "text/plain": [
       "                   price\n",
       "month_invoiced          \n",
       "2016-01-31      55033.75\n",
       "2016-02-29      55608.75\n",
       "2016-03-31      56113.75\n",
       "2016-04-30      56648.75\n",
       "2016-05-31      57113.75"
      ]
     },
     "execution_count": 101,
     "metadata": {},
     "output_type": "execute_result"
    }
   ],
   "source": [
    "yhat_df.head()"
   ]
  },
  {
   "cell_type": "code",
   "execution_count": 102,
   "id": "c81befbd",
   "metadata": {},
   "outputs": [
    {
     "data": {
      "text/plain": [
       "(12, 1)"
      ]
     },
     "execution_count": 102,
     "metadata": {},
     "output_type": "execute_result"
    }
   ],
   "source": [
    "yhat_df.shape"
   ]
  },
  {
   "cell_type": "code",
   "execution_count": 103,
   "id": "110c803e",
   "metadata": {},
   "outputs": [
    {
     "name": "stdout",
     "output_type": "stream",
     "text": [
      "price -- RMSE: 5192\n"
     ]
    },
    {
     "data": {
      "image/png": "[encoded data removed]",
      "text/plain": [
       "<Figure size 864x288 with 1 Axes>"
      ]
     },
     "metadata": {
      "needs_background": "light"
     },
     "output_type": "display_data"
    }
   ],
   "source": [
    "# Plot and Evaluate\n",
    "plot_and_eval(target_var = col)\n",
    "eval_df = append_eval_df(model_type = \"previous_year\", \n",
    "                            target_var = col)"
   ]
  },
  {
   "cell_type": "code",
   "execution_count": 104,
   "id": "21a90f8e",
   "metadata": {},
   "outputs": [
    {
     "data": {
      "text/html": [
       "<div>\n",
       "<style scoped>\n",
       "    .dataframe tbody tr th:only-of-type {\n",
       "        vertical-align: middle;\n",
       "    }\n",
       "\n",
       "    .dataframe tbody tr th {\n",
       "        vertical-align: top;\n",
       "    }\n",
       "\n",
       "    .dataframe thead th {\n",
       "        text-align: right;\n",
       "    }\n",
       "</style>\n",
       "<table border=\"1\" class=\"dataframe\">\n",
       "  <thead>\n",
       "    <tr style=\"text-align: right;\">\n",
       "      <th></th>\n",
       "      <th>model_type</th>\n",
       "      <th>target_var</th>\n",
       "      <th>rmse</th>\n",
       "    </tr>\n",
       "  </thead>\n",
       "  <tbody>\n",
       "    <tr>\n",
       "      <th>8</th>\n",
       "      <td>holts_optimized</td>\n",
       "      <td>price</td>\n",
       "      <td>456.0</td>\n",
       "    </tr>\n",
       "    <tr>\n",
       "      <th>0</th>\n",
       "      <td>last_observed_value</td>\n",
       "      <td>price</td>\n",
       "      <td>1343.0</td>\n",
       "    </tr>\n",
       "    <tr>\n",
       "      <th>3</th>\n",
       "      <td>1_month_moving_avg</td>\n",
       "      <td>price</td>\n",
       "      <td>1343.0</td>\n",
       "    </tr>\n",
       "    <tr>\n",
       "      <th>2</th>\n",
       "      <td>3_month_moving_avg</td>\n",
       "      <td>price</td>\n",
       "      <td>1436.0</td>\n",
       "    </tr>\n",
       "    <tr>\n",
       "      <th>4</th>\n",
       "      <td>3_month_moving_avg</td>\n",
       "      <td>price</td>\n",
       "      <td>1436.0</td>\n",
       "    </tr>\n",
       "    <tr>\n",
       "      <th>5</th>\n",
       "      <td>6_month_moving_avg</td>\n",
       "      <td>price</td>\n",
       "      <td>1847.0</td>\n",
       "    </tr>\n",
       "    <tr>\n",
       "      <th>6</th>\n",
       "      <td>9_month_moving_avg</td>\n",
       "      <td>price</td>\n",
       "      <td>2473.0</td>\n",
       "    </tr>\n",
       "    <tr>\n",
       "      <th>7</th>\n",
       "      <td>12_month_moving_avg</td>\n",
       "      <td>price</td>\n",
       "      <td>3164.0</td>\n",
       "    </tr>\n",
       "    <tr>\n",
       "      <th>9</th>\n",
       "      <td>previous_year</td>\n",
       "      <td>price</td>\n",
       "      <td>5192.0</td>\n",
       "    </tr>\n",
       "    <tr>\n",
       "      <th>1</th>\n",
       "      <td>simple_average</td>\n",
       "      <td>price</td>\n",
       "      <td>7181.0</td>\n",
       "    </tr>\n",
       "  </tbody>\n",
       "</table>\n",
       "</div>"
      ],
      "text/plain": [
       "            model_type target_var    rmse\n",
       "8      holts_optimized      price   456.0\n",
       "0  last_observed_value      price  1343.0\n",
       "3   1_month_moving_avg      price  1343.0\n",
       "2   3_month_moving_avg      price  1436.0\n",
       "4   3_month_moving_avg      price  1436.0\n",
       "5   6_month_moving_avg      price  1847.0\n",
       "6   9_month_moving_avg      price  2473.0\n",
       "7  12_month_moving_avg      price  3164.0\n",
       "9        previous_year      price  5192.0\n",
       "1       simple_average      price  7181.0"
      ]
     },
     "execution_count": 104,
     "metadata": {},
     "output_type": "execute_result"
    }
   ],
   "source": [
    "# Display eval DataFrame sorted by RMSE to find best performing model\n",
    "eval_df.sort_values(by='rmse')"
   ]
  },
  {
   "cell_type": "code",
   "execution_count": 105,
   "id": "1702dce4",
   "metadata": {},
   "outputs": [],
   "source": [
    "# Create yhat variable for test predictions\n",
    "yhat_items = model.predict(start = test.index[0],\n",
    "                              end = test.index[-1])"
   ]
  },
  {
   "cell_type": "code",
   "execution_count": 106,
   "id": "450d5818",
   "metadata": {},
   "outputs": [],
   "source": [
    "# Create yhat DataFrame using test and replace price with predictions\n",
    "yhat_df = pd.DataFrame(index=test.index, columns=test.columns)\n",
    "yhat_df.price = yhat_items"
   ]
  },
  {
   "cell_type": "code",
   "execution_count": 107,
   "id": "4141a726",
   "metadata": {},
   "outputs": [
    {
     "data": {
      "text/html": [
       "<div>\n",
       "<style scoped>\n",
       "    .dataframe tbody tr th:only-of-type {\n",
       "        vertical-align: middle;\n",
       "    }\n",
       "\n",
       "    .dataframe tbody tr th {\n",
       "        vertical-align: top;\n",
       "    }\n",
       "\n",
       "    .dataframe thead th {\n",
       "        text-align: right;\n",
       "    }\n",
       "</style>\n",
       "<table border=\"1\" class=\"dataframe\">\n",
       "  <thead>\n",
       "    <tr style=\"text-align: right;\">\n",
       "      <th></th>\n",
       "      <th>price</th>\n",
       "    </tr>\n",
       "    <tr>\n",
       "      <th>month_invoiced</th>\n",
       "      <th></th>\n",
       "    </tr>\n",
       "  </thead>\n",
       "  <tbody>\n",
       "    <tr>\n",
       "      <th>2017-01-31</th>\n",
       "      <td>54179.514829</td>\n",
       "    </tr>\n",
       "    <tr>\n",
       "      <th>2017-02-28</th>\n",
       "      <td>54369.799440</td>\n",
       "    </tr>\n",
       "    <tr>\n",
       "      <th>2017-03-31</th>\n",
       "      <td>54558.276350</td>\n",
       "    </tr>\n",
       "    <tr>\n",
       "      <th>2017-04-30</th>\n",
       "      <td>54744.962734</td>\n",
       "    </tr>\n",
       "    <tr>\n",
       "      <th>2017-05-31</th>\n",
       "      <td>54929.875601</td>\n",
       "    </tr>\n",
       "    <tr>\n",
       "      <th>2017-06-30</th>\n",
       "      <td>55113.031800</td>\n",
       "    </tr>\n",
       "    <tr>\n",
       "      <th>2017-07-31</th>\n",
       "      <td>55294.448019</td>\n",
       "    </tr>\n",
       "    <tr>\n",
       "      <th>2017-08-31</th>\n",
       "      <td>55474.140787</td>\n",
       "    </tr>\n",
       "    <tr>\n",
       "      <th>2017-09-30</th>\n",
       "      <td>55652.126478</td>\n",
       "    </tr>\n",
       "    <tr>\n",
       "      <th>2017-10-31</th>\n",
       "      <td>55828.421309</td>\n",
       "    </tr>\n",
       "    <tr>\n",
       "      <th>2017-11-30</th>\n",
       "      <td>56003.041342</td>\n",
       "    </tr>\n",
       "    <tr>\n",
       "      <th>2017-12-31</th>\n",
       "      <td>56176.002489</td>\n",
       "    </tr>\n",
       "  </tbody>\n",
       "</table>\n",
       "</div>"
      ],
      "text/plain": [
       "                       price\n",
       "month_invoiced              \n",
       "2017-01-31      54179.514829\n",
       "2017-02-28      54369.799440\n",
       "2017-03-31      54558.276350\n",
       "2017-04-30      54744.962734\n",
       "2017-05-31      54929.875601\n",
       "2017-06-30      55113.031800\n",
       "2017-07-31      55294.448019\n",
       "2017-08-31      55474.140787\n",
       "2017-09-30      55652.126478\n",
       "2017-10-31      55828.421309\n",
       "2017-11-30      56003.041342\n",
       "2017-12-31      56176.002489"
      ]
     },
     "execution_count": 107,
     "metadata": {},
     "output_type": "execute_result"
    }
   ],
   "source": [
    "yhat_df"
   ]
  },
  {
   "cell_type": "code",
   "execution_count": 108,
   "id": "096b4884",
   "metadata": {},
   "outputs": [],
   "source": [
    "# Create Function to show final plot with train, val, test, and predictions\n",
    "\n",
    "def final_plot(target_var):\n",
    "    plt.figure(figsize=(12,4))\n",
    "    plt.plot(train[target_var], label='train')\n",
    "    plt.plot(validate[target_var], label='validate')\n",
    "    plt.plot(test[target_var], label='test')\n",
    "    plt.plot(yhat_df[target_var], alpha=.5, label='prediction')\n",
    "    plt.title(target_var)\n",
    "    plt.legend()\n",
    "    plt.show()"
   ]
  },
  {
   "cell_type": "code",
   "execution_count": 109,
   "id": "2b9b8917",
   "metadata": {},
   "outputs": [],
   "source": [
    "# Store RMSE result between test and yhat\n",
    "rmse_amount = sqrt(mean_squared_error(test['price'], \n",
    "                                       yhat_df['price']))"
   ]
  },
  {
   "cell_type": "code",
   "execution_count": 110,
   "id": "cd3ee669",
   "metadata": {},
   "outputs": [
    {
     "name": "stdout",
     "output_type": "stream",
     "text": [
      "rmse-amount:  1645.3897303951746\n"
     ]
    }
   ],
   "source": [
    "# show the answer in human readable print\n",
    "print('rmse-amount: ', rmse_amount)"
   ]
  },
  {
   "cell_type": "code",
   "execution_count": 111,
   "id": "beb6b17c",
   "metadata": {},
   "outputs": [
    {
     "data": {
      "image/png": "[encoded data removed]",
      "text/plain": [
       "<Figure size 864x288 with 1 Axes>"
      ]
     },
     "metadata": {
      "needs_background": "light"
     },
     "output_type": "display_data"
    }
   ],
   "source": [
    "# Show final plot using custom function\n",
    "final_plot(col)"
   ]
  },
  {
   "cell_type": "code",
   "execution_count": 112,
   "id": "55636f39",
   "metadata": {},
   "outputs": [],
   "source": [
    "# to predict 2018, create yhat DataFrame with new index 1 year later\n",
    "yhat_df.index = test.index + pd.Timedelta('1Y')"
   ]
  },
  {
   "cell_type": "code",
   "execution_count": 113,
   "id": "8bd599b7",
   "metadata": {
    "scrolled": true
   },
   "outputs": [
    {
     "data": {
      "text/html": [
       "<div>\n",
       "<style scoped>\n",
       "    .dataframe tbody tr th:only-of-type {\n",
       "        vertical-align: middle;\n",
       "    }\n",
       "\n",
       "    .dataframe tbody tr th {\n",
       "        vertical-align: top;\n",
       "    }\n",
       "\n",
       "    .dataframe thead th {\n",
       "        text-align: right;\n",
       "    }\n",
       "</style>\n",
       "<table border=\"1\" class=\"dataframe\">\n",
       "  <thead>\n",
       "    <tr style=\"text-align: right;\">\n",
       "      <th></th>\n",
       "      <th>price</th>\n",
       "    </tr>\n",
       "    <tr>\n",
       "      <th>month_invoiced</th>\n",
       "      <th></th>\n",
       "    </tr>\n",
       "  </thead>\n",
       "  <tbody>\n",
       "    <tr>\n",
       "      <th>2018-01-31 05:49:12</th>\n",
       "      <td>54179.514829</td>\n",
       "    </tr>\n",
       "    <tr>\n",
       "      <th>2018-02-28 05:49:12</th>\n",
       "      <td>54369.799440</td>\n",
       "    </tr>\n",
       "    <tr>\n",
       "      <th>2018-03-31 05:49:12</th>\n",
       "      <td>54558.276350</td>\n",
       "    </tr>\n",
       "    <tr>\n",
       "      <th>2018-04-30 05:49:12</th>\n",
       "      <td>54744.962734</td>\n",
       "    </tr>\n",
       "    <tr>\n",
       "      <th>2018-05-31 05:49:12</th>\n",
       "      <td>54929.875601</td>\n",
       "    </tr>\n",
       "    <tr>\n",
       "      <th>2018-06-30 05:49:12</th>\n",
       "      <td>55113.031800</td>\n",
       "    </tr>\n",
       "    <tr>\n",
       "      <th>2018-07-31 05:49:12</th>\n",
       "      <td>55294.448019</td>\n",
       "    </tr>\n",
       "    <tr>\n",
       "      <th>2018-08-31 05:49:12</th>\n",
       "      <td>55474.140787</td>\n",
       "    </tr>\n",
       "    <tr>\n",
       "      <th>2018-09-30 05:49:12</th>\n",
       "      <td>55652.126478</td>\n",
       "    </tr>\n",
       "    <tr>\n",
       "      <th>2018-10-31 05:49:12</th>\n",
       "      <td>55828.421309</td>\n",
       "    </tr>\n",
       "    <tr>\n",
       "      <th>2018-11-30 05:49:12</th>\n",
       "      <td>56003.041342</td>\n",
       "    </tr>\n",
       "    <tr>\n",
       "      <th>2018-12-31 05:49:12</th>\n",
       "      <td>56176.002489</td>\n",
       "    </tr>\n",
       "  </tbody>\n",
       "</table>\n",
       "</div>"
      ],
      "text/plain": [
       "                            price\n",
       "month_invoiced                   \n",
       "2018-01-31 05:49:12  54179.514829\n",
       "2018-02-28 05:49:12  54369.799440\n",
       "2018-03-31 05:49:12  54558.276350\n",
       "2018-04-30 05:49:12  54744.962734\n",
       "2018-05-31 05:49:12  54929.875601\n",
       "2018-06-30 05:49:12  55113.031800\n",
       "2018-07-31 05:49:12  55294.448019\n",
       "2018-08-31 05:49:12  55474.140787\n",
       "2018-09-30 05:49:12  55652.126478\n",
       "2018-10-31 05:49:12  55828.421309\n",
       "2018-11-30 05:49:12  56003.041342\n",
       "2018-12-31 05:49:12  56176.002489"
      ]
     },
     "execution_count": 113,
     "metadata": {},
     "output_type": "execute_result"
    }
   ],
   "source": [
    "yhat_df"
   ]
  },
  {
   "cell_type": "code",
   "execution_count": 114,
   "id": "cf33d20f",
   "metadata": {},
   "outputs": [],
   "source": [
    "# Create yhat variable for test predictions on test index\n",
    "yhat = model.predict(start = test.index[0],\n",
    "                              end = test.index[-1])"
   ]
  },
  {
   "cell_type": "code",
   "execution_count": 115,
   "id": "078a4726",
   "metadata": {},
   "outputs": [
    {
     "data": {
      "text/plain": [
       "2017-01-31    54179.514829\n",
       "2017-02-28    54369.799440\n",
       "2017-03-31    54558.276350\n",
       "2017-04-30    54744.962734\n",
       "2017-05-31    54929.875601\n",
       "2017-06-30    55113.031800\n",
       "2017-07-31    55294.448019\n",
       "2017-08-31    55474.140787\n",
       "2017-09-30    55652.126478\n",
       "2017-10-31    55828.421309\n",
       "2017-11-30    56003.041342\n",
       "2017-12-31    56176.002489\n",
       "Freq: M, dtype: float64"
      ]
     },
     "execution_count": 115,
     "metadata": {},
     "output_type": "execute_result"
    }
   ],
   "source": [
    "# show the new test predictions variable\n",
    "yhat"
   ]
  },
  {
   "cell_type": "code",
   "execution_count": 116,
   "id": "2cf3332a",
   "metadata": {},
   "outputs": [],
   "source": [
    "# overwrite the current yhat DataFrame target with the 2017 predicted values captured in the yhat variable\n",
    "yhat_df.price = yhat.values"
   ]
  },
  {
   "cell_type": "code",
   "execution_count": 117,
   "id": "ef66e11e",
   "metadata": {},
   "outputs": [
    {
     "data": {
      "text/html": [
       "<div>\n",
       "<style scoped>\n",
       "    .dataframe tbody tr th:only-of-type {\n",
       "        vertical-align: middle;\n",
       "    }\n",
       "\n",
       "    .dataframe tbody tr th {\n",
       "        vertical-align: top;\n",
       "    }\n",
       "\n",
       "    .dataframe thead th {\n",
       "        text-align: right;\n",
       "    }\n",
       "</style>\n",
       "<table border=\"1\" class=\"dataframe\">\n",
       "  <thead>\n",
       "    <tr style=\"text-align: right;\">\n",
       "      <th></th>\n",
       "      <th>price</th>\n",
       "    </tr>\n",
       "    <tr>\n",
       "      <th>month_invoiced</th>\n",
       "      <th></th>\n",
       "    </tr>\n",
       "  </thead>\n",
       "  <tbody>\n",
       "    <tr>\n",
       "      <th>2018-01-31 05:49:12</th>\n",
       "      <td>54179.514829</td>\n",
       "    </tr>\n",
       "    <tr>\n",
       "      <th>2018-02-28 05:49:12</th>\n",
       "      <td>54369.799440</td>\n",
       "    </tr>\n",
       "    <tr>\n",
       "      <th>2018-03-31 05:49:12</th>\n",
       "      <td>54558.276350</td>\n",
       "    </tr>\n",
       "    <tr>\n",
       "      <th>2018-04-30 05:49:12</th>\n",
       "      <td>54744.962734</td>\n",
       "    </tr>\n",
       "    <tr>\n",
       "      <th>2018-05-31 05:49:12</th>\n",
       "      <td>54929.875601</td>\n",
       "    </tr>\n",
       "    <tr>\n",
       "      <th>2018-06-30 05:49:12</th>\n",
       "      <td>55113.031800</td>\n",
       "    </tr>\n",
       "    <tr>\n",
       "      <th>2018-07-31 05:49:12</th>\n",
       "      <td>55294.448019</td>\n",
       "    </tr>\n",
       "    <tr>\n",
       "      <th>2018-08-31 05:49:12</th>\n",
       "      <td>55474.140787</td>\n",
       "    </tr>\n",
       "    <tr>\n",
       "      <th>2018-09-30 05:49:12</th>\n",
       "      <td>55652.126478</td>\n",
       "    </tr>\n",
       "    <tr>\n",
       "      <th>2018-10-31 05:49:12</th>\n",
       "      <td>55828.421309</td>\n",
       "    </tr>\n",
       "    <tr>\n",
       "      <th>2018-11-30 05:49:12</th>\n",
       "      <td>56003.041342</td>\n",
       "    </tr>\n",
       "    <tr>\n",
       "      <th>2018-12-31 05:49:12</th>\n",
       "      <td>56176.002489</td>\n",
       "    </tr>\n",
       "  </tbody>\n",
       "</table>\n",
       "</div>"
      ],
      "text/plain": [
       "                            price\n",
       "month_invoiced                   \n",
       "2018-01-31 05:49:12  54179.514829\n",
       "2018-02-28 05:49:12  54369.799440\n",
       "2018-03-31 05:49:12  54558.276350\n",
       "2018-04-30 05:49:12  54744.962734\n",
       "2018-05-31 05:49:12  54929.875601\n",
       "2018-06-30 05:49:12  55113.031800\n",
       "2018-07-31 05:49:12  55294.448019\n",
       "2018-08-31 05:49:12  55474.140787\n",
       "2018-09-30 05:49:12  55652.126478\n",
       "2018-10-31 05:49:12  55828.421309\n",
       "2018-11-30 05:49:12  56003.041342\n",
       "2018-12-31 05:49:12  56176.002489"
      ]
     },
     "execution_count": 117,
     "metadata": {},
     "output_type": "execute_result"
    }
   ],
   "source": [
    "yhat_df"
   ]
  },
  {
   "cell_type": "code",
   "execution_count": 118,
   "id": "56619da7",
   "metadata": {},
   "outputs": [],
   "source": [
    "# Create another final plot function\n",
    "def final_plot(target_var):\n",
    "    plt.figure(figsize=(12,4))\n",
    "    plt.plot(train[target_var], label='train')\n",
    "    plt.plot(validate[target_var], label='validate')\n",
    "    plt.plot(test[target_var], label='test')\n",
    "    plt.plot(yhat_df[target_var], alpha=.5, label='projection')\n",
    "    plt.title(target_var)\n",
    "    plt.legend()\n",
    "    plt.show()"
   ]
  },
  {
   "cell_type": "code",
   "execution_count": 119,
   "id": "404e3cc7",
   "metadata": {},
   "outputs": [
    {
     "data": {
      "image/png": "[encoded data removed]",
      "text/plain": [
       "<Figure size 864x288 with 1 Axes>"
      ]
     },
     "metadata": {
      "needs_background": "light"
     },
     "output_type": "display_data"
    }
   ],
   "source": [
    "# show polot using function in loop\n",
    "for col in train.columns:\n",
    "    final_plot(col)"
   ]
  },
  {
   "cell_type": "markdown",
   "id": "5c8d944c",
   "metadata": {},
   "source": [
    "<div class=\"alert alert-danger\">\n",
    "\n",
    "    \n",
    "# Bonus"
   ]
  },
  {
   "cell_type": "markdown",
   "id": "a40fe173",
   "metadata": {},
   "source": [
    "<div class=\"alert alert-success\">\n",
    "\n",
    "\n",
    "# ```store``` dataset"
   ]
  },
  {
   "cell_type": "markdown",
   "id": "b3673f1e",
   "metadata": {},
   "source": [
    "<div class=\"alert alert-warning\">\n",
    "\n",
    "\n",
    "## 1. Predict 2018 total **monthly** sales for a single store and/or item by creating a model."
   ]
  },
  {
   "cell_type": "markdown",
   "id": "bb990a6d",
   "metadata": {},
   "source": [
    "<div class=\"alert alert-warning\">\n",
    "\n",
    "\n",
    "## 2. Return a dataframe with the month, store_id, y-hat, and the confidence intervals (y-hat lower, y-hat upper). The upper and lower bounds of the predictions are auto generated when using the facebook prophet model, or you could calculate your own using, for example, ```bollinger bands```."
   ]
  },
  {
   "cell_type": "markdown",
   "id": "83f976b2",
   "metadata": {},
   "source": [
    "<div class=\"alert alert-warning\">\n",
    "\n",
    "\n",
    "## 3. Plot the 2018 monthly sales predictions."
   ]
  },
  {
   "cell_type": "code",
   "execution_count": null,
   "id": "f7db49c1",
   "metadata": {},
   "outputs": [],
   "source": []
  }
 ],
 "metadata": {
  "kernelspec": {
   "display_name": "Python 3 (ipykernel)",
   "language": "python",
   "name": "python3"
  },
  "language_info": {
   "codemirror_mode": {
    "name": "ipython",
    "version": 3
   },
   "file_extension": ".py",
   "mimetype": "text/x-python",
   "name": "python",
   "nbconvert_exporter": "python",
   "pygments_lexer": "ipython3",
   "version": "3.9.12"
  }
 },
 "nbformat": 4,
 "nbformat_minor": 5
}

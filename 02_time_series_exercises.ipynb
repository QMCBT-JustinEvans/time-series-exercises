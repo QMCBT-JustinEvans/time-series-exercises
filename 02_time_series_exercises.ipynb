{
 "cells": [
  {
   "cell_type": "code",
   "execution_count": 1,
   "id": "c66da2e1",
   "metadata": {},
   "outputs": [
    {
     "data": {
      "application/javascript": [
       "IPython.notebook.set_autosave_interval(0)"
      ]
     },
     "metadata": {},
     "output_type": "display_data"
    },
    {
     "name": "stdout",
     "output_type": "stream",
     "text": [
      "Autosave disabled\n"
     ]
    }
   ],
   "source": [
    "#Disable autosave\n",
    "%autosave 0"
   ]
  },
  {
   "cell_type": "code",
   "execution_count": 2,
   "id": "db27d020",
   "metadata": {},
   "outputs": [],
   "source": [
    "# IMPORTS REQUIRED:\n",
    "import pandas as pd\n",
    "import numpy as np\n",
    "\n",
    "import matplotlib.pyplot as plt\n",
    "plt.rcParams[\"figure.figsize\"] = (5,3)\n",
    "plt.rcParams[\"font.size\"] = 8\n",
    "\n",
    "import warnings\n",
    "warnings.filterwarnings('ignore')"
   ]
  },
  {
   "cell_type": "markdown",
   "id": "c0ea2760",
   "metadata": {},
   "source": [
    "<div class=\"alert alert-success\">\n",
    "\n",
    "\n",
    "\n",
    "# Working with Time Series Exercises\n",
    "\n",
    "For all of the datasets below, examine the data types of each column, ensure that the dates are in the proper format, and set the dataframe's index to the date column as appropriate.\n",
    "\n",
    "For this exercise you'll need to install a library that will provide us access to some more datasets:\n",
    "\n",
    "```pip install vega_datasets```"
   ]
  },
  {
   "cell_type": "code",
   "execution_count": 3,
   "id": "eef0f25b",
   "metadata": {},
   "outputs": [
    {
     "data": {
      "text/html": [
       "<div>\n",
       "<style scoped>\n",
       "    .dataframe tbody tr th:only-of-type {\n",
       "        vertical-align: middle;\n",
       "    }\n",
       "\n",
       "    .dataframe tbody tr th {\n",
       "        vertical-align: top;\n",
       "    }\n",
       "\n",
       "    .dataframe thead th {\n",
       "        text-align: right;\n",
       "    }\n",
       "</style>\n",
       "<table border=\"1\" class=\"dataframe\">\n",
       "  <thead>\n",
       "    <tr style=\"text-align: right;\">\n",
       "      <th></th>\n",
       "      <th>temp</th>\n",
       "      <th>date</th>\n",
       "    </tr>\n",
       "  </thead>\n",
       "  <tbody>\n",
       "    <tr>\n",
       "      <th>0</th>\n",
       "      <td>47.8</td>\n",
       "      <td>2010-01-01 00:00:00</td>\n",
       "    </tr>\n",
       "    <tr>\n",
       "      <th>1</th>\n",
       "      <td>47.4</td>\n",
       "      <td>2010-01-01 01:00:00</td>\n",
       "    </tr>\n",
       "    <tr>\n",
       "      <th>2</th>\n",
       "      <td>46.9</td>\n",
       "      <td>2010-01-01 02:00:00</td>\n",
       "    </tr>\n",
       "    <tr>\n",
       "      <th>3</th>\n",
       "      <td>46.5</td>\n",
       "      <td>2010-01-01 03:00:00</td>\n",
       "    </tr>\n",
       "    <tr>\n",
       "      <th>4</th>\n",
       "      <td>46.0</td>\n",
       "      <td>2010-01-01 04:00:00</td>\n",
       "    </tr>\n",
       "  </tbody>\n",
       "</table>\n",
       "</div>"
      ],
      "text/plain": [
       "   temp                date\n",
       "0  47.8 2010-01-01 00:00:00\n",
       "1  47.4 2010-01-01 01:00:00\n",
       "2  46.9 2010-01-01 02:00:00\n",
       "3  46.5 2010-01-01 03:00:00\n",
       "4  46.0 2010-01-01 04:00:00"
      ]
     },
     "execution_count": 3,
     "metadata": {},
     "output_type": "execute_result"
    }
   ],
   "source": [
    "# You can use this library like so:\n",
    "from vega_datasets import data\n",
    "# Call the sf_temps() dataset from the vega_datasets library like so:\n",
    "temps = data.sf_temps()\n",
    "temps.head()"
   ]
  },
  {
   "cell_type": "code",
   "execution_count": 4,
   "id": "7582fd16",
   "metadata": {
    "scrolled": true
   },
   "outputs": [
    {
     "name": "stdout",
     "output_type": "stream",
     "text": [
      "<class 'pandas.core.frame.DataFrame'>\n",
      "RangeIndex: 8759 entries, 0 to 8758\n",
      "Data columns (total 2 columns):\n",
      " #   Column  Non-Null Count  Dtype         \n",
      "---  ------  --------------  -----         \n",
      " 0   temp    8759 non-null   float64       \n",
      " 1   date    8759 non-null   datetime64[ns]\n",
      "dtypes: datetime64[ns](1), float64(1)\n",
      "memory usage: 137.0 KB\n"
     ]
    }
   ],
   "source": [
    "# Ensure dtype is datetime64[ns] \n",
    "temps.info()"
   ]
  },
  {
   "cell_type": "code",
   "execution_count": 5,
   "id": "72d3c1a0",
   "metadata": {},
   "outputs": [
    {
     "data": {
      "text/plain": [
       "temp    0\n",
       "date    0\n",
       "dtype: int64"
      ]
     },
     "execution_count": 5,
     "metadata": {},
     "output_type": "execute_result"
    }
   ],
   "source": [
    "# Check for missing data\n",
    "temps.isnull().sum()"
   ]
  },
  {
   "cell_type": "code",
   "execution_count": 6,
   "id": "743adffa",
   "metadata": {},
   "outputs": [
    {
     "data": {
      "text/plain": [
       "Index(['temp', 'date'], dtype='object')"
      ]
     },
     "execution_count": 6,
     "metadata": {},
     "output_type": "execute_result"
    }
   ],
   "source": [
    "temps.columns"
   ]
  },
  {
   "cell_type": "markdown",
   "id": "64cf95d9",
   "metadata": {},
   "source": [
    "## Use the above dataset for the following exercises:"
   ]
  },
  {
   "cell_type": "markdown",
   "id": "a25bfec8",
   "metadata": {},
   "source": [
    "<div class=\"alert alert-warning\">\n",
    "\n",
    "\n",
    "## 1. Resample by the day and take the average temperature. Visualize the average temperature over time."
   ]
  },
  {
   "cell_type": "code",
   "execution_count": 7,
   "id": "5136382a",
   "metadata": {
    "scrolled": true
   },
   "outputs": [],
   "source": [
    "# Resample by the Day BEFORE RESET INDEX\n",
    "temps['day'] = temps.date.dt.day\n",
    "temps['day_of_week'] = temps.date.dt.day_name()\n",
    "temps['weekday_number'] = temps.date.dt.day_of_week+1"
   ]
  },
  {
   "cell_type": "code",
   "execution_count": 8,
   "id": "cf5c7f20",
   "metadata": {},
   "outputs": [
    {
     "data": {
      "text/html": [
       "<div>\n",
       "<style scoped>\n",
       "    .dataframe tbody tr th:only-of-type {\n",
       "        vertical-align: middle;\n",
       "    }\n",
       "\n",
       "    .dataframe tbody tr th {\n",
       "        vertical-align: top;\n",
       "    }\n",
       "\n",
       "    .dataframe thead th {\n",
       "        text-align: right;\n",
       "    }\n",
       "</style>\n",
       "<table border=\"1\" class=\"dataframe\">\n",
       "  <thead>\n",
       "    <tr style=\"text-align: right;\">\n",
       "      <th></th>\n",
       "      <th>temp</th>\n",
       "      <th>day</th>\n",
       "      <th>day_of_week</th>\n",
       "      <th>weekday_number</th>\n",
       "    </tr>\n",
       "    <tr>\n",
       "      <th>date</th>\n",
       "      <th></th>\n",
       "      <th></th>\n",
       "      <th></th>\n",
       "      <th></th>\n",
       "    </tr>\n",
       "  </thead>\n",
       "  <tbody>\n",
       "    <tr>\n",
       "      <th>2010-01-01 00:00:00</th>\n",
       "      <td>47.8</td>\n",
       "      <td>1</td>\n",
       "      <td>Friday</td>\n",
       "      <td>5</td>\n",
       "    </tr>\n",
       "    <tr>\n",
       "      <th>2010-01-01 01:00:00</th>\n",
       "      <td>47.4</td>\n",
       "      <td>1</td>\n",
       "      <td>Friday</td>\n",
       "      <td>5</td>\n",
       "    </tr>\n",
       "    <tr>\n",
       "      <th>2010-01-01 02:00:00</th>\n",
       "      <td>46.9</td>\n",
       "      <td>1</td>\n",
       "      <td>Friday</td>\n",
       "      <td>5</td>\n",
       "    </tr>\n",
       "    <tr>\n",
       "      <th>2010-01-01 03:00:00</th>\n",
       "      <td>46.5</td>\n",
       "      <td>1</td>\n",
       "      <td>Friday</td>\n",
       "      <td>5</td>\n",
       "    </tr>\n",
       "    <tr>\n",
       "      <th>2010-01-01 04:00:00</th>\n",
       "      <td>46.0</td>\n",
       "      <td>1</td>\n",
       "      <td>Friday</td>\n",
       "      <td>5</td>\n",
       "    </tr>\n",
       "  </tbody>\n",
       "</table>\n",
       "</div>"
      ],
      "text/plain": [
       "                     temp  day day_of_week  weekday_number\n",
       "date                                                      \n",
       "2010-01-01 00:00:00  47.8    1      Friday               5\n",
       "2010-01-01 01:00:00  47.4    1      Friday               5\n",
       "2010-01-01 02:00:00  46.9    1      Friday               5\n",
       "2010-01-01 03:00:00  46.5    1      Friday               5\n",
       "2010-01-01 04:00:00  46.0    1      Friday               5"
      ]
     },
     "execution_count": 8,
     "metadata": {},
     "output_type": "execute_result"
    }
   ],
   "source": [
    "#### Reset & Sort index to date\n",
    "temps = temps.set_index('date').sort_index()\n",
    "temps.head()"
   ]
  },
  {
   "cell_type": "code",
   "execution_count": 9,
   "id": "89637344",
   "metadata": {
    "scrolled": true
   },
   "outputs": [
    {
     "data": {
      "text/plain": [
       "<AxesSubplot:xlabel='date'>"
      ]
     },
     "execution_count": 9,
     "metadata": {},
     "output_type": "execute_result"
    },
    {
     "data": {
      "image/png": "[encoded data removed]",
      "text/plain": [
       "<Figure size 360x216 with 1 Axes>"
      ]
     },
     "metadata": {
      "needs_background": "light"
     },
     "output_type": "display_data"
    }
   ],
   "source": [
    "# Resample by Day & Plot by Temp for mean\n",
    "temps.resample('D').temp.mean().plot()"
   ]
  },
  {
   "cell_type": "code",
   "execution_count": 10,
   "id": "ca40d7cf",
   "metadata": {
    "scrolled": true
   },
   "outputs": [
    {
     "data": {
      "text/plain": [
       "<AxesSubplot:xlabel='day_of_week'>"
      ]
     },
     "execution_count": 10,
     "metadata": {},
     "output_type": "execute_result"
    },
    {
     "data": {
      "image/png": "[encoded data removed]",
      "text/plain": [
       "<Figure size 360x216 with 1 Axes>"
      ]
     },
     "metadata": {
      "needs_background": "light"
     },
     "output_type": "display_data"
    }
   ],
   "source": [
    "# Groupby Day of Week; Notice that the days are NOT in chronological order\n",
    "temps.groupby('day_of_week').temp.mean().plot()"
   ]
  },
  {
   "cell_type": "code",
   "execution_count": 11,
   "id": "8f6b55d3",
   "metadata": {
    "scrolled": true
   },
   "outputs": [
    {
     "data": {
      "text/plain": [
       "<AxesSubplot:xlabel='weekday_number'>"
      ]
     },
     "execution_count": 11,
     "metadata": {},
     "output_type": "execute_result"
    },
    {
     "data": {
      "image/png": "[encoded data removed]",
      "text/plain": [
       "<Figure size 360x216 with 1 Axes>"
      ]
     },
     "metadata": {
      "needs_background": "light"
     },
     "output_type": "display_data"
    }
   ],
   "source": [
    "# Groupby Weekday Number to get a chronilogical weekday view\n",
    "temps.groupby('weekday_number').temp.mean().plot()"
   ]
  },
  {
   "cell_type": "markdown",
   "id": "21c01029",
   "metadata": {},
   "source": [
    "<div class=\"alert alert-info\">\n",
    "\n",
    "\n",
    "## Observation:\n",
    "* Groupby day_of_week does not place in chronological order\n",
    "* Groupby weekday_number places the info in the chronoligical order that you set your column feature to\n",
    "    * **Note:** the default is set to start the first entry at 0; +1 will start it at 1 since there is no zero day of the week\n",
    "* Regardless of the order of data presentation, the information is still true and accurate\n",
    "    * Friday is still the lowest mean day"
   ]
  },
  {
   "cell_type": "markdown",
   "id": "53ac1074",
   "metadata": {},
   "source": [
    "<div class=\"alert alert-warning\">\n",
    "\n",
    "\n",
    "## 2. Write the code necessary to visualize the minimum temperature over time."
   ]
  },
  {
   "cell_type": "code",
   "execution_count": 12,
   "id": "ea086602",
   "metadata": {
    "scrolled": true
   },
   "outputs": [
    {
     "data": {
      "text/plain": [
       "<AxesSubplot:xlabel='date'>"
      ]
     },
     "execution_count": 12,
     "metadata": {},
     "output_type": "execute_result"
    },
    {
     "data": {
      "image/png": "[encoded data removed]",
      "text/plain": [
       "<Figure size 360x216 with 1 Axes>"
      ]
     },
     "metadata": {
      "needs_background": "light"
     },
     "output_type": "display_data"
    }
   ],
   "source": [
    "# Resample by Day & Plot by Temp for minimum\n",
    "temps.resample('D').temp.min().plot()"
   ]
  },
  {
   "cell_type": "code",
   "execution_count": 13,
   "id": "d958430f",
   "metadata": {
    "scrolled": false
   },
   "outputs": [
    {
     "data": {
      "text/plain": [
       "<AxesSubplot:xlabel='weekday_number'>"
      ]
     },
     "execution_count": 13,
     "metadata": {},
     "output_type": "execute_result"
    },
    {
     "data": {
      "image/png": "[encoded data removed]",
      "text/plain": [
       "<Figure size 360x216 with 1 Axes>"
      ]
     },
     "metadata": {
      "needs_background": "light"
     },
     "output_type": "display_data"
    }
   ],
   "source": [
    "temps.groupby('weekday_number').temp.min().plot()"
   ]
  },
  {
   "cell_type": "markdown",
   "id": "fad4ac49",
   "metadata": {},
   "source": [
    "<div class=\"alert alert-warning\">\n",
    "\n",
    "\n",
    "## 3. Write the code necessary to visualize the maximum temperature over time."
   ]
  },
  {
   "cell_type": "code",
   "execution_count": 14,
   "id": "588b88f7",
   "metadata": {
    "scrolled": false
   },
   "outputs": [
    {
     "data": {
      "text/plain": [
       "<AxesSubplot:xlabel='date'>"
      ]
     },
     "execution_count": 14,
     "metadata": {},
     "output_type": "execute_result"
    },
    {
     "data": {
      "image/png": "[encoded data removed]",
      "text/plain": [
       "<Figure size 360x216 with 1 Axes>"
      ]
     },
     "metadata": {
      "needs_background": "light"
     },
     "output_type": "display_data"
    }
   ],
   "source": [
    "# Resample by Day & Plot by Temp for minimum\n",
    "temps.resample('D').temp.max().plot()"
   ]
  },
  {
   "cell_type": "code",
   "execution_count": 15,
   "id": "22fc541c",
   "metadata": {
    "scrolled": true
   },
   "outputs": [
    {
     "data": {
      "text/plain": [
       "<AxesSubplot:xlabel='weekday_number'>"
      ]
     },
     "execution_count": 15,
     "metadata": {},
     "output_type": "execute_result"
    },
    {
     "data": {
      "image/png": "[encoded data removed]",
      "text/plain": [
       "<Figure size 360x216 with 1 Axes>"
      ]
     },
     "metadata": {
      "needs_background": "light"
     },
     "output_type": "display_data"
    }
   ],
   "source": [
    "temps.groupby('weekday_number').temp.max().plot()"
   ]
  },
  {
   "cell_type": "markdown",
   "id": "46a705e3",
   "metadata": {},
   "source": [
    "<div class=\"alert alert-warning\">\n",
    "\n",
    "\n",
    "## 4. Which month is the coldest, on average?"
   ]
  },
  {
   "cell_type": "code",
   "execution_count": 16,
   "id": "0cb754ab",
   "metadata": {},
   "outputs": [
    {
     "data": {
      "text/plain": [
       "Timestamp('2010-01-31 00:00:00', freq='M')"
      ]
     },
     "execution_count": 16,
     "metadata": {},
     "output_type": "execute_result"
    }
   ],
   "source": [
    "# Resample by month, look at avg temp, show min index\n",
    "temps.resample('M').temp.mean().idxmin()"
   ]
  },
  {
   "cell_type": "markdown",
   "id": "f304c708",
   "metadata": {},
   "source": [
    "<div class=\"alert alert-info\">\n",
    "\n",
    "    \n",
    "#### ANSWER: January"
   ]
  },
  {
   "cell_type": "markdown",
   "id": "b0ae43ca",
   "metadata": {},
   "source": [
    "<div class=\"alert alert-warning\">\n",
    "\n",
    "\n",
    "## 5. Which month has the highest average temperature?"
   ]
  },
  {
   "cell_type": "code",
   "execution_count": 17,
   "id": "288d6610",
   "metadata": {},
   "outputs": [
    {
     "data": {
      "text/plain": [
       "Timestamp('2010-09-30 00:00:00', freq='M')"
      ]
     },
     "execution_count": 17,
     "metadata": {},
     "output_type": "execute_result"
    }
   ],
   "source": [
    "# Resample by month, look at avg temp, show min index\n",
    "temps.resample('M').temp.mean().idxmax()"
   ]
  },
  {
   "cell_type": "markdown",
   "id": "0d0a58b1",
   "metadata": {},
   "source": [
    "<div class=\"alert alert-info\">\n",
    "\n",
    "    \n",
    "#### ANSWER: September"
   ]
  },
  {
   "cell_type": "markdown",
   "id": "fcc8f2a2",
   "metadata": {},
   "source": [
    "<div class=\"alert alert-warning\">\n",
    "\n",
    "\n",
    "## 6. Resample by the day and calculate the min and max temp for the day (Hint: .agg(['min', 'max'])). Use this resampled dataframe to calculate the change in temperature for the day. Which month has the highest daily temperature variability?"
   ]
  },
  {
   "cell_type": "code",
   "execution_count": 18,
   "id": "ae253cca",
   "metadata": {},
   "outputs": [],
   "source": [
    "# Resample by day, agg by minmax of temp, and assign to new df\n",
    "minmax_df = temps.resample('D').temp.agg(['min', 'max'])"
   ]
  },
  {
   "cell_type": "code",
   "execution_count": 19,
   "id": "6683354e",
   "metadata": {},
   "outputs": [
    {
     "data": {
      "text/html": [
       "<div>\n",
       "<style scoped>\n",
       "    .dataframe tbody tr th:only-of-type {\n",
       "        vertical-align: middle;\n",
       "    }\n",
       "\n",
       "    .dataframe tbody tr th {\n",
       "        vertical-align: top;\n",
       "    }\n",
       "\n",
       "    .dataframe thead th {\n",
       "        text-align: right;\n",
       "    }\n",
       "</style>\n",
       "<table border=\"1\" class=\"dataframe\">\n",
       "  <thead>\n",
       "    <tr style=\"text-align: right;\">\n",
       "      <th></th>\n",
       "      <th>min</th>\n",
       "      <th>max</th>\n",
       "    </tr>\n",
       "    <tr>\n",
       "      <th>date</th>\n",
       "      <th></th>\n",
       "      <th></th>\n",
       "    </tr>\n",
       "  </thead>\n",
       "  <tbody>\n",
       "    <tr>\n",
       "      <th>2010-01-01</th>\n",
       "      <td>45.8</td>\n",
       "      <td>53.3</td>\n",
       "    </tr>\n",
       "    <tr>\n",
       "      <th>2010-01-02</th>\n",
       "      <td>46.0</td>\n",
       "      <td>53.4</td>\n",
       "    </tr>\n",
       "    <tr>\n",
       "      <th>2010-01-03</th>\n",
       "      <td>46.1</td>\n",
       "      <td>53.5</td>\n",
       "    </tr>\n",
       "    <tr>\n",
       "      <th>2010-01-04</th>\n",
       "      <td>46.1</td>\n",
       "      <td>53.6</td>\n",
       "    </tr>\n",
       "    <tr>\n",
       "      <th>2010-01-05</th>\n",
       "      <td>46.1</td>\n",
       "      <td>53.8</td>\n",
       "    </tr>\n",
       "  </tbody>\n",
       "</table>\n",
       "</div>"
      ],
      "text/plain": [
       "             min   max\n",
       "date                  \n",
       "2010-01-01  45.8  53.3\n",
       "2010-01-02  46.0  53.4\n",
       "2010-01-03  46.1  53.5\n",
       "2010-01-04  46.1  53.6\n",
       "2010-01-05  46.1  53.8"
      ]
     },
     "execution_count": 19,
     "metadata": {},
     "output_type": "execute_result"
    }
   ],
   "source": [
    "minmax_df.head()"
   ]
  },
  {
   "cell_type": "code",
   "execution_count": 20,
   "id": "d3c30c3d",
   "metadata": {
    "scrolled": true
   },
   "outputs": [
    {
     "data": {
      "text/html": [
       "<div>\n",
       "<style scoped>\n",
       "    .dataframe tbody tr th:only-of-type {\n",
       "        vertical-align: middle;\n",
       "    }\n",
       "\n",
       "    .dataframe tbody tr th {\n",
       "        vertical-align: top;\n",
       "    }\n",
       "\n",
       "    .dataframe thead th {\n",
       "        text-align: right;\n",
       "    }\n",
       "</style>\n",
       "<table border=\"1\" class=\"dataframe\">\n",
       "  <thead>\n",
       "    <tr style=\"text-align: right;\">\n",
       "      <th></th>\n",
       "      <th>min</th>\n",
       "      <th>max</th>\n",
       "      <th>variance</th>\n",
       "    </tr>\n",
       "    <tr>\n",
       "      <th>date</th>\n",
       "      <th></th>\n",
       "      <th></th>\n",
       "      <th></th>\n",
       "    </tr>\n",
       "  </thead>\n",
       "  <tbody>\n",
       "    <tr>\n",
       "      <th>2010-01-01</th>\n",
       "      <td>45.8</td>\n",
       "      <td>53.3</td>\n",
       "      <td>7.5</td>\n",
       "    </tr>\n",
       "    <tr>\n",
       "      <th>2010-01-02</th>\n",
       "      <td>46.0</td>\n",
       "      <td>53.4</td>\n",
       "      <td>7.4</td>\n",
       "    </tr>\n",
       "    <tr>\n",
       "      <th>2010-01-03</th>\n",
       "      <td>46.1</td>\n",
       "      <td>53.5</td>\n",
       "      <td>7.4</td>\n",
       "    </tr>\n",
       "    <tr>\n",
       "      <th>2010-01-04</th>\n",
       "      <td>46.1</td>\n",
       "      <td>53.6</td>\n",
       "      <td>7.5</td>\n",
       "    </tr>\n",
       "    <tr>\n",
       "      <th>2010-01-05</th>\n",
       "      <td>46.1</td>\n",
       "      <td>53.8</td>\n",
       "      <td>7.7</td>\n",
       "    </tr>\n",
       "  </tbody>\n",
       "</table>\n",
       "</div>"
      ],
      "text/plain": [
       "             min   max  variance\n",
       "date                            \n",
       "2010-01-01  45.8  53.3       7.5\n",
       "2010-01-02  46.0  53.4       7.4\n",
       "2010-01-03  46.1  53.5       7.4\n",
       "2010-01-04  46.1  53.6       7.5\n",
       "2010-01-05  46.1  53.8       7.7"
      ]
     },
     "execution_count": 20,
     "metadata": {},
     "output_type": "execute_result"
    }
   ],
   "source": [
    "# Calculate the variance\n",
    "minmax_df['variance'] = minmax_df['max'] - minmax_df['min']\n",
    "minmax_df.head()"
   ]
  },
  {
   "cell_type": "code",
   "execution_count": 21,
   "id": "5ee04f7d",
   "metadata": {
    "scrolled": true
   },
   "outputs": [
    {
     "data": {
      "text/plain": [
       "Timestamp('2010-09-30 00:00:00', freq='M')"
      ]
     },
     "execution_count": 21,
     "metadata": {},
     "output_type": "execute_result"
    }
   ],
   "source": [
    "# Resample by month, look at avg daily variance, show max index\n",
    "minmax_df.resample('M').variance.mean().idxmax()"
   ]
  },
  {
   "cell_type": "markdown",
   "id": "d524a104",
   "metadata": {},
   "source": [
    "<div class=\"alert alert-info\">\n",
    "\n",
    "    \n",
    "### Which month has the highest daily temperature variability?\n",
    "#### ANSWER: September"
   ]
  },
  {
   "cell_type": "markdown",
   "id": "30e985f6",
   "metadata": {},
   "source": [
    "<div class=\"alert alert-warning\">\n",
    "\n",
    "\n",
    "## 7. **Bonus:** Visualize the daily min, average, and max temperature over time on a single line plot, i.e. the min, average, and maximum temperature should be 3 seperate lines."
   ]
  },
  {
   "cell_type": "code",
   "execution_count": 22,
   "id": "b39e62f9",
   "metadata": {},
   "outputs": [
    {
     "data": {
      "text/plain": [
       "<AxesSubplot:xlabel='date'>"
      ]
     },
     "execution_count": 22,
     "metadata": {},
     "output_type": "execute_result"
    },
    {
     "data": {
      "image/png": "[encoded data removed]",
      "text/plain": [
       "<Figure size 360x216 with 1 Axes>"
      ]
     },
     "metadata": {
      "needs_background": "light"
     },
     "output_type": "display_data"
    }
   ],
   "source": [
    "# Minimum\n",
    "temps.resample('D').temp.min().plot()"
   ]
  },
  {
   "cell_type": "code",
   "execution_count": 23,
   "id": "0b847587",
   "metadata": {},
   "outputs": [
    {
     "data": {
      "text/plain": [
       "<AxesSubplot:xlabel='date'>"
      ]
     },
     "execution_count": 23,
     "metadata": {},
     "output_type": "execute_result"
    },
    {
     "data": {
      "image/png": "[encoded data removed]",
      "text/plain": [
       "<Figure size 360x216 with 1 Axes>"
      ]
     },
     "metadata": {
      "needs_background": "light"
     },
     "output_type": "display_data"
    }
   ],
   "source": [
    "# Maximum\n",
    "temps.resample('D').temp.max().plot()"
   ]
  },
  {
   "cell_type": "code",
   "execution_count": 24,
   "id": "302d70c8",
   "metadata": {},
   "outputs": [
    {
     "data": {
      "text/plain": [
       "<AxesSubplot:xlabel='date'>"
      ]
     },
     "execution_count": 24,
     "metadata": {},
     "output_type": "execute_result"
    },
    {
     "data": {
      "image/png": "[encoded data removed]",
      "text/plain": [
       "<Figure size 360x216 with 1 Axes>"
      ]
     },
     "metadata": {
      "needs_background": "light"
     },
     "output_type": "display_data"
    }
   ],
   "source": [
    "# Average\n",
    "temps.resample('D').temp.mean().plot()"
   ]
  },
  {
   "cell_type": "code",
   "execution_count": 25,
   "id": "4209b9f4",
   "metadata": {},
   "outputs": [
    {
     "data": {
      "image/png": "[encoded data removed]",
      "text/plain": [
       "<Figure size 360x216 with 1 Axes>"
      ]
     },
     "metadata": {
      "needs_background": "light"
     },
     "output_type": "display_data"
    }
   ],
   "source": [
    "temps.temp.plot(label='Daily')\n",
    "temps.resample('D').temp.min().plot(label='Minimum')\n",
    "temps.resample('D').temp.max().plot(label='Maximum')\n",
    "temps.resample('D').temp.mean().plot(label='Average')\n",
    "plt.legend()\n",
    "plt.show()"
   ]
  },
  {
   "cell_type": "markdown",
   "id": "cabbb90f",
   "metadata": {},
   "source": [
    "<div class=\"alert alert-success\">\n",
    "\n",
    "\n",
    "# ```seattle_weather``` dataset"
   ]
  },
  {
   "cell_type": "code",
   "execution_count": 26,
   "id": "684a9dc2",
   "metadata": {
    "scrolled": true
   },
   "outputs": [
    {
     "data": {
      "text/html": [
       "<div>\n",
       "<style scoped>\n",
       "    .dataframe tbody tr th:only-of-type {\n",
       "        vertical-align: middle;\n",
       "    }\n",
       "\n",
       "    .dataframe tbody tr th {\n",
       "        vertical-align: top;\n",
       "    }\n",
       "\n",
       "    .dataframe thead th {\n",
       "        text-align: right;\n",
       "    }\n",
       "</style>\n",
       "<table border=\"1\" class=\"dataframe\">\n",
       "  <thead>\n",
       "    <tr style=\"text-align: right;\">\n",
       "      <th></th>\n",
       "      <th>date</th>\n",
       "      <th>precipitation</th>\n",
       "      <th>temp_max</th>\n",
       "      <th>temp_min</th>\n",
       "      <th>wind</th>\n",
       "      <th>weather</th>\n",
       "    </tr>\n",
       "  </thead>\n",
       "  <tbody>\n",
       "    <tr>\n",
       "      <th>0</th>\n",
       "      <td>2012-01-01</td>\n",
       "      <td>0.0</td>\n",
       "      <td>12.8</td>\n",
       "      <td>5.0</td>\n",
       "      <td>4.7</td>\n",
       "      <td>drizzle</td>\n",
       "    </tr>\n",
       "    <tr>\n",
       "      <th>1</th>\n",
       "      <td>2012-01-02</td>\n",
       "      <td>10.9</td>\n",
       "      <td>10.6</td>\n",
       "      <td>2.8</td>\n",
       "      <td>4.5</td>\n",
       "      <td>rain</td>\n",
       "    </tr>\n",
       "    <tr>\n",
       "      <th>2</th>\n",
       "      <td>2012-01-03</td>\n",
       "      <td>0.8</td>\n",
       "      <td>11.7</td>\n",
       "      <td>7.2</td>\n",
       "      <td>2.3</td>\n",
       "      <td>rain</td>\n",
       "    </tr>\n",
       "    <tr>\n",
       "      <th>3</th>\n",
       "      <td>2012-01-04</td>\n",
       "      <td>20.3</td>\n",
       "      <td>12.2</td>\n",
       "      <td>5.6</td>\n",
       "      <td>4.7</td>\n",
       "      <td>rain</td>\n",
       "    </tr>\n",
       "    <tr>\n",
       "      <th>4</th>\n",
       "      <td>2012-01-05</td>\n",
       "      <td>1.3</td>\n",
       "      <td>8.9</td>\n",
       "      <td>2.8</td>\n",
       "      <td>6.1</td>\n",
       "      <td>rain</td>\n",
       "    </tr>\n",
       "  </tbody>\n",
       "</table>\n",
       "</div>"
      ],
      "text/plain": [
       "        date  precipitation  temp_max  temp_min  wind  weather\n",
       "0 2012-01-01            0.0      12.8       5.0   4.7  drizzle\n",
       "1 2012-01-02           10.9      10.6       2.8   4.5     rain\n",
       "2 2012-01-03            0.8      11.7       7.2   2.3     rain\n",
       "3 2012-01-04           20.3      12.2       5.6   4.7     rain\n",
       "4 2012-01-05            1.3       8.9       2.8   6.1     rain"
      ]
     },
     "execution_count": 26,
     "metadata": {},
     "output_type": "execute_result"
    }
   ],
   "source": [
    "weather = data.seattle_weather()\n",
    "weather.head()"
   ]
  },
  {
   "cell_type": "code",
   "execution_count": 27,
   "id": "a87b7ce5",
   "metadata": {
    "scrolled": false
   },
   "outputs": [
    {
     "name": "stdout",
     "output_type": "stream",
     "text": [
      "<class 'pandas.core.frame.DataFrame'>\n",
      "RangeIndex: 1461 entries, 0 to 1460\n",
      "Data columns (total 6 columns):\n",
      " #   Column         Non-Null Count  Dtype         \n",
      "---  ------         --------------  -----         \n",
      " 0   date           1461 non-null   datetime64[ns]\n",
      " 1   precipitation  1461 non-null   float64       \n",
      " 2   temp_max       1461 non-null   float64       \n",
      " 3   temp_min       1461 non-null   float64       \n",
      " 4   wind           1461 non-null   float64       \n",
      " 5   weather        1461 non-null   object        \n",
      "dtypes: datetime64[ns](1), float64(4), object(1)\n",
      "memory usage: 68.6+ KB\n"
     ]
    }
   ],
   "source": [
    "# Ensure dtype is datetime64[ns] \n",
    "weather.info()"
   ]
  },
  {
   "cell_type": "code",
   "execution_count": 28,
   "id": "92f1c568",
   "metadata": {
    "scrolled": true
   },
   "outputs": [
    {
     "data": {
      "text/plain": [
       "date             0\n",
       "precipitation    0\n",
       "temp_max         0\n",
       "temp_min         0\n",
       "wind             0\n",
       "weather          0\n",
       "dtype: int64"
      ]
     },
     "execution_count": 28,
     "metadata": {},
     "output_type": "execute_result"
    }
   ],
   "source": [
    "# Check for missing data\n",
    "weather.isnull().sum()"
   ]
  },
  {
   "cell_type": "code",
   "execution_count": 29,
   "id": "3eb509f7",
   "metadata": {
    "scrolled": true
   },
   "outputs": [
    {
     "data": {
      "text/plain": [
       "Index(['date', 'precipitation', 'temp_max', 'temp_min', 'wind', 'weather'], dtype='object')"
      ]
     },
     "execution_count": 29,
     "metadata": {},
     "output_type": "execute_result"
    }
   ],
   "source": [
    "weather.columns"
   ]
  },
  {
   "cell_type": "code",
   "execution_count": 30,
   "id": "c90edfcb",
   "metadata": {
    "scrolled": true
   },
   "outputs": [],
   "source": [
    "# Resample by the Day, Month, Year BEFORE RESET INDEX\n",
    "weather['day'] = weather.date.dt.day\n",
    "weather['day_of_week'] = weather.date.dt.day_name()\n",
    "weather['weekday_number'] = weather.date.dt.day_of_week+1\n",
    "weather['year'] = weather.date.dt.year\n",
    "weather['month'] = weather.date.dt.month_name()\n",
    "weather['month_number'] = weather.date.dt.month"
   ]
  },
  {
   "cell_type": "code",
   "execution_count": 31,
   "id": "5394c9f2",
   "metadata": {},
   "outputs": [
    {
     "data": {
      "text/html": [
       "<div>\n",
       "<style scoped>\n",
       "    .dataframe tbody tr th:only-of-type {\n",
       "        vertical-align: middle;\n",
       "    }\n",
       "\n",
       "    .dataframe tbody tr th {\n",
       "        vertical-align: top;\n",
       "    }\n",
       "\n",
       "    .dataframe thead th {\n",
       "        text-align: right;\n",
       "    }\n",
       "</style>\n",
       "<table border=\"1\" class=\"dataframe\">\n",
       "  <thead>\n",
       "    <tr style=\"text-align: right;\">\n",
       "      <th></th>\n",
       "      <th>0</th>\n",
       "      <th>1</th>\n",
       "      <th>2</th>\n",
       "      <th>3</th>\n",
       "      <th>4</th>\n",
       "      <th>5</th>\n",
       "      <th>6</th>\n",
       "      <th>7</th>\n",
       "      <th>8</th>\n",
       "      <th>9</th>\n",
       "      <th>...</th>\n",
       "      <th>1451</th>\n",
       "      <th>1452</th>\n",
       "      <th>1453</th>\n",
       "      <th>1454</th>\n",
       "      <th>1455</th>\n",
       "      <th>1456</th>\n",
       "      <th>1457</th>\n",
       "      <th>1458</th>\n",
       "      <th>1459</th>\n",
       "      <th>1460</th>\n",
       "    </tr>\n",
       "  </thead>\n",
       "  <tbody>\n",
       "    <tr>\n",
       "      <th>date</th>\n",
       "      <td>2012-01-01 00:00:00</td>\n",
       "      <td>2012-01-02 00:00:00</td>\n",
       "      <td>2012-01-03 00:00:00</td>\n",
       "      <td>2012-01-04 00:00:00</td>\n",
       "      <td>2012-01-05 00:00:00</td>\n",
       "      <td>2012-01-06 00:00:00</td>\n",
       "      <td>2012-01-07 00:00:00</td>\n",
       "      <td>2012-01-08 00:00:00</td>\n",
       "      <td>2012-01-09 00:00:00</td>\n",
       "      <td>2012-01-10 00:00:00</td>\n",
       "      <td>...</td>\n",
       "      <td>2015-12-22 00:00:00</td>\n",
       "      <td>2015-12-23 00:00:00</td>\n",
       "      <td>2015-12-24 00:00:00</td>\n",
       "      <td>2015-12-25 00:00:00</td>\n",
       "      <td>2015-12-26 00:00:00</td>\n",
       "      <td>2015-12-27 00:00:00</td>\n",
       "      <td>2015-12-28 00:00:00</td>\n",
       "      <td>2015-12-29 00:00:00</td>\n",
       "      <td>2015-12-30 00:00:00</td>\n",
       "      <td>2015-12-31 00:00:00</td>\n",
       "    </tr>\n",
       "    <tr>\n",
       "      <th>precipitation</th>\n",
       "      <td>0.0</td>\n",
       "      <td>10.9</td>\n",
       "      <td>0.8</td>\n",
       "      <td>20.3</td>\n",
       "      <td>1.3</td>\n",
       "      <td>2.5</td>\n",
       "      <td>0.0</td>\n",
       "      <td>0.0</td>\n",
       "      <td>4.3</td>\n",
       "      <td>1.0</td>\n",
       "      <td>...</td>\n",
       "      <td>4.6</td>\n",
       "      <td>6.1</td>\n",
       "      <td>2.5</td>\n",
       "      <td>5.8</td>\n",
       "      <td>0.0</td>\n",
       "      <td>8.6</td>\n",
       "      <td>1.5</td>\n",
       "      <td>0.0</td>\n",
       "      <td>0.0</td>\n",
       "      <td>0.0</td>\n",
       "    </tr>\n",
       "    <tr>\n",
       "      <th>temp_max</th>\n",
       "      <td>12.8</td>\n",
       "      <td>10.6</td>\n",
       "      <td>11.7</td>\n",
       "      <td>12.2</td>\n",
       "      <td>8.9</td>\n",
       "      <td>4.4</td>\n",
       "      <td>7.2</td>\n",
       "      <td>10.0</td>\n",
       "      <td>9.4</td>\n",
       "      <td>6.1</td>\n",
       "      <td>...</td>\n",
       "      <td>7.8</td>\n",
       "      <td>5.0</td>\n",
       "      <td>5.6</td>\n",
       "      <td>5.0</td>\n",
       "      <td>4.4</td>\n",
       "      <td>4.4</td>\n",
       "      <td>5.0</td>\n",
       "      <td>7.2</td>\n",
       "      <td>5.6</td>\n",
       "      <td>5.6</td>\n",
       "    </tr>\n",
       "    <tr>\n",
       "      <th>temp_min</th>\n",
       "      <td>5.0</td>\n",
       "      <td>2.8</td>\n",
       "      <td>7.2</td>\n",
       "      <td>5.6</td>\n",
       "      <td>2.8</td>\n",
       "      <td>2.2</td>\n",
       "      <td>2.8</td>\n",
       "      <td>2.8</td>\n",
       "      <td>5.0</td>\n",
       "      <td>0.6</td>\n",
       "      <td>...</td>\n",
       "      <td>2.8</td>\n",
       "      <td>2.8</td>\n",
       "      <td>2.2</td>\n",
       "      <td>2.2</td>\n",
       "      <td>0.0</td>\n",
       "      <td>1.7</td>\n",
       "      <td>1.7</td>\n",
       "      <td>0.6</td>\n",
       "      <td>-1.0</td>\n",
       "      <td>-2.1</td>\n",
       "    </tr>\n",
       "    <tr>\n",
       "      <th>wind</th>\n",
       "      <td>4.7</td>\n",
       "      <td>4.5</td>\n",
       "      <td>2.3</td>\n",
       "      <td>4.7</td>\n",
       "      <td>6.1</td>\n",
       "      <td>2.2</td>\n",
       "      <td>2.3</td>\n",
       "      <td>2.0</td>\n",
       "      <td>3.4</td>\n",
       "      <td>3.4</td>\n",
       "      <td>...</td>\n",
       "      <td>5.0</td>\n",
       "      <td>7.6</td>\n",
       "      <td>4.3</td>\n",
       "      <td>1.5</td>\n",
       "      <td>2.5</td>\n",
       "      <td>2.9</td>\n",
       "      <td>1.3</td>\n",
       "      <td>2.6</td>\n",
       "      <td>3.4</td>\n",
       "      <td>3.5</td>\n",
       "    </tr>\n",
       "    <tr>\n",
       "      <th>weather</th>\n",
       "      <td>drizzle</td>\n",
       "      <td>rain</td>\n",
       "      <td>rain</td>\n",
       "      <td>rain</td>\n",
       "      <td>rain</td>\n",
       "      <td>rain</td>\n",
       "      <td>rain</td>\n",
       "      <td>sun</td>\n",
       "      <td>rain</td>\n",
       "      <td>rain</td>\n",
       "      <td>...</td>\n",
       "      <td>fog</td>\n",
       "      <td>fog</td>\n",
       "      <td>fog</td>\n",
       "      <td>fog</td>\n",
       "      <td>sun</td>\n",
       "      <td>fog</td>\n",
       "      <td>fog</td>\n",
       "      <td>fog</td>\n",
       "      <td>sun</td>\n",
       "      <td>sun</td>\n",
       "    </tr>\n",
       "    <tr>\n",
       "      <th>day</th>\n",
       "      <td>1</td>\n",
       "      <td>2</td>\n",
       "      <td>3</td>\n",
       "      <td>4</td>\n",
       "      <td>5</td>\n",
       "      <td>6</td>\n",
       "      <td>7</td>\n",
       "      <td>8</td>\n",
       "      <td>9</td>\n",
       "      <td>10</td>\n",
       "      <td>...</td>\n",
       "      <td>22</td>\n",
       "      <td>23</td>\n",
       "      <td>24</td>\n",
       "      <td>25</td>\n",
       "      <td>26</td>\n",
       "      <td>27</td>\n",
       "      <td>28</td>\n",
       "      <td>29</td>\n",
       "      <td>30</td>\n",
       "      <td>31</td>\n",
       "    </tr>\n",
       "    <tr>\n",
       "      <th>day_of_week</th>\n",
       "      <td>Sunday</td>\n",
       "      <td>Monday</td>\n",
       "      <td>Tuesday</td>\n",
       "      <td>Wednesday</td>\n",
       "      <td>Thursday</td>\n",
       "      <td>Friday</td>\n",
       "      <td>Saturday</td>\n",
       "      <td>Sunday</td>\n",
       "      <td>Monday</td>\n",
       "      <td>Tuesday</td>\n",
       "      <td>...</td>\n",
       "      <td>Tuesday</td>\n",
       "      <td>Wednesday</td>\n",
       "      <td>Thursday</td>\n",
       "      <td>Friday</td>\n",
       "      <td>Saturday</td>\n",
       "      <td>Sunday</td>\n",
       "      <td>Monday</td>\n",
       "      <td>Tuesday</td>\n",
       "      <td>Wednesday</td>\n",
       "      <td>Thursday</td>\n",
       "    </tr>\n",
       "    <tr>\n",
       "      <th>weekday_number</th>\n",
       "      <td>7</td>\n",
       "      <td>1</td>\n",
       "      <td>2</td>\n",
       "      <td>3</td>\n",
       "      <td>4</td>\n",
       "      <td>5</td>\n",
       "      <td>6</td>\n",
       "      <td>7</td>\n",
       "      <td>1</td>\n",
       "      <td>2</td>\n",
       "      <td>...</td>\n",
       "      <td>2</td>\n",
       "      <td>3</td>\n",
       "      <td>4</td>\n",
       "      <td>5</td>\n",
       "      <td>6</td>\n",
       "      <td>7</td>\n",
       "      <td>1</td>\n",
       "      <td>2</td>\n",
       "      <td>3</td>\n",
       "      <td>4</td>\n",
       "    </tr>\n",
       "    <tr>\n",
       "      <th>year</th>\n",
       "      <td>2012</td>\n",
       "      <td>2012</td>\n",
       "      <td>2012</td>\n",
       "      <td>2012</td>\n",
       "      <td>2012</td>\n",
       "      <td>2012</td>\n",
       "      <td>2012</td>\n",
       "      <td>2012</td>\n",
       "      <td>2012</td>\n",
       "      <td>2012</td>\n",
       "      <td>...</td>\n",
       "      <td>2015</td>\n",
       "      <td>2015</td>\n",
       "      <td>2015</td>\n",
       "      <td>2015</td>\n",
       "      <td>2015</td>\n",
       "      <td>2015</td>\n",
       "      <td>2015</td>\n",
       "      <td>2015</td>\n",
       "      <td>2015</td>\n",
       "      <td>2015</td>\n",
       "    </tr>\n",
       "    <tr>\n",
       "      <th>month</th>\n",
       "      <td>January</td>\n",
       "      <td>January</td>\n",
       "      <td>January</td>\n",
       "      <td>January</td>\n",
       "      <td>January</td>\n",
       "      <td>January</td>\n",
       "      <td>January</td>\n",
       "      <td>January</td>\n",
       "      <td>January</td>\n",
       "      <td>January</td>\n",
       "      <td>...</td>\n",
       "      <td>December</td>\n",
       "      <td>December</td>\n",
       "      <td>December</td>\n",
       "      <td>December</td>\n",
       "      <td>December</td>\n",
       "      <td>December</td>\n",
       "      <td>December</td>\n",
       "      <td>December</td>\n",
       "      <td>December</td>\n",
       "      <td>December</td>\n",
       "    </tr>\n",
       "    <tr>\n",
       "      <th>month_number</th>\n",
       "      <td>1</td>\n",
       "      <td>1</td>\n",
       "      <td>1</td>\n",
       "      <td>1</td>\n",
       "      <td>1</td>\n",
       "      <td>1</td>\n",
       "      <td>1</td>\n",
       "      <td>1</td>\n",
       "      <td>1</td>\n",
       "      <td>1</td>\n",
       "      <td>...</td>\n",
       "      <td>12</td>\n",
       "      <td>12</td>\n",
       "      <td>12</td>\n",
       "      <td>12</td>\n",
       "      <td>12</td>\n",
       "      <td>12</td>\n",
       "      <td>12</td>\n",
       "      <td>12</td>\n",
       "      <td>12</td>\n",
       "      <td>12</td>\n",
       "    </tr>\n",
       "  </tbody>\n",
       "</table>\n",
       "<p>12 rows × 1461 columns</p>\n",
       "</div>"
      ],
      "text/plain": [
       "                               0                    1                    2     \\\n",
       "date            2012-01-01 00:00:00  2012-01-02 00:00:00  2012-01-03 00:00:00   \n",
       "precipitation                   0.0                 10.9                  0.8   \n",
       "temp_max                       12.8                 10.6                 11.7   \n",
       "temp_min                        5.0                  2.8                  7.2   \n",
       "wind                            4.7                  4.5                  2.3   \n",
       "weather                     drizzle                 rain                 rain   \n",
       "day                               1                    2                    3   \n",
       "day_of_week                  Sunday               Monday              Tuesday   \n",
       "weekday_number                    7                    1                    2   \n",
       "year                           2012                 2012                 2012   \n",
       "month                       January              January              January   \n",
       "month_number                      1                    1                    1   \n",
       "\n",
       "                               3                    4                    5     \\\n",
       "date            2012-01-04 00:00:00  2012-01-05 00:00:00  2012-01-06 00:00:00   \n",
       "precipitation                  20.3                  1.3                  2.5   \n",
       "temp_max                       12.2                  8.9                  4.4   \n",
       "temp_min                        5.6                  2.8                  2.2   \n",
       "wind                            4.7                  6.1                  2.2   \n",
       "weather                        rain                 rain                 rain   \n",
       "day                               4                    5                    6   \n",
       "day_of_week               Wednesday             Thursday               Friday   \n",
       "weekday_number                    3                    4                    5   \n",
       "year                           2012                 2012                 2012   \n",
       "month                       January              January              January   \n",
       "month_number                      1                    1                    1   \n",
       "\n",
       "                               6                    7                    8     \\\n",
       "date            2012-01-07 00:00:00  2012-01-08 00:00:00  2012-01-09 00:00:00   \n",
       "precipitation                   0.0                  0.0                  4.3   \n",
       "temp_max                        7.2                 10.0                  9.4   \n",
       "temp_min                        2.8                  2.8                  5.0   \n",
       "wind                            2.3                  2.0                  3.4   \n",
       "weather                        rain                  sun                 rain   \n",
       "day                               7                    8                    9   \n",
       "day_of_week                Saturday               Sunday               Monday   \n",
       "weekday_number                    6                    7                    1   \n",
       "year                           2012                 2012                 2012   \n",
       "month                       January              January              January   \n",
       "month_number                      1                    1                    1   \n",
       "\n",
       "                               9     ...                 1451  \\\n",
       "date            2012-01-10 00:00:00  ...  2015-12-22 00:00:00   \n",
       "precipitation                   1.0  ...                  4.6   \n",
       "temp_max                        6.1  ...                  7.8   \n",
       "temp_min                        0.6  ...                  2.8   \n",
       "wind                            3.4  ...                  5.0   \n",
       "weather                        rain  ...                  fog   \n",
       "day                              10  ...                   22   \n",
       "day_of_week                 Tuesday  ...              Tuesday   \n",
       "weekday_number                    2  ...                    2   \n",
       "year                           2012  ...                 2015   \n",
       "month                       January  ...             December   \n",
       "month_number                      1  ...                   12   \n",
       "\n",
       "                               1452                 1453                 1454  \\\n",
       "date            2015-12-23 00:00:00  2015-12-24 00:00:00  2015-12-25 00:00:00   \n",
       "precipitation                   6.1                  2.5                  5.8   \n",
       "temp_max                        5.0                  5.6                  5.0   \n",
       "temp_min                        2.8                  2.2                  2.2   \n",
       "wind                            7.6                  4.3                  1.5   \n",
       "weather                         fog                  fog                  fog   \n",
       "day                              23                   24                   25   \n",
       "day_of_week               Wednesday             Thursday               Friday   \n",
       "weekday_number                    3                    4                    5   \n",
       "year                           2015                 2015                 2015   \n",
       "month                      December             December             December   \n",
       "month_number                     12                   12                   12   \n",
       "\n",
       "                               1455                 1456                 1457  \\\n",
       "date            2015-12-26 00:00:00  2015-12-27 00:00:00  2015-12-28 00:00:00   \n",
       "precipitation                   0.0                  8.6                  1.5   \n",
       "temp_max                        4.4                  4.4                  5.0   \n",
       "temp_min                        0.0                  1.7                  1.7   \n",
       "wind                            2.5                  2.9                  1.3   \n",
       "weather                         sun                  fog                  fog   \n",
       "day                              26                   27                   28   \n",
       "day_of_week                Saturday               Sunday               Monday   \n",
       "weekday_number                    6                    7                    1   \n",
       "year                           2015                 2015                 2015   \n",
       "month                      December             December             December   \n",
       "month_number                     12                   12                   12   \n",
       "\n",
       "                               1458                 1459                 1460  \n",
       "date            2015-12-29 00:00:00  2015-12-30 00:00:00  2015-12-31 00:00:00  \n",
       "precipitation                   0.0                  0.0                  0.0  \n",
       "temp_max                        7.2                  5.6                  5.6  \n",
       "temp_min                        0.6                 -1.0                 -2.1  \n",
       "wind                            2.6                  3.4                  3.5  \n",
       "weather                         fog                  sun                  sun  \n",
       "day                              29                   30                   31  \n",
       "day_of_week                 Tuesday            Wednesday             Thursday  \n",
       "weekday_number                    2                    3                    4  \n",
       "year                           2015                 2015                 2015  \n",
       "month                      December             December             December  \n",
       "month_number                     12                   12                   12  \n",
       "\n",
       "[12 rows x 1461 columns]"
      ]
     },
     "execution_count": 31,
     "metadata": {},
     "output_type": "execute_result"
    }
   ],
   "source": [
    "weather.T"
   ]
  },
  {
   "cell_type": "code",
   "execution_count": 32,
   "id": "03af8c6e",
   "metadata": {},
   "outputs": [
    {
     "data": {
      "text/html": [
       "<div>\n",
       "<style scoped>\n",
       "    .dataframe tbody tr th:only-of-type {\n",
       "        vertical-align: middle;\n",
       "    }\n",
       "\n",
       "    .dataframe tbody tr th {\n",
       "        vertical-align: top;\n",
       "    }\n",
       "\n",
       "    .dataframe thead th {\n",
       "        text-align: right;\n",
       "    }\n",
       "</style>\n",
       "<table border=\"1\" class=\"dataframe\">\n",
       "  <thead>\n",
       "    <tr style=\"text-align: right;\">\n",
       "      <th>date</th>\n",
       "      <th>2012-01-01</th>\n",
       "      <th>2012-01-02</th>\n",
       "      <th>2012-01-03</th>\n",
       "      <th>2012-01-04</th>\n",
       "      <th>2012-01-05</th>\n",
       "    </tr>\n",
       "  </thead>\n",
       "  <tbody>\n",
       "    <tr>\n",
       "      <th>precipitation</th>\n",
       "      <td>0.0</td>\n",
       "      <td>10.9</td>\n",
       "      <td>0.8</td>\n",
       "      <td>20.3</td>\n",
       "      <td>1.3</td>\n",
       "    </tr>\n",
       "    <tr>\n",
       "      <th>temp_max</th>\n",
       "      <td>12.8</td>\n",
       "      <td>10.6</td>\n",
       "      <td>11.7</td>\n",
       "      <td>12.2</td>\n",
       "      <td>8.9</td>\n",
       "    </tr>\n",
       "    <tr>\n",
       "      <th>temp_min</th>\n",
       "      <td>5.0</td>\n",
       "      <td>2.8</td>\n",
       "      <td>7.2</td>\n",
       "      <td>5.6</td>\n",
       "      <td>2.8</td>\n",
       "    </tr>\n",
       "    <tr>\n",
       "      <th>wind</th>\n",
       "      <td>4.7</td>\n",
       "      <td>4.5</td>\n",
       "      <td>2.3</td>\n",
       "      <td>4.7</td>\n",
       "      <td>6.1</td>\n",
       "    </tr>\n",
       "    <tr>\n",
       "      <th>weather</th>\n",
       "      <td>drizzle</td>\n",
       "      <td>rain</td>\n",
       "      <td>rain</td>\n",
       "      <td>rain</td>\n",
       "      <td>rain</td>\n",
       "    </tr>\n",
       "    <tr>\n",
       "      <th>day</th>\n",
       "      <td>1</td>\n",
       "      <td>2</td>\n",
       "      <td>3</td>\n",
       "      <td>4</td>\n",
       "      <td>5</td>\n",
       "    </tr>\n",
       "    <tr>\n",
       "      <th>day_of_week</th>\n",
       "      <td>Sunday</td>\n",
       "      <td>Monday</td>\n",
       "      <td>Tuesday</td>\n",
       "      <td>Wednesday</td>\n",
       "      <td>Thursday</td>\n",
       "    </tr>\n",
       "    <tr>\n",
       "      <th>weekday_number</th>\n",
       "      <td>7</td>\n",
       "      <td>1</td>\n",
       "      <td>2</td>\n",
       "      <td>3</td>\n",
       "      <td>4</td>\n",
       "    </tr>\n",
       "    <tr>\n",
       "      <th>year</th>\n",
       "      <td>2012</td>\n",
       "      <td>2012</td>\n",
       "      <td>2012</td>\n",
       "      <td>2012</td>\n",
       "      <td>2012</td>\n",
       "    </tr>\n",
       "    <tr>\n",
       "      <th>month</th>\n",
       "      <td>January</td>\n",
       "      <td>January</td>\n",
       "      <td>January</td>\n",
       "      <td>January</td>\n",
       "      <td>January</td>\n",
       "    </tr>\n",
       "    <tr>\n",
       "      <th>month_number</th>\n",
       "      <td>1</td>\n",
       "      <td>1</td>\n",
       "      <td>1</td>\n",
       "      <td>1</td>\n",
       "      <td>1</td>\n",
       "    </tr>\n",
       "  </tbody>\n",
       "</table>\n",
       "</div>"
      ],
      "text/plain": [
       "date           2012-01-01 2012-01-02 2012-01-03 2012-01-04 2012-01-05\n",
       "precipitation         0.0       10.9        0.8       20.3        1.3\n",
       "temp_max             12.8       10.6       11.7       12.2        8.9\n",
       "temp_min              5.0        2.8        7.2        5.6        2.8\n",
       "wind                  4.7        4.5        2.3        4.7        6.1\n",
       "weather           drizzle       rain       rain       rain       rain\n",
       "day                     1          2          3          4          5\n",
       "day_of_week        Sunday     Monday    Tuesday  Wednesday   Thursday\n",
       "weekday_number          7          1          2          3          4\n",
       "year                 2012       2012       2012       2012       2012\n",
       "month             January    January    January    January    January\n",
       "month_number            1          1          1          1          1"
      ]
     },
     "execution_count": 32,
     "metadata": {},
     "output_type": "execute_result"
    }
   ],
   "source": [
    "#### Reset & Sort index to date\n",
    "weather = weather.set_index('date').sort_index()\n",
    "weather.head().T"
   ]
  },
  {
   "cell_type": "markdown",
   "id": "157ffcc4",
   "metadata": {},
   "source": [
    "## Use the above dataset for the following exercises:"
   ]
  },
  {
   "cell_type": "markdown",
   "id": "1fd3bf37",
   "metadata": {},
   "source": [
    "<div class=\"alert alert-warning\">\n",
    "\n",
    "\n",
    "## 1. Which year and month combination has the highest amount of precipitation?"
   ]
  },
  {
   "cell_type": "code",
   "execution_count": 33,
   "id": "cf143131",
   "metadata": {},
   "outputs": [
    {
     "data": {
      "text/plain": [
       "Timestamp('2015-12-31 00:00:00', freq='M')"
      ]
     },
     "execution_count": 33,
     "metadata": {},
     "output_type": "execute_result"
    }
   ],
   "source": [
    "# Resample by Month and Sum the Precipitation, then show index of max result\n",
    "weather.resample('M').precipitation.sum().idxmax()"
   ]
  },
  {
   "cell_type": "code",
   "execution_count": 34,
   "id": "d223c2a9",
   "metadata": {},
   "outputs": [
    {
     "data": {
      "text/plain": [
       "'December 2015'"
      ]
     },
     "execution_count": 34,
     "metadata": {},
     "output_type": "execute_result"
    }
   ],
   "source": [
    "#Use strftime to display the information in Human Readable format\n",
    "weather.resample('M').precipitation.sum().idxmax().strftime('%B %Y')"
   ]
  },
  {
   "cell_type": "markdown",
   "id": "bf98377a",
   "metadata": {},
   "source": [
    "<div class=\"alert alert-info\">\n",
    "\n",
    "    \n",
    "#### ANSWER: December 2015"
   ]
  },
  {
   "cell_type": "markdown",
   "id": "d9eb8e14",
   "metadata": {},
   "source": [
    "<div class=\"alert alert-warning\">\n",
    "\n",
    "\n",
    "## 2. Visualize the amount of monthly precipitation over time."
   ]
  },
  {
   "cell_type": "code",
   "execution_count": 35,
   "id": "aeed2239",
   "metadata": {},
   "outputs": [
    {
     "data": {
      "text/plain": [
       "<AxesSubplot:xlabel='date'>"
      ]
     },
     "execution_count": 35,
     "metadata": {},
     "output_type": "execute_result"
    },
    {
     "data": {
      "image/png": "[encoded data removed]",
      "text/plain": [
       "<Figure size 360x216 with 1 Axes>"
      ]
     },
     "metadata": {
      "needs_background": "light"
     },
     "output_type": "display_data"
    }
   ],
   "source": [
    "# Resample by Month Sum Precipitation and Plot\n",
    "weather.resample('M').precipitation.sum().plot()"
   ]
  },
  {
   "cell_type": "markdown",
   "id": "31c4c7b8",
   "metadata": {},
   "source": [
    "<div class=\"alert alert-warning\">\n",
    "\n",
    "\n",
    "## 3. Visualize the amount of wind over time. Choose a time interval you think is appropriate."
   ]
  },
  {
   "cell_type": "code",
   "execution_count": 36,
   "id": "c5513c49",
   "metadata": {
    "scrolled": true
   },
   "outputs": [
    {
     "data": {
      "text/plain": [
       "<AxesSubplot:xlabel='date'>"
      ]
     },
     "execution_count": 36,
     "metadata": {},
     "output_type": "execute_result"
    },
    {
     "data": {
      "image/png": "[encoded data removed]",
      "text/plain": [
       "<Figure size 360x216 with 1 Axes>"
      ]
     },
     "metadata": {
      "needs_background": "light"
     },
     "output_type": "display_data"
    }
   ],
   "source": [
    "# Resample by Year Sum Wind and Plot\n",
    "weather.resample('Y').wind.sum().plot()"
   ]
  },
  {
   "cell_type": "code",
   "execution_count": 37,
   "id": "3bcb8ca7",
   "metadata": {
    "scrolled": false
   },
   "outputs": [
    {
     "data": {
      "text/plain": [
       "<AxesSubplot:xlabel='date'>"
      ]
     },
     "execution_count": 37,
     "metadata": {},
     "output_type": "execute_result"
    },
    {
     "data": {
      "image/png": "[encoded data removed]",
      "text/plain": [
       "<Figure size 360x216 with 1 Axes>"
      ]
     },
     "metadata": {
      "needs_background": "light"
     },
     "output_type": "display_data"
    }
   ],
   "source": [
    "# Resample by Month Sum Wind and Plot\n",
    "weather.resample('M').wind.sum().plot()"
   ]
  },
  {
   "cell_type": "code",
   "execution_count": 38,
   "id": "b7ba9eb3",
   "metadata": {
    "scrolled": true
   },
   "outputs": [
    {
     "data": {
      "text/plain": [
       "<AxesSubplot:xlabel='date'>"
      ]
     },
     "execution_count": 38,
     "metadata": {},
     "output_type": "execute_result"
    },
    {
     "data": {
      "image/png": "[encoded data removed]",
      "text/plain": [
       "<Figure size 360x216 with 1 Axes>"
      ]
     },
     "metadata": {
      "needs_background": "light"
     },
     "output_type": "display_data"
    }
   ],
   "source": [
    "# Resample by Day Sum Wind and Plot\n",
    "weather.resample('D').wind.sum().plot()"
   ]
  },
  {
   "cell_type": "code",
   "execution_count": 39,
   "id": "bc20a2ed",
   "metadata": {},
   "outputs": [
    {
     "data": {
      "image/png": "[encoded data removed]",
      "text/plain": [
       "<Figure size 360x216 with 1 Axes>"
      ]
     },
     "metadata": {
      "needs_background": "light"
     },
     "output_type": "display_data"
    }
   ],
   "source": [
    "weather.wind.plot(label='Wind')\n",
    "weather.resample('D').wind.sum().plot(label='Day')\n",
    "weather.resample('M').wind.sum().plot(label='Month')\n",
    "weather.resample('Y').wind.sum().plot(label='Year')\n",
    "#plt.title('Wind', fontsize=20)\n",
    "plt.legend()\n",
    "plt.show()"
   ]
  },
  {
   "cell_type": "markdown",
   "id": "825fdf9d",
   "metadata": {},
   "source": [
    "<div class=\"alert alert-warning\">\n",
    "\n",
    "\n",
    "## 4. Which year-month combination is the windiest?"
   ]
  },
  {
   "cell_type": "code",
   "execution_count": 40,
   "id": "7e771e40",
   "metadata": {},
   "outputs": [
    {
     "data": {
      "text/plain": [
       "'December 2015'"
      ]
     },
     "execution_count": 40,
     "metadata": {},
     "output_type": "execute_result"
    }
   ],
   "source": [
    "# Resample by Month Sum Wind and display max index\n",
    "weather.resample('M').wind.sum().idxmax().strftime('%B %Y')"
   ]
  },
  {
   "cell_type": "markdown",
   "id": "9489dc17",
   "metadata": {},
   "source": [
    "<div class=\"alert alert-warning\">\n",
    "\n",
    "\n",
    "## 5. What's the sunniest year? (Hint: which day has the highest number of days where weather == sun?)"
   ]
  },
  {
   "cell_type": "code",
   "execution_count": 41,
   "id": "4eb6ce1b",
   "metadata": {},
   "outputs": [
    {
     "data": {
      "text/plain": [
       "sun        714\n",
       "fog        411\n",
       "rain       259\n",
       "drizzle     54\n",
       "snow        23\n",
       "Name: weather, dtype: int64"
      ]
     },
     "execution_count": 41,
     "metadata": {},
     "output_type": "execute_result"
    }
   ],
   "source": [
    "# Unique value count of weather column\n",
    "weather.weather.value_counts()"
   ]
  },
  {
   "cell_type": "code",
   "execution_count": 42,
   "id": "5c2e4f30",
   "metadata": {
    "scrolled": true
   },
   "outputs": [
    {
     "data": {
      "text/plain": [
       "date        weather\n",
       "2012-12-31  rain       191\n",
       "            sun        118\n",
       "            drizzle     31\n",
       "            snow        21\n",
       "            fog          5\n",
       "2013-12-31  sun        205\n",
       "            fog         82\n",
       "            rain        60\n",
       "            drizzle     16\n",
       "            snow         2\n",
       "2014-12-31  sun        211\n",
       "            fog        151\n",
       "            rain         3\n",
       "2015-12-31  sun        180\n",
       "            fog        173\n",
       "            drizzle      7\n",
       "            rain         5\n",
       "Name: weather, dtype: int64"
      ]
     },
     "execution_count": 42,
     "metadata": {},
     "output_type": "execute_result"
    }
   ],
   "source": [
    "# Resample by year and get Unique value count of weather column\n",
    "weather.resample('Y').weather.value_counts()"
   ]
  },
  {
   "cell_type": "markdown",
   "id": "f44a1bfe",
   "metadata": {},
   "source": [
    "<div class=\"alert alert-info\">\n",
    "\n",
    "\n",
    "#### ANSWER: 2014\n",
    "* but... we can automate this better..."
   ]
  },
  {
   "cell_type": "code",
   "execution_count": 43,
   "id": "b9f84788",
   "metadata": {},
   "outputs": [],
   "source": [
    "# Create df with only sun\n",
    "sun_df = weather[weather.weather == 'sun']"
   ]
  },
  {
   "cell_type": "code",
   "execution_count": 44,
   "id": "6be67327",
   "metadata": {},
   "outputs": [
    {
     "data": {
      "text/html": [
       "<div>\n",
       "<style scoped>\n",
       "    .dataframe tbody tr th:only-of-type {\n",
       "        vertical-align: middle;\n",
       "    }\n",
       "\n",
       "    .dataframe tbody tr th {\n",
       "        vertical-align: top;\n",
       "    }\n",
       "\n",
       "    .dataframe thead th {\n",
       "        text-align: right;\n",
       "    }\n",
       "</style>\n",
       "<table border=\"1\" class=\"dataframe\">\n",
       "  <thead>\n",
       "    <tr style=\"text-align: right;\">\n",
       "      <th>date</th>\n",
       "      <th>2012-01-08</th>\n",
       "      <th>2012-01-11</th>\n",
       "      <th>2012-01-12</th>\n",
       "      <th>2012-01-13</th>\n",
       "      <th>2012-02-02</th>\n",
       "      <th>2012-02-03</th>\n",
       "      <th>2012-02-04</th>\n",
       "      <th>2012-02-05</th>\n",
       "      <th>2012-02-06</th>\n",
       "      <th>2012-02-19</th>\n",
       "      <th>...</th>\n",
       "      <th>2015-11-25</th>\n",
       "      <th>2015-11-26</th>\n",
       "      <th>2015-11-27</th>\n",
       "      <th>2015-11-28</th>\n",
       "      <th>2015-12-11</th>\n",
       "      <th>2015-12-13</th>\n",
       "      <th>2015-12-14</th>\n",
       "      <th>2015-12-26</th>\n",
       "      <th>2015-12-30</th>\n",
       "      <th>2015-12-31</th>\n",
       "    </tr>\n",
       "  </thead>\n",
       "  <tbody>\n",
       "    <tr>\n",
       "      <th>precipitation</th>\n",
       "      <td>0.0</td>\n",
       "      <td>0.0</td>\n",
       "      <td>0.0</td>\n",
       "      <td>0.0</td>\n",
       "      <td>0.0</td>\n",
       "      <td>0.0</td>\n",
       "      <td>0.0</td>\n",
       "      <td>0.0</td>\n",
       "      <td>0.0</td>\n",
       "      <td>0.0</td>\n",
       "      <td>...</td>\n",
       "      <td>0.0</td>\n",
       "      <td>0.0</td>\n",
       "      <td>0.0</td>\n",
       "      <td>0.0</td>\n",
       "      <td>0.3</td>\n",
       "      <td>1.3</td>\n",
       "      <td>0.0</td>\n",
       "      <td>0.0</td>\n",
       "      <td>0.0</td>\n",
       "      <td>0.0</td>\n",
       "    </tr>\n",
       "    <tr>\n",
       "      <th>temp_max</th>\n",
       "      <td>10.0</td>\n",
       "      <td>6.1</td>\n",
       "      <td>6.1</td>\n",
       "      <td>5.0</td>\n",
       "      <td>8.3</td>\n",
       "      <td>14.4</td>\n",
       "      <td>15.6</td>\n",
       "      <td>13.9</td>\n",
       "      <td>16.1</td>\n",
       "      <td>6.7</td>\n",
       "      <td>...</td>\n",
       "      <td>7.2</td>\n",
       "      <td>9.4</td>\n",
       "      <td>9.4</td>\n",
       "      <td>7.2</td>\n",
       "      <td>9.4</td>\n",
       "      <td>7.8</td>\n",
       "      <td>7.8</td>\n",
       "      <td>4.4</td>\n",
       "      <td>5.6</td>\n",
       "      <td>5.6</td>\n",
       "    </tr>\n",
       "    <tr>\n",
       "      <th>temp_min</th>\n",
       "      <td>2.8</td>\n",
       "      <td>-1.1</td>\n",
       "      <td>-1.7</td>\n",
       "      <td>-2.8</td>\n",
       "      <td>1.7</td>\n",
       "      <td>2.2</td>\n",
       "      <td>5.0</td>\n",
       "      <td>1.7</td>\n",
       "      <td>1.7</td>\n",
       "      <td>2.2</td>\n",
       "      <td>...</td>\n",
       "      <td>0.0</td>\n",
       "      <td>-1.0</td>\n",
       "      <td>-1.6</td>\n",
       "      <td>-2.7</td>\n",
       "      <td>4.4</td>\n",
       "      <td>6.1</td>\n",
       "      <td>1.7</td>\n",
       "      <td>0.0</td>\n",
       "      <td>-1.0</td>\n",
       "      <td>-2.1</td>\n",
       "    </tr>\n",
       "    <tr>\n",
       "      <th>wind</th>\n",
       "      <td>2.0</td>\n",
       "      <td>5.1</td>\n",
       "      <td>1.9</td>\n",
       "      <td>1.3</td>\n",
       "      <td>2.6</td>\n",
       "      <td>5.3</td>\n",
       "      <td>4.3</td>\n",
       "      <td>2.9</td>\n",
       "      <td>5.0</td>\n",
       "      <td>4.7</td>\n",
       "      <td>...</td>\n",
       "      <td>5.7</td>\n",
       "      <td>4.3</td>\n",
       "      <td>3.0</td>\n",
       "      <td>1.0</td>\n",
       "      <td>2.8</td>\n",
       "      <td>6.1</td>\n",
       "      <td>1.7</td>\n",
       "      <td>2.5</td>\n",
       "      <td>3.4</td>\n",
       "      <td>3.5</td>\n",
       "    </tr>\n",
       "    <tr>\n",
       "      <th>weather</th>\n",
       "      <td>sun</td>\n",
       "      <td>sun</td>\n",
       "      <td>sun</td>\n",
       "      <td>sun</td>\n",
       "      <td>sun</td>\n",
       "      <td>sun</td>\n",
       "      <td>sun</td>\n",
       "      <td>sun</td>\n",
       "      <td>sun</td>\n",
       "      <td>sun</td>\n",
       "      <td>...</td>\n",
       "      <td>sun</td>\n",
       "      <td>sun</td>\n",
       "      <td>sun</td>\n",
       "      <td>sun</td>\n",
       "      <td>sun</td>\n",
       "      <td>sun</td>\n",
       "      <td>sun</td>\n",
       "      <td>sun</td>\n",
       "      <td>sun</td>\n",
       "      <td>sun</td>\n",
       "    </tr>\n",
       "    <tr>\n",
       "      <th>day</th>\n",
       "      <td>8</td>\n",
       "      <td>11</td>\n",
       "      <td>12</td>\n",
       "      <td>13</td>\n",
       "      <td>2</td>\n",
       "      <td>3</td>\n",
       "      <td>4</td>\n",
       "      <td>5</td>\n",
       "      <td>6</td>\n",
       "      <td>19</td>\n",
       "      <td>...</td>\n",
       "      <td>25</td>\n",
       "      <td>26</td>\n",
       "      <td>27</td>\n",
       "      <td>28</td>\n",
       "      <td>11</td>\n",
       "      <td>13</td>\n",
       "      <td>14</td>\n",
       "      <td>26</td>\n",
       "      <td>30</td>\n",
       "      <td>31</td>\n",
       "    </tr>\n",
       "    <tr>\n",
       "      <th>day_of_week</th>\n",
       "      <td>Sunday</td>\n",
       "      <td>Wednesday</td>\n",
       "      <td>Thursday</td>\n",
       "      <td>Friday</td>\n",
       "      <td>Thursday</td>\n",
       "      <td>Friday</td>\n",
       "      <td>Saturday</td>\n",
       "      <td>Sunday</td>\n",
       "      <td>Monday</td>\n",
       "      <td>Sunday</td>\n",
       "      <td>...</td>\n",
       "      <td>Wednesday</td>\n",
       "      <td>Thursday</td>\n",
       "      <td>Friday</td>\n",
       "      <td>Saturday</td>\n",
       "      <td>Friday</td>\n",
       "      <td>Sunday</td>\n",
       "      <td>Monday</td>\n",
       "      <td>Saturday</td>\n",
       "      <td>Wednesday</td>\n",
       "      <td>Thursday</td>\n",
       "    </tr>\n",
       "    <tr>\n",
       "      <th>weekday_number</th>\n",
       "      <td>7</td>\n",
       "      <td>3</td>\n",
       "      <td>4</td>\n",
       "      <td>5</td>\n",
       "      <td>4</td>\n",
       "      <td>5</td>\n",
       "      <td>6</td>\n",
       "      <td>7</td>\n",
       "      <td>1</td>\n",
       "      <td>7</td>\n",
       "      <td>...</td>\n",
       "      <td>3</td>\n",
       "      <td>4</td>\n",
       "      <td>5</td>\n",
       "      <td>6</td>\n",
       "      <td>5</td>\n",
       "      <td>7</td>\n",
       "      <td>1</td>\n",
       "      <td>6</td>\n",
       "      <td>3</td>\n",
       "      <td>4</td>\n",
       "    </tr>\n",
       "    <tr>\n",
       "      <th>year</th>\n",
       "      <td>2012</td>\n",
       "      <td>2012</td>\n",
       "      <td>2012</td>\n",
       "      <td>2012</td>\n",
       "      <td>2012</td>\n",
       "      <td>2012</td>\n",
       "      <td>2012</td>\n",
       "      <td>2012</td>\n",
       "      <td>2012</td>\n",
       "      <td>2012</td>\n",
       "      <td>...</td>\n",
       "      <td>2015</td>\n",
       "      <td>2015</td>\n",
       "      <td>2015</td>\n",
       "      <td>2015</td>\n",
       "      <td>2015</td>\n",
       "      <td>2015</td>\n",
       "      <td>2015</td>\n",
       "      <td>2015</td>\n",
       "      <td>2015</td>\n",
       "      <td>2015</td>\n",
       "    </tr>\n",
       "    <tr>\n",
       "      <th>month</th>\n",
       "      <td>January</td>\n",
       "      <td>January</td>\n",
       "      <td>January</td>\n",
       "      <td>January</td>\n",
       "      <td>February</td>\n",
       "      <td>February</td>\n",
       "      <td>February</td>\n",
       "      <td>February</td>\n",
       "      <td>February</td>\n",
       "      <td>February</td>\n",
       "      <td>...</td>\n",
       "      <td>November</td>\n",
       "      <td>November</td>\n",
       "      <td>November</td>\n",
       "      <td>November</td>\n",
       "      <td>December</td>\n",
       "      <td>December</td>\n",
       "      <td>December</td>\n",
       "      <td>December</td>\n",
       "      <td>December</td>\n",
       "      <td>December</td>\n",
       "    </tr>\n",
       "    <tr>\n",
       "      <th>month_number</th>\n",
       "      <td>1</td>\n",
       "      <td>1</td>\n",
       "      <td>1</td>\n",
       "      <td>1</td>\n",
       "      <td>2</td>\n",
       "      <td>2</td>\n",
       "      <td>2</td>\n",
       "      <td>2</td>\n",
       "      <td>2</td>\n",
       "      <td>2</td>\n",
       "      <td>...</td>\n",
       "      <td>11</td>\n",
       "      <td>11</td>\n",
       "      <td>11</td>\n",
       "      <td>11</td>\n",
       "      <td>12</td>\n",
       "      <td>12</td>\n",
       "      <td>12</td>\n",
       "      <td>12</td>\n",
       "      <td>12</td>\n",
       "      <td>12</td>\n",
       "    </tr>\n",
       "  </tbody>\n",
       "</table>\n",
       "<p>11 rows × 714 columns</p>\n",
       "</div>"
      ],
      "text/plain": [
       "date           2012-01-08 2012-01-11 2012-01-12 2012-01-13 2012-02-02  \\\n",
       "precipitation         0.0        0.0        0.0        0.0        0.0   \n",
       "temp_max             10.0        6.1        6.1        5.0        8.3   \n",
       "temp_min              2.8       -1.1       -1.7       -2.8        1.7   \n",
       "wind                  2.0        5.1        1.9        1.3        2.6   \n",
       "weather               sun        sun        sun        sun        sun   \n",
       "day                     8         11         12         13          2   \n",
       "day_of_week        Sunday  Wednesday   Thursday     Friday   Thursday   \n",
       "weekday_number          7          3          4          5          4   \n",
       "year                 2012       2012       2012       2012       2012   \n",
       "month             January    January    January    January   February   \n",
       "month_number            1          1          1          1          2   \n",
       "\n",
       "date           2012-02-03 2012-02-04 2012-02-05 2012-02-06 2012-02-19  ...  \\\n",
       "precipitation         0.0        0.0        0.0        0.0        0.0  ...   \n",
       "temp_max             14.4       15.6       13.9       16.1        6.7  ...   \n",
       "temp_min              2.2        5.0        1.7        1.7        2.2  ...   \n",
       "wind                  5.3        4.3        2.9        5.0        4.7  ...   \n",
       "weather               sun        sun        sun        sun        sun  ...   \n",
       "day                     3          4          5          6         19  ...   \n",
       "day_of_week        Friday   Saturday     Sunday     Monday     Sunday  ...   \n",
       "weekday_number          5          6          7          1          7  ...   \n",
       "year                 2012       2012       2012       2012       2012  ...   \n",
       "month            February   February   February   February   February  ...   \n",
       "month_number            2          2          2          2          2  ...   \n",
       "\n",
       "date           2015-11-25 2015-11-26 2015-11-27 2015-11-28 2015-12-11  \\\n",
       "precipitation         0.0        0.0        0.0        0.0        0.3   \n",
       "temp_max              7.2        9.4        9.4        7.2        9.4   \n",
       "temp_min              0.0       -1.0       -1.6       -2.7        4.4   \n",
       "wind                  5.7        4.3        3.0        1.0        2.8   \n",
       "weather               sun        sun        sun        sun        sun   \n",
       "day                    25         26         27         28         11   \n",
       "day_of_week     Wednesday   Thursday     Friday   Saturday     Friday   \n",
       "weekday_number          3          4          5          6          5   \n",
       "year                 2015       2015       2015       2015       2015   \n",
       "month            November   November   November   November   December   \n",
       "month_number           11         11         11         11         12   \n",
       "\n",
       "date           2015-12-13 2015-12-14 2015-12-26 2015-12-30 2015-12-31  \n",
       "precipitation         1.3        0.0        0.0        0.0        0.0  \n",
       "temp_max              7.8        7.8        4.4        5.6        5.6  \n",
       "temp_min              6.1        1.7        0.0       -1.0       -2.1  \n",
       "wind                  6.1        1.7        2.5        3.4        3.5  \n",
       "weather               sun        sun        sun        sun        sun  \n",
       "day                    13         14         26         30         31  \n",
       "day_of_week        Sunday     Monday   Saturday  Wednesday   Thursday  \n",
       "weekday_number          7          1          6          3          4  \n",
       "year                 2015       2015       2015       2015       2015  \n",
       "month            December   December   December   December   December  \n",
       "month_number           12         12         12         12         12  \n",
       "\n",
       "[11 rows x 714 columns]"
      ]
     },
     "execution_count": 44,
     "metadata": {},
     "output_type": "execute_result"
    }
   ],
   "source": [
    "# Check my work\n",
    "sun_df.T"
   ]
  },
  {
   "cell_type": "code",
   "execution_count": 45,
   "id": "7118303b",
   "metadata": {},
   "outputs": [
    {
     "data": {
      "text/plain": [
       "'2014'"
      ]
     },
     "execution_count": 45,
     "metadata": {},
     "output_type": "execute_result"
    }
   ],
   "source": [
    "# Resample by Year, count weather (which is now only sun), display max index in Human Readable format\n",
    "sun_df.resample('Y').weather.count().idxmax().strftime('%Y')"
   ]
  },
  {
   "cell_type": "markdown",
   "id": "0432db85",
   "metadata": {},
   "source": [
    "<div class=\"alert alert-info\">\n",
    "\n",
    "\n",
    "### What's the sunniest year?    \n",
    "#### ANSWER: 2014"
   ]
  },
  {
   "cell_type": "markdown",
   "id": "e894c29b",
   "metadata": {},
   "source": [
    "<div class=\"alert alert-warning\">\n",
    "\n",
    "\n",
    "## 6. In which month does it rain the most?"
   ]
  },
  {
   "cell_type": "code",
   "execution_count": 46,
   "id": "5b62efa7",
   "metadata": {},
   "outputs": [
    {
     "data": {
      "text/html": [
       "<div>\n",
       "<style scoped>\n",
       "    .dataframe tbody tr th:only-of-type {\n",
       "        vertical-align: middle;\n",
       "    }\n",
       "\n",
       "    .dataframe tbody tr th {\n",
       "        vertical-align: top;\n",
       "    }\n",
       "\n",
       "    .dataframe thead th {\n",
       "        text-align: right;\n",
       "    }\n",
       "</style>\n",
       "<table border=\"1\" class=\"dataframe\">\n",
       "  <thead>\n",
       "    <tr style=\"text-align: right;\">\n",
       "      <th>date</th>\n",
       "      <th>2012-01-02</th>\n",
       "      <th>2012-01-03</th>\n",
       "      <th>2012-01-04</th>\n",
       "      <th>2012-01-05</th>\n",
       "      <th>2012-01-06</th>\n",
       "      <th>2012-01-07</th>\n",
       "      <th>2012-01-09</th>\n",
       "      <th>2012-01-10</th>\n",
       "      <th>2012-01-21</th>\n",
       "      <th>2012-01-22</th>\n",
       "      <th>...</th>\n",
       "      <th>2013-08-09</th>\n",
       "      <th>2013-10-08</th>\n",
       "      <th>2014-07-13</th>\n",
       "      <th>2014-08-11</th>\n",
       "      <th>2014-10-11</th>\n",
       "      <th>2015-01-18</th>\n",
       "      <th>2015-04-01</th>\n",
       "      <th>2015-08-12</th>\n",
       "      <th>2015-08-14</th>\n",
       "      <th>2015-10-25</th>\n",
       "    </tr>\n",
       "  </thead>\n",
       "  <tbody>\n",
       "    <tr>\n",
       "      <th>precipitation</th>\n",
       "      <td>10.9</td>\n",
       "      <td>0.8</td>\n",
       "      <td>20.3</td>\n",
       "      <td>1.3</td>\n",
       "      <td>2.5</td>\n",
       "      <td>0.0</td>\n",
       "      <td>4.3</td>\n",
       "      <td>1.0</td>\n",
       "      <td>3.0</td>\n",
       "      <td>6.1</td>\n",
       "      <td>...</td>\n",
       "      <td>0.0</td>\n",
       "      <td>6.9</td>\n",
       "      <td>0.0</td>\n",
       "      <td>0.5</td>\n",
       "      <td>7.4</td>\n",
       "      <td>21.3</td>\n",
       "      <td>5.1</td>\n",
       "      <td>7.6</td>\n",
       "      <td>30.5</td>\n",
       "      <td>8.9</td>\n",
       "    </tr>\n",
       "    <tr>\n",
       "      <th>temp_max</th>\n",
       "      <td>10.6</td>\n",
       "      <td>11.7</td>\n",
       "      <td>12.2</td>\n",
       "      <td>8.9</td>\n",
       "      <td>4.4</td>\n",
       "      <td>7.2</td>\n",
       "      <td>9.4</td>\n",
       "      <td>6.1</td>\n",
       "      <td>8.3</td>\n",
       "      <td>6.7</td>\n",
       "      <td>...</td>\n",
       "      <td>28.3</td>\n",
       "      <td>13.9</td>\n",
       "      <td>29.4</td>\n",
       "      <td>35.6</td>\n",
       "      <td>18.3</td>\n",
       "      <td>13.9</td>\n",
       "      <td>12.8</td>\n",
       "      <td>28.3</td>\n",
       "      <td>18.3</td>\n",
       "      <td>19.4</td>\n",
       "    </tr>\n",
       "    <tr>\n",
       "      <th>temp_min</th>\n",
       "      <td>2.8</td>\n",
       "      <td>7.2</td>\n",
       "      <td>5.6</td>\n",
       "      <td>2.8</td>\n",
       "      <td>2.2</td>\n",
       "      <td>2.8</td>\n",
       "      <td>5.0</td>\n",
       "      <td>0.6</td>\n",
       "      <td>3.3</td>\n",
       "      <td>2.2</td>\n",
       "      <td>...</td>\n",
       "      <td>14.4</td>\n",
       "      <td>7.8</td>\n",
       "      <td>15.0</td>\n",
       "      <td>17.8</td>\n",
       "      <td>11.7</td>\n",
       "      <td>7.2</td>\n",
       "      <td>5.6</td>\n",
       "      <td>16.7</td>\n",
       "      <td>15.0</td>\n",
       "      <td>8.9</td>\n",
       "    </tr>\n",
       "    <tr>\n",
       "      <th>wind</th>\n",
       "      <td>4.5</td>\n",
       "      <td>2.3</td>\n",
       "      <td>4.7</td>\n",
       "      <td>6.1</td>\n",
       "      <td>2.2</td>\n",
       "      <td>2.3</td>\n",
       "      <td>3.4</td>\n",
       "      <td>3.4</td>\n",
       "      <td>8.2</td>\n",
       "      <td>4.8</td>\n",
       "      <td>...</td>\n",
       "      <td>2.1</td>\n",
       "      <td>3.0</td>\n",
       "      <td>2.6</td>\n",
       "      <td>2.6</td>\n",
       "      <td>3.5</td>\n",
       "      <td>6.6</td>\n",
       "      <td>3.2</td>\n",
       "      <td>2.7</td>\n",
       "      <td>5.2</td>\n",
       "      <td>3.4</td>\n",
       "    </tr>\n",
       "    <tr>\n",
       "      <th>weather</th>\n",
       "      <td>rain</td>\n",
       "      <td>rain</td>\n",
       "      <td>rain</td>\n",
       "      <td>rain</td>\n",
       "      <td>rain</td>\n",
       "      <td>rain</td>\n",
       "      <td>rain</td>\n",
       "      <td>rain</td>\n",
       "      <td>rain</td>\n",
       "      <td>rain</td>\n",
       "      <td>...</td>\n",
       "      <td>rain</td>\n",
       "      <td>rain</td>\n",
       "      <td>rain</td>\n",
       "      <td>rain</td>\n",
       "      <td>rain</td>\n",
       "      <td>rain</td>\n",
       "      <td>rain</td>\n",
       "      <td>rain</td>\n",
       "      <td>rain</td>\n",
       "      <td>rain</td>\n",
       "    </tr>\n",
       "    <tr>\n",
       "      <th>day</th>\n",
       "      <td>2</td>\n",
       "      <td>3</td>\n",
       "      <td>4</td>\n",
       "      <td>5</td>\n",
       "      <td>6</td>\n",
       "      <td>7</td>\n",
       "      <td>9</td>\n",
       "      <td>10</td>\n",
       "      <td>21</td>\n",
       "      <td>22</td>\n",
       "      <td>...</td>\n",
       "      <td>9</td>\n",
       "      <td>8</td>\n",
       "      <td>13</td>\n",
       "      <td>11</td>\n",
       "      <td>11</td>\n",
       "      <td>18</td>\n",
       "      <td>1</td>\n",
       "      <td>12</td>\n",
       "      <td>14</td>\n",
       "      <td>25</td>\n",
       "    </tr>\n",
       "    <tr>\n",
       "      <th>day_of_week</th>\n",
       "      <td>Monday</td>\n",
       "      <td>Tuesday</td>\n",
       "      <td>Wednesday</td>\n",
       "      <td>Thursday</td>\n",
       "      <td>Friday</td>\n",
       "      <td>Saturday</td>\n",
       "      <td>Monday</td>\n",
       "      <td>Tuesday</td>\n",
       "      <td>Saturday</td>\n",
       "      <td>Sunday</td>\n",
       "      <td>...</td>\n",
       "      <td>Friday</td>\n",
       "      <td>Tuesday</td>\n",
       "      <td>Sunday</td>\n",
       "      <td>Monday</td>\n",
       "      <td>Saturday</td>\n",
       "      <td>Sunday</td>\n",
       "      <td>Wednesday</td>\n",
       "      <td>Wednesday</td>\n",
       "      <td>Friday</td>\n",
       "      <td>Sunday</td>\n",
       "    </tr>\n",
       "    <tr>\n",
       "      <th>weekday_number</th>\n",
       "      <td>1</td>\n",
       "      <td>2</td>\n",
       "      <td>3</td>\n",
       "      <td>4</td>\n",
       "      <td>5</td>\n",
       "      <td>6</td>\n",
       "      <td>1</td>\n",
       "      <td>2</td>\n",
       "      <td>6</td>\n",
       "      <td>7</td>\n",
       "      <td>...</td>\n",
       "      <td>5</td>\n",
       "      <td>2</td>\n",
       "      <td>7</td>\n",
       "      <td>1</td>\n",
       "      <td>6</td>\n",
       "      <td>7</td>\n",
       "      <td>3</td>\n",
       "      <td>3</td>\n",
       "      <td>5</td>\n",
       "      <td>7</td>\n",
       "    </tr>\n",
       "    <tr>\n",
       "      <th>year</th>\n",
       "      <td>2012</td>\n",
       "      <td>2012</td>\n",
       "      <td>2012</td>\n",
       "      <td>2012</td>\n",
       "      <td>2012</td>\n",
       "      <td>2012</td>\n",
       "      <td>2012</td>\n",
       "      <td>2012</td>\n",
       "      <td>2012</td>\n",
       "      <td>2012</td>\n",
       "      <td>...</td>\n",
       "      <td>2013</td>\n",
       "      <td>2013</td>\n",
       "      <td>2014</td>\n",
       "      <td>2014</td>\n",
       "      <td>2014</td>\n",
       "      <td>2015</td>\n",
       "      <td>2015</td>\n",
       "      <td>2015</td>\n",
       "      <td>2015</td>\n",
       "      <td>2015</td>\n",
       "    </tr>\n",
       "    <tr>\n",
       "      <th>month</th>\n",
       "      <td>January</td>\n",
       "      <td>January</td>\n",
       "      <td>January</td>\n",
       "      <td>January</td>\n",
       "      <td>January</td>\n",
       "      <td>January</td>\n",
       "      <td>January</td>\n",
       "      <td>January</td>\n",
       "      <td>January</td>\n",
       "      <td>January</td>\n",
       "      <td>...</td>\n",
       "      <td>August</td>\n",
       "      <td>October</td>\n",
       "      <td>July</td>\n",
       "      <td>August</td>\n",
       "      <td>October</td>\n",
       "      <td>January</td>\n",
       "      <td>April</td>\n",
       "      <td>August</td>\n",
       "      <td>August</td>\n",
       "      <td>October</td>\n",
       "    </tr>\n",
       "    <tr>\n",
       "      <th>month_number</th>\n",
       "      <td>1</td>\n",
       "      <td>1</td>\n",
       "      <td>1</td>\n",
       "      <td>1</td>\n",
       "      <td>1</td>\n",
       "      <td>1</td>\n",
       "      <td>1</td>\n",
       "      <td>1</td>\n",
       "      <td>1</td>\n",
       "      <td>1</td>\n",
       "      <td>...</td>\n",
       "      <td>8</td>\n",
       "      <td>10</td>\n",
       "      <td>7</td>\n",
       "      <td>8</td>\n",
       "      <td>10</td>\n",
       "      <td>1</td>\n",
       "      <td>4</td>\n",
       "      <td>8</td>\n",
       "      <td>8</td>\n",
       "      <td>10</td>\n",
       "    </tr>\n",
       "  </tbody>\n",
       "</table>\n",
       "<p>11 rows × 259 columns</p>\n",
       "</div>"
      ],
      "text/plain": [
       "date           2012-01-02 2012-01-03 2012-01-04 2012-01-05 2012-01-06  \\\n",
       "precipitation        10.9        0.8       20.3        1.3        2.5   \n",
       "temp_max             10.6       11.7       12.2        8.9        4.4   \n",
       "temp_min              2.8        7.2        5.6        2.8        2.2   \n",
       "wind                  4.5        2.3        4.7        6.1        2.2   \n",
       "weather              rain       rain       rain       rain       rain   \n",
       "day                     2          3          4          5          6   \n",
       "day_of_week        Monday    Tuesday  Wednesday   Thursday     Friday   \n",
       "weekday_number          1          2          3          4          5   \n",
       "year                 2012       2012       2012       2012       2012   \n",
       "month             January    January    January    January    January   \n",
       "month_number            1          1          1          1          1   \n",
       "\n",
       "date           2012-01-07 2012-01-09 2012-01-10 2012-01-21 2012-01-22  ...  \\\n",
       "precipitation         0.0        4.3        1.0        3.0        6.1  ...   \n",
       "temp_max              7.2        9.4        6.1        8.3        6.7  ...   \n",
       "temp_min              2.8        5.0        0.6        3.3        2.2  ...   \n",
       "wind                  2.3        3.4        3.4        8.2        4.8  ...   \n",
       "weather              rain       rain       rain       rain       rain  ...   \n",
       "day                     7          9         10         21         22  ...   \n",
       "day_of_week      Saturday     Monday    Tuesday   Saturday     Sunday  ...   \n",
       "weekday_number          6          1          2          6          7  ...   \n",
       "year                 2012       2012       2012       2012       2012  ...   \n",
       "month             January    January    January    January    January  ...   \n",
       "month_number            1          1          1          1          1  ...   \n",
       "\n",
       "date           2013-08-09 2013-10-08 2014-07-13 2014-08-11 2014-10-11  \\\n",
       "precipitation         0.0        6.9        0.0        0.5        7.4   \n",
       "temp_max             28.3       13.9       29.4       35.6       18.3   \n",
       "temp_min             14.4        7.8       15.0       17.8       11.7   \n",
       "wind                  2.1        3.0        2.6        2.6        3.5   \n",
       "weather              rain       rain       rain       rain       rain   \n",
       "day                     9          8         13         11         11   \n",
       "day_of_week        Friday    Tuesday     Sunday     Monday   Saturday   \n",
       "weekday_number          5          2          7          1          6   \n",
       "year                 2013       2013       2014       2014       2014   \n",
       "month              August    October       July     August    October   \n",
       "month_number            8         10          7          8         10   \n",
       "\n",
       "date           2015-01-18 2015-04-01 2015-08-12 2015-08-14 2015-10-25  \n",
       "precipitation        21.3        5.1        7.6       30.5        8.9  \n",
       "temp_max             13.9       12.8       28.3       18.3       19.4  \n",
       "temp_min              7.2        5.6       16.7       15.0        8.9  \n",
       "wind                  6.6        3.2        2.7        5.2        3.4  \n",
       "weather              rain       rain       rain       rain       rain  \n",
       "day                    18          1         12         14         25  \n",
       "day_of_week        Sunday  Wednesday  Wednesday     Friday     Sunday  \n",
       "weekday_number          7          3          3          5          7  \n",
       "year                 2015       2015       2015       2015       2015  \n",
       "month             January      April     August     August    October  \n",
       "month_number            1          4          8          8         10  \n",
       "\n",
       "[11 rows x 259 columns]"
      ]
     },
     "execution_count": 46,
     "metadata": {},
     "output_type": "execute_result"
    }
   ],
   "source": [
    "# Create df with only rain\n",
    "rain_df = weather[weather.weather == 'rain']\n",
    "rain_df.T"
   ]
  },
  {
   "cell_type": "code",
   "execution_count": 47,
   "id": "962ff46c",
   "metadata": {},
   "outputs": [
    {
     "data": {
      "text/plain": [
       "date\n",
       "2012-01-31    104.8\n",
       "2012-02-29     86.6\n",
       "2012-03-31    120.5\n",
       "2012-04-30     63.5\n",
       "2012-05-31     52.2\n",
       "2012-06-30     75.1\n",
       "2012-07-31     26.3\n",
       "2012-08-31      0.0\n",
       "2012-09-30      0.9\n",
       "2012-10-31    170.3\n",
       "2012-11-30    210.5\n",
       "2012-12-31    115.6\n",
       "2013-01-31    105.4\n",
       "2013-02-28     40.3\n",
       "2013-03-31     61.6\n",
       "2013-04-30      0.0\n",
       "2013-05-31      0.0\n",
       "2013-06-30      0.0\n",
       "2013-07-31      0.0\n",
       "2013-08-31      0.0\n",
       "2013-09-30      0.0\n",
       "2013-10-31      6.9\n",
       "2013-11-30      0.0\n",
       "2013-12-31      0.0\n",
       "2014-01-31      0.0\n",
       "2014-02-28      0.0\n",
       "2014-03-31      0.0\n",
       "2014-04-30      0.0\n",
       "2014-05-31      0.0\n",
       "2014-06-30      0.0\n",
       "2014-07-31      0.0\n",
       "2014-08-31      0.5\n",
       "2014-09-30      0.0\n",
       "2014-10-31      7.4\n",
       "2014-11-30      0.0\n",
       "2014-12-31      0.0\n",
       "2015-01-31     21.3\n",
       "2015-02-28      0.0\n",
       "2015-03-31      0.0\n",
       "2015-04-30      5.1\n",
       "2015-05-31      0.0\n",
       "2015-06-30      0.0\n",
       "2015-07-31      0.0\n",
       "2015-08-31     38.1\n",
       "2015-09-30      0.0\n",
       "2015-10-31      8.9\n",
       "Freq: M, Name: precipitation, dtype: float64"
      ]
     },
     "execution_count": 47,
     "metadata": {},
     "output_type": "execute_result"
    }
   ],
   "source": [
    "# Measure precipitation of Rain days resampled by month\n",
    "rain_df.resample('M').precipitation.sum()"
   ]
  },
  {
   "cell_type": "code",
   "execution_count": 48,
   "id": "2adc3393",
   "metadata": {},
   "outputs": [
    {
     "data": {
      "text/plain": [
       "month_number\n",
       "1     231.5\n",
       "2     126.9\n",
       "3     182.1\n",
       "4      68.6\n",
       "5      52.2\n",
       "6      75.1\n",
       "7      26.3\n",
       "8      38.6\n",
       "9       0.9\n",
       "10    193.5\n",
       "11    210.5\n",
       "12    115.6\n",
       "Name: precipitation, dtype: float64"
      ]
     },
     "execution_count": 48,
     "metadata": {},
     "output_type": "execute_result"
    }
   ],
   "source": [
    "# Group by the month number and take the average precipitation\n",
    "rain_df.groupby('month_number').precipitation.sum()"
   ]
  },
  {
   "cell_type": "code",
   "execution_count": 49,
   "id": "935b7c5f",
   "metadata": {},
   "outputs": [
    {
     "data": {
      "text/plain": [
       "'January'"
      ]
     },
     "execution_count": 49,
     "metadata": {},
     "output_type": "execute_result"
    }
   ],
   "source": [
    "# Group by the month and take the highest precipitation\n",
    "rain_df.groupby('month').precipitation.sum().idxmax()"
   ]
  },
  {
   "cell_type": "code",
   "execution_count": 50,
   "id": "c22e7606",
   "metadata": {
    "scrolled": true
   },
   "outputs": [
    {
     "data": {
      "text/plain": [
       "month_number\n",
       "1     35\n",
       "2     40\n",
       "3     37\n",
       "4     20\n",
       "5     16\n",
       "6     19\n",
       "7     14\n",
       "8      6\n",
       "9      4\n",
       "10    20\n",
       "11    25\n",
       "12    23\n",
       "Name: weather, dtype: int64"
      ]
     },
     "execution_count": 50,
     "metadata": {},
     "output_type": "execute_result"
    }
   ],
   "source": [
    "# Group by the month number and take the average precipitation\n",
    "rain_df.groupby('month_number').weather.count()"
   ]
  },
  {
   "cell_type": "code",
   "execution_count": 51,
   "id": "5db53e24",
   "metadata": {},
   "outputs": [
    {
     "data": {
      "text/plain": [
       "'February'"
      ]
     },
     "execution_count": 51,
     "metadata": {},
     "output_type": "execute_result"
    }
   ],
   "source": [
    "# Group by the month and take the highest count of rain days\n",
    "rain_df.groupby('month').weather.count().idxmax()"
   ]
  },
  {
   "cell_type": "markdown",
   "id": "7ec93555",
   "metadata": {},
   "source": [
    "<div class=\"alert alert-info\">\n",
    "\n",
    "\n",
    "### In which month does it rain the most?    \n",
    "#### ANSWER: That depends\n",
    "* **January** if you want the month with the highest precipitation of Rain days\n",
    "* **February** if you want the month that had the highest count of rain days\n",
    "    \n",
    "**NOTE:** The exercise counted anything with precipitation as rain. That is inaccurate since snow and other non-rain days can have moisture in the air; also the database is inaccurate because there are rain days with ZERO(0) precipitation."
   ]
  },
  {
   "cell_type": "markdown",
   "id": "928974d5",
   "metadata": {},
   "source": [
    "<div class=\"alert alert-warning\">\n",
    "\n",
    "\n",
    "## 7. Which month has the most number of days with a non-zero amount of precipitation?"
   ]
  },
  {
   "cell_type": "code",
   "execution_count": 52,
   "id": "6cfc780e",
   "metadata": {},
   "outputs": [],
   "source": [
    "# Create no zero precipitation DataFrame\n",
    "non_zero_precipitation = weather[weather.precipitation > 0]"
   ]
  },
  {
   "cell_type": "code",
   "execution_count": 53,
   "id": "4efe3351",
   "metadata": {},
   "outputs": [
    {
     "data": {
      "text/plain": [
       "precipitation         0.3\n",
       "temp_max             -1.1\n",
       "temp_min             -4.3\n",
       "wind                  0.5\n",
       "weather           drizzle\n",
       "day                     1\n",
       "day_of_week        Friday\n",
       "weekday_number          1\n",
       "year                 2012\n",
       "month               April\n",
       "month_number            1\n",
       "dtype: object"
      ]
     },
     "execution_count": 53,
     "metadata": {},
     "output_type": "execute_result"
    }
   ],
   "source": [
    "# Check that the min is not zero\n",
    "non_zero_precipitation.min()"
   ]
  },
  {
   "cell_type": "code",
   "execution_count": 54,
   "id": "c99c5b36",
   "metadata": {},
   "outputs": [],
   "source": [
    "# Change name for ease of use\n",
    "nzp = non_zero_precipitation"
   ]
  },
  {
   "cell_type": "code",
   "execution_count": 55,
   "id": "3bfc9fb1",
   "metadata": {},
   "outputs": [
    {
     "data": {
      "text/plain": [
       "date\n",
       "2012-01-31    22\n",
       "2012-02-29    19\n",
       "2012-03-31    22\n",
       "2012-04-30    17\n",
       "2012-05-31    10\n",
       "2012-06-30    14\n",
       "2012-07-31     7\n",
       "2012-08-31     0\n",
       "2012-09-30     3\n",
       "2012-10-31    16\n",
       "2012-11-30    20\n",
       "2012-12-31    27\n",
       "2013-01-31    17\n",
       "2013-02-28    18\n",
       "2013-03-31    15\n",
       "2013-04-30    16\n",
       "2013-05-31    12\n",
       "2013-06-30    10\n",
       "2013-07-31     0\n",
       "2013-08-31     9\n",
       "2013-09-30    14\n",
       "2013-10-31    12\n",
       "2013-11-30    15\n",
       "2013-12-31    14\n",
       "2014-01-31    13\n",
       "2014-02-28    19\n",
       "2014-03-31    20\n",
       "2014-04-30    13\n",
       "2014-05-31     8\n",
       "2014-06-30     9\n",
       "2014-07-31     2\n",
       "2014-08-31     7\n",
       "2014-09-30     9\n",
       "2014-10-31    19\n",
       "2014-11-30    16\n",
       "2014-12-31    15\n",
       "2015-01-31    14\n",
       "2015-02-28    17\n",
       "2015-03-31    16\n",
       "2015-04-30    13\n",
       "2015-05-31     4\n",
       "2015-06-30     4\n",
       "2015-07-31     2\n",
       "2015-08-31     6\n",
       "2015-09-30     9\n",
       "2015-10-31    14\n",
       "2015-11-30    20\n",
       "2015-12-31    25\n",
       "Freq: M, Name: precipitation, dtype: int64"
      ]
     },
     "execution_count": 55,
     "metadata": {},
     "output_type": "execute_result"
    }
   ],
   "source": [
    "# Resample by Month and Look at precipitation count\n",
    "nzp.resample('M').precipitation.count()"
   ]
  },
  {
   "cell_type": "code",
   "execution_count": 56,
   "id": "6f4fb8b6",
   "metadata": {},
   "outputs": [
    {
     "data": {
      "text/plain": [
       "month_number\n",
       "1     66\n",
       "2     73\n",
       "3     73\n",
       "4     59\n",
       "5     34\n",
       "6     37\n",
       "7     11\n",
       "8     22\n",
       "9     35\n",
       "10    61\n",
       "11    71\n",
       "12    81\n",
       "Name: precipitation, dtype: int64"
      ]
     },
     "execution_count": 56,
     "metadata": {},
     "output_type": "execute_result"
    }
   ],
   "source": [
    "# Groupby Month and Look at precipitation count\n",
    "nzp.groupby('month_number').precipitation.count()"
   ]
  },
  {
   "cell_type": "code",
   "execution_count": 57,
   "id": "4cbaa269",
   "metadata": {},
   "outputs": [
    {
     "data": {
      "text/plain": [
       "'December'"
      ]
     },
     "execution_count": 57,
     "metadata": {},
     "output_type": "execute_result"
    }
   ],
   "source": [
    "# Resample by Month, count records, return max index in Human Readable format showing only Month\n",
    "nzp.resample('M').precipitation.count().idxmax().strftime('%B')"
   ]
  },
  {
   "cell_type": "markdown",
   "id": "6bbc8ed5",
   "metadata": {},
   "source": [
    "<div class=\"alert alert-info\">\n",
    "\n",
    "\n",
    "### Which month has the most number of days with a non-zero amount of precipitation?    \n",
    "#### ANSWER: December"
   ]
  },
  {
   "cell_type": "markdown",
   "id": "3ab2e948",
   "metadata": {},
   "source": [
    "<div class=\"alert alert-success\">\n",
    "\n",
    "\n",
    "# ```flights``` dataset"
   ]
  },
  {
   "cell_type": "code",
   "execution_count": 58,
   "id": "628619b2",
   "metadata": {
    "scrolled": true
   },
   "outputs": [
    {
     "data": {
      "text/html": [
       "<div>\n",
       "<style scoped>\n",
       "    .dataframe tbody tr th:only-of-type {\n",
       "        vertical-align: middle;\n",
       "    }\n",
       "\n",
       "    .dataframe tbody tr th {\n",
       "        vertical-align: top;\n",
       "    }\n",
       "\n",
       "    .dataframe thead th {\n",
       "        text-align: right;\n",
       "    }\n",
       "</style>\n",
       "<table border=\"1\" class=\"dataframe\">\n",
       "  <thead>\n",
       "    <tr style=\"text-align: right;\">\n",
       "      <th></th>\n",
       "      <th>date</th>\n",
       "      <th>delay</th>\n",
       "      <th>distance</th>\n",
       "      <th>origin</th>\n",
       "      <th>destination</th>\n",
       "    </tr>\n",
       "  </thead>\n",
       "  <tbody>\n",
       "    <tr>\n",
       "      <th>0</th>\n",
       "      <td>2001-01-13 14:56:00</td>\n",
       "      <td>32</td>\n",
       "      <td>417</td>\n",
       "      <td>SAN</td>\n",
       "      <td>SJC</td>\n",
       "    </tr>\n",
       "    <tr>\n",
       "      <th>1</th>\n",
       "      <td>2001-01-31 16:40:00</td>\n",
       "      <td>-5</td>\n",
       "      <td>1093</td>\n",
       "      <td>FLL</td>\n",
       "      <td>ISP</td>\n",
       "    </tr>\n",
       "    <tr>\n",
       "      <th>2</th>\n",
       "      <td>2001-02-11 18:39:00</td>\n",
       "      <td>3</td>\n",
       "      <td>293</td>\n",
       "      <td>LBB</td>\n",
       "      <td>DAL</td>\n",
       "    </tr>\n",
       "    <tr>\n",
       "      <th>3</th>\n",
       "      <td>2001-01-10 21:00:00</td>\n",
       "      <td>-15</td>\n",
       "      <td>550</td>\n",
       "      <td>MSY</td>\n",
       "      <td>MCO</td>\n",
       "    </tr>\n",
       "    <tr>\n",
       "      <th>4</th>\n",
       "      <td>2001-03-30 21:45:00</td>\n",
       "      <td>-2</td>\n",
       "      <td>229</td>\n",
       "      <td>STL</td>\n",
       "      <td>IND</td>\n",
       "    </tr>\n",
       "  </tbody>\n",
       "</table>\n",
       "</div>"
      ],
      "text/plain": [
       "                 date  delay  distance origin destination\n",
       "0 2001-01-13 14:56:00     32       417    SAN         SJC\n",
       "1 2001-01-31 16:40:00     -5      1093    FLL         ISP\n",
       "2 2001-02-11 18:39:00      3       293    LBB         DAL\n",
       "3 2001-01-10 21:00:00    -15       550    MSY         MCO\n",
       "4 2001-03-30 21:45:00     -2       229    STL         IND"
      ]
     },
     "execution_count": 58,
     "metadata": {},
     "output_type": "execute_result"
    }
   ],
   "source": [
    "flights = data.flights_20k()\n",
    "flights.head()"
   ]
  },
  {
   "cell_type": "code",
   "execution_count": 59,
   "id": "31e8b12f",
   "metadata": {
    "scrolled": false
   },
   "outputs": [
    {
     "name": "stdout",
     "output_type": "stream",
     "text": [
      "<class 'pandas.core.frame.DataFrame'>\n",
      "RangeIndex: 20000 entries, 0 to 19999\n",
      "Data columns (total 5 columns):\n",
      " #   Column       Non-Null Count  Dtype         \n",
      "---  ------       --------------  -----         \n",
      " 0   date         20000 non-null  datetime64[ns]\n",
      " 1   delay        20000 non-null  int64         \n",
      " 2   distance     20000 non-null  int64         \n",
      " 3   origin       20000 non-null  object        \n",
      " 4   destination  20000 non-null  object        \n",
      "dtypes: datetime64[ns](1), int64(2), object(2)\n",
      "memory usage: 781.4+ KB\n"
     ]
    }
   ],
   "source": [
    "# Ensure dtype is datetime64[ns] \n",
    "flights.info()"
   ]
  },
  {
   "cell_type": "code",
   "execution_count": 60,
   "id": "5e677e2c",
   "metadata": {
    "scrolled": true
   },
   "outputs": [
    {
     "data": {
      "text/plain": [
       "date           0\n",
       "delay          0\n",
       "distance       0\n",
       "origin         0\n",
       "destination    0\n",
       "dtype: int64"
      ]
     },
     "execution_count": 60,
     "metadata": {},
     "output_type": "execute_result"
    }
   ],
   "source": [
    "# Check for missing data\n",
    "flights.isnull().sum()"
   ]
  },
  {
   "cell_type": "code",
   "execution_count": 61,
   "id": "07dd6994",
   "metadata": {
    "scrolled": true
   },
   "outputs": [],
   "source": [
    "# Resample by the Day, Month, Year BEFORE RESET INDEX\n",
    "flights['day'] = flights.date.dt.day\n",
    "flights['day_of_week'] = flights.date.dt.day_name()\n",
    "flights['weekday_number'] = flights.date.dt.day_of_week+1\n",
    "flights['year'] = flights.date.dt.year\n",
    "flights['month'] = flights.date.dt.month_name()\n",
    "flights['month_number'] = flights.date.dt.month\n",
    "flights['hour'] = flights.date.dt.hour\n",
    "flights['minute'] = flights.date.dt.minute"
   ]
  },
  {
   "cell_type": "code",
   "execution_count": 62,
   "id": "269a721e",
   "metadata": {},
   "outputs": [
    {
     "data": {
      "text/html": [
       "<div>\n",
       "<style scoped>\n",
       "    .dataframe tbody tr th:only-of-type {\n",
       "        vertical-align: middle;\n",
       "    }\n",
       "\n",
       "    .dataframe tbody tr th {\n",
       "        vertical-align: top;\n",
       "    }\n",
       "\n",
       "    .dataframe thead th {\n",
       "        text-align: right;\n",
       "    }\n",
       "</style>\n",
       "<table border=\"1\" class=\"dataframe\">\n",
       "  <thead>\n",
       "    <tr style=\"text-align: right;\">\n",
       "      <th>date</th>\n",
       "      <th>2001-01-01 00:01:00</th>\n",
       "      <th>2001-01-01 06:20:00</th>\n",
       "      <th>2001-01-01 06:30:00</th>\n",
       "      <th>2001-01-01 07:00:00</th>\n",
       "      <th>2001-01-01 07:00:00</th>\n",
       "    </tr>\n",
       "  </thead>\n",
       "  <tbody>\n",
       "    <tr>\n",
       "      <th>delay</th>\n",
       "      <td>14</td>\n",
       "      <td>0</td>\n",
       "      <td>-8</td>\n",
       "      <td>-10</td>\n",
       "      <td>0</td>\n",
       "    </tr>\n",
       "    <tr>\n",
       "      <th>distance</th>\n",
       "      <td>405</td>\n",
       "      <td>491</td>\n",
       "      <td>251</td>\n",
       "      <td>361</td>\n",
       "      <td>303</td>\n",
       "    </tr>\n",
       "    <tr>\n",
       "      <th>origin</th>\n",
       "      <td>MCI</td>\n",
       "      <td>BNA</td>\n",
       "      <td>MDW</td>\n",
       "      <td>OAK</td>\n",
       "      <td>MSY</td>\n",
       "    </tr>\n",
       "    <tr>\n",
       "      <th>destination</th>\n",
       "      <td>MDW</td>\n",
       "      <td>MCI</td>\n",
       "      <td>STL</td>\n",
       "      <td>ONT</td>\n",
       "      <td>HOU</td>\n",
       "    </tr>\n",
       "    <tr>\n",
       "      <th>day</th>\n",
       "      <td>1</td>\n",
       "      <td>1</td>\n",
       "      <td>1</td>\n",
       "      <td>1</td>\n",
       "      <td>1</td>\n",
       "    </tr>\n",
       "    <tr>\n",
       "      <th>day_of_week</th>\n",
       "      <td>Monday</td>\n",
       "      <td>Monday</td>\n",
       "      <td>Monday</td>\n",
       "      <td>Monday</td>\n",
       "      <td>Monday</td>\n",
       "    </tr>\n",
       "    <tr>\n",
       "      <th>weekday_number</th>\n",
       "      <td>1</td>\n",
       "      <td>1</td>\n",
       "      <td>1</td>\n",
       "      <td>1</td>\n",
       "      <td>1</td>\n",
       "    </tr>\n",
       "    <tr>\n",
       "      <th>year</th>\n",
       "      <td>2001</td>\n",
       "      <td>2001</td>\n",
       "      <td>2001</td>\n",
       "      <td>2001</td>\n",
       "      <td>2001</td>\n",
       "    </tr>\n",
       "    <tr>\n",
       "      <th>month</th>\n",
       "      <td>January</td>\n",
       "      <td>January</td>\n",
       "      <td>January</td>\n",
       "      <td>January</td>\n",
       "      <td>January</td>\n",
       "    </tr>\n",
       "    <tr>\n",
       "      <th>month_number</th>\n",
       "      <td>1</td>\n",
       "      <td>1</td>\n",
       "      <td>1</td>\n",
       "      <td>1</td>\n",
       "      <td>1</td>\n",
       "    </tr>\n",
       "    <tr>\n",
       "      <th>hour</th>\n",
       "      <td>0</td>\n",
       "      <td>6</td>\n",
       "      <td>6</td>\n",
       "      <td>7</td>\n",
       "      <td>7</td>\n",
       "    </tr>\n",
       "    <tr>\n",
       "      <th>minute</th>\n",
       "      <td>1</td>\n",
       "      <td>20</td>\n",
       "      <td>30</td>\n",
       "      <td>0</td>\n",
       "      <td>0</td>\n",
       "    </tr>\n",
       "  </tbody>\n",
       "</table>\n",
       "</div>"
      ],
      "text/plain": [
       "date           2001-01-01 00:01:00 2001-01-01 06:20:00 2001-01-01 06:30:00  \\\n",
       "delay                           14                   0                  -8   \n",
       "distance                       405                 491                 251   \n",
       "origin                         MCI                 BNA                 MDW   \n",
       "destination                    MDW                 MCI                 STL   \n",
       "day                              1                   1                   1   \n",
       "day_of_week                 Monday              Monday              Monday   \n",
       "weekday_number                   1                   1                   1   \n",
       "year                          2001                2001                2001   \n",
       "month                      January             January             January   \n",
       "month_number                     1                   1                   1   \n",
       "hour                             0                   6                   6   \n",
       "minute                           1                  20                  30   \n",
       "\n",
       "date           2001-01-01 07:00:00 2001-01-01 07:00:00  \n",
       "delay                          -10                   0  \n",
       "distance                       361                 303  \n",
       "origin                         OAK                 MSY  \n",
       "destination                    ONT                 HOU  \n",
       "day                              1                   1  \n",
       "day_of_week                 Monday              Monday  \n",
       "weekday_number                   1                   1  \n",
       "year                          2001                2001  \n",
       "month                      January             January  \n",
       "month_number                     1                   1  \n",
       "hour                             7                   7  \n",
       "minute                           0                   0  "
      ]
     },
     "execution_count": 62,
     "metadata": {},
     "output_type": "execute_result"
    }
   ],
   "source": [
    "#### Reset & Sort index to date\n",
    "flights = flights.set_index('date').sort_index()\n",
    "flights.head().T"
   ]
  },
  {
   "cell_type": "markdown",
   "id": "e31e73a0",
   "metadata": {},
   "source": [
    "## Use the above dataset for the following exercises:"
   ]
  },
  {
   "cell_type": "markdown",
   "id": "4a064d8f",
   "metadata": {},
   "source": [
    "<div class=\"alert alert-warning\">\n",
    "\n",
    "    \n",
    "## 1. Convert any negative delays to 0."
   ]
  },
  {
   "cell_type": "code",
   "execution_count": 63,
   "id": "b2f24078",
   "metadata": {},
   "outputs": [],
   "source": [
    "# Create new ccolumn with delays less than zero converted to zero\n",
    "flights['delay_conversion'] = np.where(flights['delay'] < 0, 0, flights['delay'])"
   ]
  },
  {
   "cell_type": "code",
   "execution_count": 64,
   "id": "d8450c71",
   "metadata": {},
   "outputs": [
    {
     "data": {
      "text/html": [
       "<div>\n",
       "<style scoped>\n",
       "    .dataframe tbody tr th:only-of-type {\n",
       "        vertical-align: middle;\n",
       "    }\n",
       "\n",
       "    .dataframe tbody tr th {\n",
       "        vertical-align: top;\n",
       "    }\n",
       "\n",
       "    .dataframe thead th {\n",
       "        text-align: right;\n",
       "    }\n",
       "</style>\n",
       "<table border=\"1\" class=\"dataframe\">\n",
       "  <thead>\n",
       "    <tr style=\"text-align: right;\">\n",
       "      <th>date</th>\n",
       "      <th>2001-01-01 00:01:00</th>\n",
       "      <th>2001-01-01 06:20:00</th>\n",
       "      <th>2001-01-01 06:30:00</th>\n",
       "      <th>2001-01-01 07:00:00</th>\n",
       "      <th>2001-01-01 07:00:00</th>\n",
       "      <th>2001-01-01 07:05:00</th>\n",
       "      <th>2001-01-01 07:05:00</th>\n",
       "      <th>2001-01-01 07:15:00</th>\n",
       "      <th>2001-01-01 07:15:00</th>\n",
       "      <th>2001-01-01 07:45:00</th>\n",
       "      <th>...</th>\n",
       "      <th>2001-03-31 20:05:00</th>\n",
       "      <th>2001-03-31 20:13:00</th>\n",
       "      <th>2001-03-31 20:30:00</th>\n",
       "      <th>2001-03-31 20:52:00</th>\n",
       "      <th>2001-03-31 20:57:00</th>\n",
       "      <th>2001-03-31 21:02:00</th>\n",
       "      <th>2001-03-31 21:05:00</th>\n",
       "      <th>2001-03-31 21:05:00</th>\n",
       "      <th>2001-03-31 21:30:00</th>\n",
       "      <th>2001-03-31 21:30:00</th>\n",
       "    </tr>\n",
       "  </thead>\n",
       "  <tbody>\n",
       "    <tr>\n",
       "      <th>delay</th>\n",
       "      <td>14</td>\n",
       "      <td>0</td>\n",
       "      <td>-8</td>\n",
       "      <td>-10</td>\n",
       "      <td>0</td>\n",
       "      <td>-15</td>\n",
       "      <td>13</td>\n",
       "      <td>24</td>\n",
       "      <td>-25</td>\n",
       "      <td>-6</td>\n",
       "      <td>...</td>\n",
       "      <td>-12</td>\n",
       "      <td>42</td>\n",
       "      <td>-11</td>\n",
       "      <td>45</td>\n",
       "      <td>51</td>\n",
       "      <td>26</td>\n",
       "      <td>-5</td>\n",
       "      <td>-1</td>\n",
       "      <td>30</td>\n",
       "      <td>-11</td>\n",
       "    </tr>\n",
       "    <tr>\n",
       "      <th>distance</th>\n",
       "      <td>405</td>\n",
       "      <td>491</td>\n",
       "      <td>251</td>\n",
       "      <td>361</td>\n",
       "      <td>303</td>\n",
       "      <td>677</td>\n",
       "      <td>365</td>\n",
       "      <td>938</td>\n",
       "      <td>2106</td>\n",
       "      <td>904</td>\n",
       "      <td>...</td>\n",
       "      <td>621</td>\n",
       "      <td>174</td>\n",
       "      <td>938</td>\n",
       "      <td>487</td>\n",
       "      <td>787</td>\n",
       "      <td>303</td>\n",
       "      <td>318</td>\n",
       "      <td>451</td>\n",
       "      <td>174</td>\n",
       "      <td>495</td>\n",
       "    </tr>\n",
       "    <tr>\n",
       "      <th>origin</th>\n",
       "      <td>MCI</td>\n",
       "      <td>BNA</td>\n",
       "      <td>MDW</td>\n",
       "      <td>OAK</td>\n",
       "      <td>MSY</td>\n",
       "      <td>LAX</td>\n",
       "      <td>JAX</td>\n",
       "      <td>MHT</td>\n",
       "      <td>BWI</td>\n",
       "      <td>RDU</td>\n",
       "      <td>...</td>\n",
       "      <td>PHX</td>\n",
       "      <td>PBI</td>\n",
       "      <td>BNA</td>\n",
       "      <td>LAS</td>\n",
       "      <td>BWI</td>\n",
       "      <td>MSY</td>\n",
       "      <td>FLL</td>\n",
       "      <td>MCI</td>\n",
       "      <td>TPA</td>\n",
       "      <td>BWI</td>\n",
       "    </tr>\n",
       "    <tr>\n",
       "      <th>destination</th>\n",
       "      <td>MDW</td>\n",
       "      <td>MCI</td>\n",
       "      <td>STL</td>\n",
       "      <td>ONT</td>\n",
       "      <td>HOU</td>\n",
       "      <td>ABQ</td>\n",
       "      <td>BHM</td>\n",
       "      <td>BNA</td>\n",
       "      <td>LAS</td>\n",
       "      <td>MCI</td>\n",
       "      <td>...</td>\n",
       "      <td>SJC</td>\n",
       "      <td>TPA</td>\n",
       "      <td>MHT</td>\n",
       "      <td>ABQ</td>\n",
       "      <td>MCO</td>\n",
       "      <td>HOU</td>\n",
       "      <td>JAX</td>\n",
       "      <td>IND</td>\n",
       "      <td>PBI</td>\n",
       "      <td>SDF</td>\n",
       "    </tr>\n",
       "    <tr>\n",
       "      <th>day</th>\n",
       "      <td>1</td>\n",
       "      <td>1</td>\n",
       "      <td>1</td>\n",
       "      <td>1</td>\n",
       "      <td>1</td>\n",
       "      <td>1</td>\n",
       "      <td>1</td>\n",
       "      <td>1</td>\n",
       "      <td>1</td>\n",
       "      <td>1</td>\n",
       "      <td>...</td>\n",
       "      <td>31</td>\n",
       "      <td>31</td>\n",
       "      <td>31</td>\n",
       "      <td>31</td>\n",
       "      <td>31</td>\n",
       "      <td>31</td>\n",
       "      <td>31</td>\n",
       "      <td>31</td>\n",
       "      <td>31</td>\n",
       "      <td>31</td>\n",
       "    </tr>\n",
       "    <tr>\n",
       "      <th>day_of_week</th>\n",
       "      <td>Monday</td>\n",
       "      <td>Monday</td>\n",
       "      <td>Monday</td>\n",
       "      <td>Monday</td>\n",
       "      <td>Monday</td>\n",
       "      <td>Monday</td>\n",
       "      <td>Monday</td>\n",
       "      <td>Monday</td>\n",
       "      <td>Monday</td>\n",
       "      <td>Monday</td>\n",
       "      <td>...</td>\n",
       "      <td>Saturday</td>\n",
       "      <td>Saturday</td>\n",
       "      <td>Saturday</td>\n",
       "      <td>Saturday</td>\n",
       "      <td>Saturday</td>\n",
       "      <td>Saturday</td>\n",
       "      <td>Saturday</td>\n",
       "      <td>Saturday</td>\n",
       "      <td>Saturday</td>\n",
       "      <td>Saturday</td>\n",
       "    </tr>\n",
       "    <tr>\n",
       "      <th>weekday_number</th>\n",
       "      <td>1</td>\n",
       "      <td>1</td>\n",
       "      <td>1</td>\n",
       "      <td>1</td>\n",
       "      <td>1</td>\n",
       "      <td>1</td>\n",
       "      <td>1</td>\n",
       "      <td>1</td>\n",
       "      <td>1</td>\n",
       "      <td>1</td>\n",
       "      <td>...</td>\n",
       "      <td>6</td>\n",
       "      <td>6</td>\n",
       "      <td>6</td>\n",
       "      <td>6</td>\n",
       "      <td>6</td>\n",
       "      <td>6</td>\n",
       "      <td>6</td>\n",
       "      <td>6</td>\n",
       "      <td>6</td>\n",
       "      <td>6</td>\n",
       "    </tr>\n",
       "    <tr>\n",
       "      <th>year</th>\n",
       "      <td>2001</td>\n",
       "      <td>2001</td>\n",
       "      <td>2001</td>\n",
       "      <td>2001</td>\n",
       "      <td>2001</td>\n",
       "      <td>2001</td>\n",
       "      <td>2001</td>\n",
       "      <td>2001</td>\n",
       "      <td>2001</td>\n",
       "      <td>2001</td>\n",
       "      <td>...</td>\n",
       "      <td>2001</td>\n",
       "      <td>2001</td>\n",
       "      <td>2001</td>\n",
       "      <td>2001</td>\n",
       "      <td>2001</td>\n",
       "      <td>2001</td>\n",
       "      <td>2001</td>\n",
       "      <td>2001</td>\n",
       "      <td>2001</td>\n",
       "      <td>2001</td>\n",
       "    </tr>\n",
       "    <tr>\n",
       "      <th>month</th>\n",
       "      <td>January</td>\n",
       "      <td>January</td>\n",
       "      <td>January</td>\n",
       "      <td>January</td>\n",
       "      <td>January</td>\n",
       "      <td>January</td>\n",
       "      <td>January</td>\n",
       "      <td>January</td>\n",
       "      <td>January</td>\n",
       "      <td>January</td>\n",
       "      <td>...</td>\n",
       "      <td>March</td>\n",
       "      <td>March</td>\n",
       "      <td>March</td>\n",
       "      <td>March</td>\n",
       "      <td>March</td>\n",
       "      <td>March</td>\n",
       "      <td>March</td>\n",
       "      <td>March</td>\n",
       "      <td>March</td>\n",
       "      <td>March</td>\n",
       "    </tr>\n",
       "    <tr>\n",
       "      <th>month_number</th>\n",
       "      <td>1</td>\n",
       "      <td>1</td>\n",
       "      <td>1</td>\n",
       "      <td>1</td>\n",
       "      <td>1</td>\n",
       "      <td>1</td>\n",
       "      <td>1</td>\n",
       "      <td>1</td>\n",
       "      <td>1</td>\n",
       "      <td>1</td>\n",
       "      <td>...</td>\n",
       "      <td>3</td>\n",
       "      <td>3</td>\n",
       "      <td>3</td>\n",
       "      <td>3</td>\n",
       "      <td>3</td>\n",
       "      <td>3</td>\n",
       "      <td>3</td>\n",
       "      <td>3</td>\n",
       "      <td>3</td>\n",
       "      <td>3</td>\n",
       "    </tr>\n",
       "    <tr>\n",
       "      <th>hour</th>\n",
       "      <td>0</td>\n",
       "      <td>6</td>\n",
       "      <td>6</td>\n",
       "      <td>7</td>\n",
       "      <td>7</td>\n",
       "      <td>7</td>\n",
       "      <td>7</td>\n",
       "      <td>7</td>\n",
       "      <td>7</td>\n",
       "      <td>7</td>\n",
       "      <td>...</td>\n",
       "      <td>20</td>\n",
       "      <td>20</td>\n",
       "      <td>20</td>\n",
       "      <td>20</td>\n",
       "      <td>20</td>\n",
       "      <td>21</td>\n",
       "      <td>21</td>\n",
       "      <td>21</td>\n",
       "      <td>21</td>\n",
       "      <td>21</td>\n",
       "    </tr>\n",
       "    <tr>\n",
       "      <th>minute</th>\n",
       "      <td>1</td>\n",
       "      <td>20</td>\n",
       "      <td>30</td>\n",
       "      <td>0</td>\n",
       "      <td>0</td>\n",
       "      <td>5</td>\n",
       "      <td>5</td>\n",
       "      <td>15</td>\n",
       "      <td>15</td>\n",
       "      <td>45</td>\n",
       "      <td>...</td>\n",
       "      <td>5</td>\n",
       "      <td>13</td>\n",
       "      <td>30</td>\n",
       "      <td>52</td>\n",
       "      <td>57</td>\n",
       "      <td>2</td>\n",
       "      <td>5</td>\n",
       "      <td>5</td>\n",
       "      <td>30</td>\n",
       "      <td>30</td>\n",
       "    </tr>\n",
       "    <tr>\n",
       "      <th>delay_conversion</th>\n",
       "      <td>14</td>\n",
       "      <td>0</td>\n",
       "      <td>0</td>\n",
       "      <td>0</td>\n",
       "      <td>0</td>\n",
       "      <td>0</td>\n",
       "      <td>13</td>\n",
       "      <td>24</td>\n",
       "      <td>0</td>\n",
       "      <td>0</td>\n",
       "      <td>...</td>\n",
       "      <td>0</td>\n",
       "      <td>42</td>\n",
       "      <td>0</td>\n",
       "      <td>45</td>\n",
       "      <td>51</td>\n",
       "      <td>26</td>\n",
       "      <td>0</td>\n",
       "      <td>0</td>\n",
       "      <td>30</td>\n",
       "      <td>0</td>\n",
       "    </tr>\n",
       "  </tbody>\n",
       "</table>\n",
       "<p>13 rows × 20000 columns</p>\n",
       "</div>"
      ],
      "text/plain": [
       "date             2001-01-01 00:01:00 2001-01-01 06:20:00 2001-01-01 06:30:00  \\\n",
       "delay                             14                   0                  -8   \n",
       "distance                         405                 491                 251   \n",
       "origin                           MCI                 BNA                 MDW   \n",
       "destination                      MDW                 MCI                 STL   \n",
       "day                                1                   1                   1   \n",
       "day_of_week                   Monday              Monday              Monday   \n",
       "weekday_number                     1                   1                   1   \n",
       "year                            2001                2001                2001   \n",
       "month                        January             January             January   \n",
       "month_number                       1                   1                   1   \n",
       "hour                               0                   6                   6   \n",
       "minute                             1                  20                  30   \n",
       "delay_conversion                  14                   0                   0   \n",
       "\n",
       "date             2001-01-01 07:00:00 2001-01-01 07:00:00 2001-01-01 07:05:00  \\\n",
       "delay                            -10                   0                 -15   \n",
       "distance                         361                 303                 677   \n",
       "origin                           OAK                 MSY                 LAX   \n",
       "destination                      ONT                 HOU                 ABQ   \n",
       "day                                1                   1                   1   \n",
       "day_of_week                   Monday              Monday              Monday   \n",
       "weekday_number                     1                   1                   1   \n",
       "year                            2001                2001                2001   \n",
       "month                        January             January             January   \n",
       "month_number                       1                   1                   1   \n",
       "hour                               7                   7                   7   \n",
       "minute                             0                   0                   5   \n",
       "delay_conversion                   0                   0                   0   \n",
       "\n",
       "date             2001-01-01 07:05:00 2001-01-01 07:15:00 2001-01-01 07:15:00  \\\n",
       "delay                             13                  24                 -25   \n",
       "distance                         365                 938                2106   \n",
       "origin                           JAX                 MHT                 BWI   \n",
       "destination                      BHM                 BNA                 LAS   \n",
       "day                                1                   1                   1   \n",
       "day_of_week                   Monday              Monday              Monday   \n",
       "weekday_number                     1                   1                   1   \n",
       "year                            2001                2001                2001   \n",
       "month                        January             January             January   \n",
       "month_number                       1                   1                   1   \n",
       "hour                               7                   7                   7   \n",
       "minute                             5                  15                  15   \n",
       "delay_conversion                  13                  24                   0   \n",
       "\n",
       "date             2001-01-01 07:45:00  ... 2001-03-31 20:05:00  \\\n",
       "delay                             -6  ...                 -12   \n",
       "distance                         904  ...                 621   \n",
       "origin                           RDU  ...                 PHX   \n",
       "destination                      MCI  ...                 SJC   \n",
       "day                                1  ...                  31   \n",
       "day_of_week                   Monday  ...            Saturday   \n",
       "weekday_number                     1  ...                   6   \n",
       "year                            2001  ...                2001   \n",
       "month                        January  ...               March   \n",
       "month_number                       1  ...                   3   \n",
       "hour                               7  ...                  20   \n",
       "minute                            45  ...                   5   \n",
       "delay_conversion                   0  ...                   0   \n",
       "\n",
       "date             2001-03-31 20:13:00 2001-03-31 20:30:00 2001-03-31 20:52:00  \\\n",
       "delay                             42                 -11                  45   \n",
       "distance                         174                 938                 487   \n",
       "origin                           PBI                 BNA                 LAS   \n",
       "destination                      TPA                 MHT                 ABQ   \n",
       "day                               31                  31                  31   \n",
       "day_of_week                 Saturday            Saturday            Saturday   \n",
       "weekday_number                     6                   6                   6   \n",
       "year                            2001                2001                2001   \n",
       "month                          March               March               March   \n",
       "month_number                       3                   3                   3   \n",
       "hour                              20                  20                  20   \n",
       "minute                            13                  30                  52   \n",
       "delay_conversion                  42                   0                  45   \n",
       "\n",
       "date             2001-03-31 20:57:00 2001-03-31 21:02:00 2001-03-31 21:05:00  \\\n",
       "delay                             51                  26                  -5   \n",
       "distance                         787                 303                 318   \n",
       "origin                           BWI                 MSY                 FLL   \n",
       "destination                      MCO                 HOU                 JAX   \n",
       "day                               31                  31                  31   \n",
       "day_of_week                 Saturday            Saturday            Saturday   \n",
       "weekday_number                     6                   6                   6   \n",
       "year                            2001                2001                2001   \n",
       "month                          March               March               March   \n",
       "month_number                       3                   3                   3   \n",
       "hour                              20                  21                  21   \n",
       "minute                            57                   2                   5   \n",
       "delay_conversion                  51                  26                   0   \n",
       "\n",
       "date             2001-03-31 21:05:00 2001-03-31 21:30:00 2001-03-31 21:30:00  \n",
       "delay                             -1                  30                 -11  \n",
       "distance                         451                 174                 495  \n",
       "origin                           MCI                 TPA                 BWI  \n",
       "destination                      IND                 PBI                 SDF  \n",
       "day                               31                  31                  31  \n",
       "day_of_week                 Saturday            Saturday            Saturday  \n",
       "weekday_number                     6                   6                   6  \n",
       "year                            2001                2001                2001  \n",
       "month                          March               March               March  \n",
       "month_number                       3                   3                   3  \n",
       "hour                              21                  21                  21  \n",
       "minute                             5                  30                  30  \n",
       "delay_conversion                   0                  30                   0  \n",
       "\n",
       "[13 rows x 20000 columns]"
      ]
     },
     "execution_count": 64,
     "metadata": {},
     "output_type": "execute_result"
    }
   ],
   "source": [
    "# Check Work\n",
    "flights.T"
   ]
  },
  {
   "cell_type": "code",
   "execution_count": 81,
   "id": "6d069c6f",
   "metadata": {},
   "outputs": [
    {
     "data": {
      "text/plain": [
       "array([ 0,  6,  7,  8,  9, 10, 11, 12, 13, 14, 15, 16, 17, 18, 19, 20, 21,\n",
       "       22,  3,  5, 23,  1])"
      ]
     },
     "execution_count": 81,
     "metadata": {},
     "output_type": "execute_result"
    }
   ],
   "source": [
    "# Check only 24 hours in day\n",
    "flights.hour.unique()"
   ]
  },
  {
   "cell_type": "markdown",
   "id": "35568593",
   "metadata": {},
   "source": [
    "<div class=\"alert alert-warning\">\n",
    "\n",
    "    \n",
    "## 2. Which hour of the day has the highest average delay?"
   ]
  },
  {
   "cell_type": "code",
   "execution_count": 85,
   "id": "01492d7c",
   "metadata": {},
   "outputs": [
    {
     "data": {
      "text/plain": [
       "'03 hour of the day has the highest average delay'"
      ]
     },
     "execution_count": 85,
     "metadata": {},
     "output_type": "execute_result"
    }
   ],
   "source": [
    "# Resample by Hour, average the delay, return max index and display Hour\n",
    "flights.resample('H').delay_conversion.mean().idxmax().strftime('%H hour of the day has the highest average delay')"
   ]
  },
  {
   "cell_type": "markdown",
   "id": "019b9906",
   "metadata": {},
   "source": [
    "<div class=\"alert alert-warning\">\n",
    "\n",
    "    \n",
    "## 3. Does the day of the week make a difference in the delay amount?"
   ]
  },
  {
   "cell_type": "code",
   "execution_count": 92,
   "id": "c9fcb636",
   "metadata": {},
   "outputs": [
    {
     "data": {
      "text/plain": [
       "weekday_number\n",
       "1     7.165772\n",
       "2     9.410866\n",
       "3    11.032478\n",
       "4    12.821322\n",
       "5    17.757596\n",
       "6     8.431498\n",
       "7    10.413542\n",
       "Name: delay_conversion, dtype: float64"
      ]
     },
     "execution_count": 92,
     "metadata": {},
     "output_type": "execute_result"
    }
   ],
   "source": [
    "# Groupby weekday number, average delay, displays in numerical order starting with MON as 1\n",
    "flights.groupby('weekday_number').delay_conversion.mean()"
   ]
  },
  {
   "cell_type": "code",
   "execution_count": 91,
   "id": "4e204f0b",
   "metadata": {},
   "outputs": [
    {
     "data": {
      "text/plain": [
       "'Friday'"
      ]
     },
     "execution_count": 91,
     "metadata": {},
     "output_type": "execute_result"
    }
   ],
   "source": [
    "# Groupby day, average delay, show max index to get groupby day\n",
    "flights.groupby('day_of_week').delay_conversion.mean().idxmax()"
   ]
  },
  {
   "cell_type": "code",
   "execution_count": 93,
   "id": "974e8021",
   "metadata": {},
   "outputs": [
    {
     "data": {
      "text/plain": [
       "'Friday has significantly longer delays than the rest of the week'"
      ]
     },
     "execution_count": 93,
     "metadata": {},
     "output_type": "execute_result"
    }
   ],
   "source": [
    "# Use resample to allow string of time method to display day from max index with custom statement for clean answer \n",
    "flights.resample('D').delay_conversion.mean().idxmax().strftime('%A has significantly longer delays than the rest of the week')"
   ]
  },
  {
   "cell_type": "markdown",
   "id": "7f35d86b",
   "metadata": {},
   "source": [
    "<div class=\"alert alert-warning\">\n",
    "\n",
    "    \n",
    "## 4. Does the month make a difference in the delay amount?"
   ]
  },
  {
   "cell_type": "code",
   "execution_count": 96,
   "id": "c5de3d3a",
   "metadata": {
    "scrolled": false
   },
   "outputs": [
    {
     "data": {
      "text/plain": [
       "month_number\n",
       "1    11.301592\n",
       "2    12.306106\n",
       "3     9.875287\n",
       "Name: delay_conversion, dtype: float64"
      ]
     },
     "execution_count": 96,
     "metadata": {},
     "output_type": "execute_result"
    }
   ],
   "source": [
    "# Groupby Month number, average delay, displays in numerical order starting with JAN as 1\n",
    "flights.groupby('month_number').delay_conversion.mean()"
   ]
  },
  {
   "cell_type": "code",
   "execution_count": 98,
   "id": "889c959f",
   "metadata": {},
   "outputs": [
    {
     "data": {
      "text/plain": [
       "'February has longer delays than the rest of the year'"
      ]
     },
     "execution_count": 98,
     "metadata": {},
     "output_type": "execute_result"
    }
   ],
   "source": [
    "# Use resample to allow string of time method to display day from max index with custom statement for clean answer \n",
    "flights.resample('M').delay_conversion.mean().idxmax().strftime('%B has longer delays than the rest of the year')"
   ]
  },
  {
   "cell_type": "markdown",
   "id": "79286d8a",
   "metadata": {},
   "source": [
    "<div class=\"alert alert-info\">\n",
    "\n",
    "\n",
    "#### ANSWER: February\n",
    "* Only three months of the year are displaying delays; FEB, MAR, APR\n",
    "* Although FEB only shows a slightly higher delay it has fewer days which carries weight and may need to be evaluated further"
   ]
  },
  {
   "cell_type": "markdown",
   "id": "45c3ff59",
   "metadata": {},
   "source": [
    "<div class=\"alert alert-danger\">\n",
    "\n",
    "    \n",
    "# Bonus"
   ]
  },
  {
   "cell_type": "markdown",
   "id": "41f9f8ca",
   "metadata": {},
   "source": [
    "<div class=\"alert alert-success\">\n",
    "\n",
    "\n",
    "# ```iowa``` dataset"
   ]
  },
  {
   "cell_type": "code",
   "execution_count": 99,
   "id": "1550f5d8",
   "metadata": {},
   "outputs": [
    {
     "data": {
      "text/html": [
       "<div>\n",
       "<style scoped>\n",
       "    .dataframe tbody tr th:only-of-type {\n",
       "        vertical-align: middle;\n",
       "    }\n",
       "\n",
       "    .dataframe tbody tr th {\n",
       "        vertical-align: top;\n",
       "    }\n",
       "\n",
       "    .dataframe thead th {\n",
       "        text-align: right;\n",
       "    }\n",
       "</style>\n",
       "<table border=\"1\" class=\"dataframe\">\n",
       "  <thead>\n",
       "    <tr style=\"text-align: right;\">\n",
       "      <th></th>\n",
       "      <th>year</th>\n",
       "      <th>source</th>\n",
       "      <th>net_generation</th>\n",
       "    </tr>\n",
       "  </thead>\n",
       "  <tbody>\n",
       "    <tr>\n",
       "      <th>0</th>\n",
       "      <td>2001-01-01</td>\n",
       "      <td>Fossil Fuels</td>\n",
       "      <td>35361</td>\n",
       "    </tr>\n",
       "    <tr>\n",
       "      <th>1</th>\n",
       "      <td>2002-01-01</td>\n",
       "      <td>Fossil Fuels</td>\n",
       "      <td>35991</td>\n",
       "    </tr>\n",
       "    <tr>\n",
       "      <th>2</th>\n",
       "      <td>2003-01-01</td>\n",
       "      <td>Fossil Fuels</td>\n",
       "      <td>36234</td>\n",
       "    </tr>\n",
       "    <tr>\n",
       "      <th>3</th>\n",
       "      <td>2004-01-01</td>\n",
       "      <td>Fossil Fuels</td>\n",
       "      <td>36205</td>\n",
       "    </tr>\n",
       "    <tr>\n",
       "      <th>4</th>\n",
       "      <td>2005-01-01</td>\n",
       "      <td>Fossil Fuels</td>\n",
       "      <td>36883</td>\n",
       "    </tr>\n",
       "  </tbody>\n",
       "</table>\n",
       "</div>"
      ],
      "text/plain": [
       "        year        source  net_generation\n",
       "0 2001-01-01  Fossil Fuels           35361\n",
       "1 2002-01-01  Fossil Fuels           35991\n",
       "2 2003-01-01  Fossil Fuels           36234\n",
       "3 2004-01-01  Fossil Fuels           36205\n",
       "4 2005-01-01  Fossil Fuels           36883"
      ]
     },
     "execution_count": 99,
     "metadata": {},
     "output_type": "execute_result"
    }
   ],
   "source": [
    "iowa = data.iowa_electricity()\n",
    "iowa.head()"
   ]
  },
  {
   "cell_type": "code",
   "execution_count": 100,
   "id": "271555e2",
   "metadata": {
    "scrolled": false
   },
   "outputs": [
    {
     "name": "stdout",
     "output_type": "stream",
     "text": [
      "<class 'pandas.core.frame.DataFrame'>\n",
      "RangeIndex: 51 entries, 0 to 50\n",
      "Data columns (total 3 columns):\n",
      " #   Column          Non-Null Count  Dtype         \n",
      "---  ------          --------------  -----         \n",
      " 0   year            51 non-null     datetime64[ns]\n",
      " 1   source          51 non-null     object        \n",
      " 2   net_generation  51 non-null     int64         \n",
      "dtypes: datetime64[ns](1), int64(1), object(1)\n",
      "memory usage: 1.3+ KB\n"
     ]
    }
   ],
   "source": [
    "# Ensure dtype is datetime64[ns] \n",
    "iowa.info()"
   ]
  },
  {
   "cell_type": "code",
   "execution_count": 101,
   "id": "837a409a",
   "metadata": {
    "scrolled": true
   },
   "outputs": [
    {
     "data": {
      "text/plain": [
       "year              0\n",
       "source            0\n",
       "net_generation    0\n",
       "dtype: int64"
      ]
     },
     "execution_count": 101,
     "metadata": {},
     "output_type": "execute_result"
    }
   ],
   "source": [
    "# Check for missing data\n",
    "iowa.isnull().sum()"
   ]
  },
  {
   "cell_type": "code",
   "execution_count": 102,
   "id": "fd9b2e6b",
   "metadata": {},
   "outputs": [
    {
     "data": {
      "text/plain": [
       "array(['2001-01-01T00:00:00.000000000', '2002-01-01T00:00:00.000000000',\n",
       "       '2003-01-01T00:00:00.000000000', '2004-01-01T00:00:00.000000000',\n",
       "       '2005-01-01T00:00:00.000000000', '2006-01-01T00:00:00.000000000',\n",
       "       '2007-01-01T00:00:00.000000000', '2008-01-01T00:00:00.000000000',\n",
       "       '2009-01-01T00:00:00.000000000', '2010-01-01T00:00:00.000000000',\n",
       "       '2011-01-01T00:00:00.000000000', '2012-01-01T00:00:00.000000000',\n",
       "       '2013-01-01T00:00:00.000000000', '2014-01-01T00:00:00.000000000',\n",
       "       '2015-01-01T00:00:00.000000000', '2016-01-01T00:00:00.000000000',\n",
       "       '2017-01-01T00:00:00.000000000'], dtype='datetime64[ns]')"
      ]
     },
     "execution_count": 102,
     "metadata": {},
     "output_type": "execute_result"
    }
   ],
   "source": [
    "iowa.year.unique()"
   ]
  },
  {
   "cell_type": "code",
   "execution_count": 104,
   "id": "12b084f3",
   "metadata": {
    "scrolled": true
   },
   "outputs": [],
   "source": [
    "# Resample by the Day, Month, Year BEFORE RESET INDEX\n",
    "iowa['year'] = iowa.year.dt.year"
   ]
  },
  {
   "cell_type": "code",
   "execution_count": 105,
   "id": "da7b72cc",
   "metadata": {},
   "outputs": [
    {
     "data": {
      "text/html": [
       "<div>\n",
       "<style scoped>\n",
       "    .dataframe tbody tr th:only-of-type {\n",
       "        vertical-align: middle;\n",
       "    }\n",
       "\n",
       "    .dataframe tbody tr th {\n",
       "        vertical-align: top;\n",
       "    }\n",
       "\n",
       "    .dataframe thead th {\n",
       "        text-align: right;\n",
       "    }\n",
       "</style>\n",
       "<table border=\"1\" class=\"dataframe\">\n",
       "  <thead>\n",
       "    <tr style=\"text-align: right;\">\n",
       "      <th></th>\n",
       "      <th>0</th>\n",
       "      <th>1</th>\n",
       "      <th>2</th>\n",
       "      <th>3</th>\n",
       "      <th>4</th>\n",
       "      <th>5</th>\n",
       "      <th>6</th>\n",
       "      <th>7</th>\n",
       "      <th>8</th>\n",
       "      <th>9</th>\n",
       "      <th>...</th>\n",
       "      <th>41</th>\n",
       "      <th>42</th>\n",
       "      <th>43</th>\n",
       "      <th>44</th>\n",
       "      <th>45</th>\n",
       "      <th>46</th>\n",
       "      <th>47</th>\n",
       "      <th>48</th>\n",
       "      <th>49</th>\n",
       "      <th>50</th>\n",
       "    </tr>\n",
       "  </thead>\n",
       "  <tbody>\n",
       "    <tr>\n",
       "      <th>year</th>\n",
       "      <td>2001</td>\n",
       "      <td>2002</td>\n",
       "      <td>2003</td>\n",
       "      <td>2004</td>\n",
       "      <td>2005</td>\n",
       "      <td>2006</td>\n",
       "      <td>2007</td>\n",
       "      <td>2008</td>\n",
       "      <td>2009</td>\n",
       "      <td>2010</td>\n",
       "      <td>...</td>\n",
       "      <td>2008</td>\n",
       "      <td>2009</td>\n",
       "      <td>2010</td>\n",
       "      <td>2011</td>\n",
       "      <td>2012</td>\n",
       "      <td>2013</td>\n",
       "      <td>2014</td>\n",
       "      <td>2015</td>\n",
       "      <td>2016</td>\n",
       "      <td>2017</td>\n",
       "    </tr>\n",
       "    <tr>\n",
       "      <th>source</th>\n",
       "      <td>Fossil Fuels</td>\n",
       "      <td>Fossil Fuels</td>\n",
       "      <td>Fossil Fuels</td>\n",
       "      <td>Fossil Fuels</td>\n",
       "      <td>Fossil Fuels</td>\n",
       "      <td>Fossil Fuels</td>\n",
       "      <td>Fossil Fuels</td>\n",
       "      <td>Fossil Fuels</td>\n",
       "      <td>Fossil Fuels</td>\n",
       "      <td>Fossil Fuels</td>\n",
       "      <td>...</td>\n",
       "      <td>Renewables</td>\n",
       "      <td>Renewables</td>\n",
       "      <td>Renewables</td>\n",
       "      <td>Renewables</td>\n",
       "      <td>Renewables</td>\n",
       "      <td>Renewables</td>\n",
       "      <td>Renewables</td>\n",
       "      <td>Renewables</td>\n",
       "      <td>Renewables</td>\n",
       "      <td>Renewables</td>\n",
       "    </tr>\n",
       "    <tr>\n",
       "      <th>net_generation</th>\n",
       "      <td>35361</td>\n",
       "      <td>35991</td>\n",
       "      <td>36234</td>\n",
       "      <td>36205</td>\n",
       "      <td>36883</td>\n",
       "      <td>37014</td>\n",
       "      <td>41389</td>\n",
       "      <td>42734</td>\n",
       "      <td>38620</td>\n",
       "      <td>42750</td>\n",
       "      <td>...</td>\n",
       "      <td>5070</td>\n",
       "      <td>8560</td>\n",
       "      <td>10308</td>\n",
       "      <td>11795</td>\n",
       "      <td>14949</td>\n",
       "      <td>16476</td>\n",
       "      <td>17452</td>\n",
       "      <td>19091</td>\n",
       "      <td>21241</td>\n",
       "      <td>21933</td>\n",
       "    </tr>\n",
       "  </tbody>\n",
       "</table>\n",
       "<p>3 rows × 51 columns</p>\n",
       "</div>"
      ],
      "text/plain": [
       "                          0             1             2             3   \\\n",
       "year                    2001          2002          2003          2004   \n",
       "source          Fossil Fuels  Fossil Fuels  Fossil Fuels  Fossil Fuels   \n",
       "net_generation         35361         35991         36234         36205   \n",
       "\n",
       "                          4             5             6             7   \\\n",
       "year                    2005          2006          2007          2008   \n",
       "source          Fossil Fuels  Fossil Fuels  Fossil Fuels  Fossil Fuels   \n",
       "net_generation         36883         37014         41389         42734   \n",
       "\n",
       "                          8             9   ...          41          42  \\\n",
       "year                    2009          2010  ...        2008        2009   \n",
       "source          Fossil Fuels  Fossil Fuels  ...  Renewables  Renewables   \n",
       "net_generation         38620         42750  ...        5070        8560   \n",
       "\n",
       "                        43          44          45          46          47  \\\n",
       "year                  2010        2011        2012        2013        2014   \n",
       "source          Renewables  Renewables  Renewables  Renewables  Renewables   \n",
       "net_generation       10308       11795       14949       16476       17452   \n",
       "\n",
       "                        48          49          50  \n",
       "year                  2015        2016        2017  \n",
       "source          Renewables  Renewables  Renewables  \n",
       "net_generation       19091       21241       21933  \n",
       "\n",
       "[3 rows x 51 columns]"
      ]
     },
     "execution_count": 105,
     "metadata": {},
     "output_type": "execute_result"
    }
   ],
   "source": [
    "iowa.T"
   ]
  },
  {
   "cell_type": "markdown",
   "id": "80fda0b6",
   "metadata": {},
   "source": [
    "Use the above dataset for the following exercises:\n",
    "\n",
    "1. For each row, calculate the percentage of the year's total that energy source provided.\n",
    "2. Lineplot of generation over time, color by source\n",
    "3. Display the data as table where years are columns, and energy source is rows (Hint: df.pivot_table)\n",
    "4. Make a line plot that shows the amount of energy generated over time. Each source should be a separate line?\n",
    "5. Is the total generation increasing over time?\n",
    "* How would you control for increasing consumption over time when considering how much energy is coming from each source?\n",
    "* express each number as a % of the year's total"
   ]
  },
  {
   "cell_type": "markdown",
   "id": "d37c24dc",
   "metadata": {},
   "source": [
    "<div class=\"alert alert-success\">\n",
    "\n",
    "\n",
    "# ```temps``` dataset"
   ]
  },
  {
   "cell_type": "markdown",
   "id": "7a537267",
   "metadata": {},
   "source": [
    "1. Use the sf_temps dataset"
   ]
  },
  {
   "cell_type": "code",
   "execution_count": 106,
   "id": "d9f7acec",
   "metadata": {},
   "outputs": [
    {
     "data": {
      "text/html": [
       "<div>\n",
       "<style scoped>\n",
       "    .dataframe tbody tr th:only-of-type {\n",
       "        vertical-align: middle;\n",
       "    }\n",
       "\n",
       "    .dataframe tbody tr th {\n",
       "        vertical-align: top;\n",
       "    }\n",
       "\n",
       "    .dataframe thead th {\n",
       "        text-align: right;\n",
       "    }\n",
       "</style>\n",
       "<table border=\"1\" class=\"dataframe\">\n",
       "  <thead>\n",
       "    <tr style=\"text-align: right;\">\n",
       "      <th></th>\n",
       "      <th>temp</th>\n",
       "      <th>day</th>\n",
       "      <th>day_of_week</th>\n",
       "      <th>weekday_number</th>\n",
       "    </tr>\n",
       "    <tr>\n",
       "      <th>date</th>\n",
       "      <th></th>\n",
       "      <th></th>\n",
       "      <th></th>\n",
       "      <th></th>\n",
       "    </tr>\n",
       "  </thead>\n",
       "  <tbody>\n",
       "    <tr>\n",
       "      <th>2010-01-01 00:00:00</th>\n",
       "      <td>47.8</td>\n",
       "      <td>1</td>\n",
       "      <td>Friday</td>\n",
       "      <td>5</td>\n",
       "    </tr>\n",
       "    <tr>\n",
       "      <th>2010-01-01 01:00:00</th>\n",
       "      <td>47.4</td>\n",
       "      <td>1</td>\n",
       "      <td>Friday</td>\n",
       "      <td>5</td>\n",
       "    </tr>\n",
       "    <tr>\n",
       "      <th>2010-01-01 02:00:00</th>\n",
       "      <td>46.9</td>\n",
       "      <td>1</td>\n",
       "      <td>Friday</td>\n",
       "      <td>5</td>\n",
       "    </tr>\n",
       "    <tr>\n",
       "      <th>2010-01-01 03:00:00</th>\n",
       "      <td>46.5</td>\n",
       "      <td>1</td>\n",
       "      <td>Friday</td>\n",
       "      <td>5</td>\n",
       "    </tr>\n",
       "    <tr>\n",
       "      <th>2010-01-01 04:00:00</th>\n",
       "      <td>46.0</td>\n",
       "      <td>1</td>\n",
       "      <td>Friday</td>\n",
       "      <td>5</td>\n",
       "    </tr>\n",
       "  </tbody>\n",
       "</table>\n",
       "</div>"
      ],
      "text/plain": [
       "                     temp  day day_of_week  weekday_number\n",
       "date                                                      \n",
       "2010-01-01 00:00:00  47.8    1      Friday               5\n",
       "2010-01-01 01:00:00  47.4    1      Friday               5\n",
       "2010-01-01 02:00:00  46.9    1      Friday               5\n",
       "2010-01-01 03:00:00  46.5    1      Friday               5\n",
       "2010-01-01 04:00:00  46.0    1      Friday               5"
      ]
     },
     "execution_count": 106,
     "metadata": {},
     "output_type": "execute_result"
    }
   ],
   "source": [
    "temps.head()"
   ]
  },
  {
   "cell_type": "markdown",
   "id": "bb216de3",
   "metadata": {},
   "source": [
    "2. Create 4 categories for temperature, cold, cool, warm, hot (hint: use pd.cut or pd.qcut for this)\n",
    "3. How does the occurances of these 4 categories change month over month? i.e. how many days have each distinction? Visualize this and give the visual appropriate colors for each category.\n",
    "4. Create pretty labels for time plots\n",
    "5. Visualize the number of days of each month that fall into each bin by year (e.g. x=month, y=n_days, hue=temp_bin) or st similar"
   ]
  },
  {
   "cell_type": "markdown",
   "id": "1d951d08",
   "metadata": {},
   "source": [
    "<div class=\"alert alert-success\">\n",
    "\n",
    "\n",
    "# ```birdstrikes``` dataset"
   ]
  },
  {
   "cell_type": "markdown",
   "id": "e34767fd",
   "metadata": {},
   "source": [
    "Explore the birdstrikes dataset."
   ]
  },
  {
   "cell_type": "code",
   "execution_count": 107,
   "id": "2b1bf11c",
   "metadata": {},
   "outputs": [],
   "source": [
    "df = data.birdstrikes()"
   ]
  },
  {
   "cell_type": "code",
   "execution_count": 109,
   "id": "c0368993",
   "metadata": {},
   "outputs": [
    {
     "data": {
      "text/html": [
       "<div>\n",
       "<style scoped>\n",
       "    .dataframe tbody tr th:only-of-type {\n",
       "        vertical-align: middle;\n",
       "    }\n",
       "\n",
       "    .dataframe tbody tr th {\n",
       "        vertical-align: top;\n",
       "    }\n",
       "\n",
       "    .dataframe thead th {\n",
       "        text-align: right;\n",
       "    }\n",
       "</style>\n",
       "<table border=\"1\" class=\"dataframe\">\n",
       "  <thead>\n",
       "    <tr style=\"text-align: right;\">\n",
       "      <th></th>\n",
       "      <th>0</th>\n",
       "      <th>1</th>\n",
       "      <th>2</th>\n",
       "      <th>3</th>\n",
       "      <th>4</th>\n",
       "    </tr>\n",
       "  </thead>\n",
       "  <tbody>\n",
       "    <tr>\n",
       "      <th>Airport__Name</th>\n",
       "      <td>BARKSDALE AIR FORCE BASE ARPT</td>\n",
       "      <td>BARKSDALE AIR FORCE BASE ARPT</td>\n",
       "      <td>BARKSDALE AIR FORCE BASE ARPT</td>\n",
       "      <td>NEW ORLEANS INTL</td>\n",
       "      <td>BARKSDALE AIR FORCE BASE ARPT</td>\n",
       "    </tr>\n",
       "    <tr>\n",
       "      <th>Aircraft__Make_Model</th>\n",
       "      <td>T-38A</td>\n",
       "      <td>KC-10A</td>\n",
       "      <td>B-52</td>\n",
       "      <td>B-737-300</td>\n",
       "      <td>KC-10A</td>\n",
       "    </tr>\n",
       "    <tr>\n",
       "      <th>Effect__Amount_of_damage</th>\n",
       "      <td>None</td>\n",
       "      <td>None</td>\n",
       "      <td>None</td>\n",
       "      <td>Substantial</td>\n",
       "      <td>None</td>\n",
       "    </tr>\n",
       "    <tr>\n",
       "      <th>Flight_Date</th>\n",
       "      <td>1/8/90 0:00</td>\n",
       "      <td>1/9/90 0:00</td>\n",
       "      <td>1/11/90 0:00</td>\n",
       "      <td>1/11/90 0:00</td>\n",
       "      <td>1/12/90 0:00</td>\n",
       "    </tr>\n",
       "    <tr>\n",
       "      <th>Aircraft__Airline_Operator</th>\n",
       "      <td>MILITARY</td>\n",
       "      <td>MILITARY</td>\n",
       "      <td>MILITARY</td>\n",
       "      <td>SOUTHWEST AIRLINES</td>\n",
       "      <td>MILITARY</td>\n",
       "    </tr>\n",
       "    <tr>\n",
       "      <th>Origin_State</th>\n",
       "      <td>Louisiana</td>\n",
       "      <td>Louisiana</td>\n",
       "      <td>Louisiana</td>\n",
       "      <td>Louisiana</td>\n",
       "      <td>Louisiana</td>\n",
       "    </tr>\n",
       "    <tr>\n",
       "      <th>When__Phase_of_flight</th>\n",
       "      <td>Climb</td>\n",
       "      <td>Approach</td>\n",
       "      <td>Take-off run</td>\n",
       "      <td>Take-off run</td>\n",
       "      <td>Climb</td>\n",
       "    </tr>\n",
       "    <tr>\n",
       "      <th>Wildlife__Size</th>\n",
       "      <td>Large</td>\n",
       "      <td>Medium</td>\n",
       "      <td>Medium</td>\n",
       "      <td>Small</td>\n",
       "      <td>Medium</td>\n",
       "    </tr>\n",
       "    <tr>\n",
       "      <th>Wildlife__Species</th>\n",
       "      <td>Turkey vulture</td>\n",
       "      <td>Unknown bird or bat</td>\n",
       "      <td>Unknown bird or bat</td>\n",
       "      <td>Rock pigeon</td>\n",
       "      <td>Unknown bird or bat</td>\n",
       "    </tr>\n",
       "    <tr>\n",
       "      <th>When__Time_of_day</th>\n",
       "      <td>Day</td>\n",
       "      <td>Night</td>\n",
       "      <td>Day</td>\n",
       "      <td>Day</td>\n",
       "      <td>Day</td>\n",
       "    </tr>\n",
       "    <tr>\n",
       "      <th>Cost__Other</th>\n",
       "      <td>0</td>\n",
       "      <td>0</td>\n",
       "      <td>0</td>\n",
       "      <td>0</td>\n",
       "      <td>0</td>\n",
       "    </tr>\n",
       "    <tr>\n",
       "      <th>Cost__Repair</th>\n",
       "      <td>0</td>\n",
       "      <td>0</td>\n",
       "      <td>0</td>\n",
       "      <td>0</td>\n",
       "      <td>0</td>\n",
       "    </tr>\n",
       "    <tr>\n",
       "      <th>Cost__Total_$</th>\n",
       "      <td>0</td>\n",
       "      <td>0</td>\n",
       "      <td>0</td>\n",
       "      <td>0</td>\n",
       "      <td>0</td>\n",
       "    </tr>\n",
       "    <tr>\n",
       "      <th>Speed_IAS_in_knots</th>\n",
       "      <td>300.0</td>\n",
       "      <td>200.0</td>\n",
       "      <td>130.0</td>\n",
       "      <td>140.0</td>\n",
       "      <td>160.0</td>\n",
       "    </tr>\n",
       "  </tbody>\n",
       "</table>\n",
       "</div>"
      ],
      "text/plain": [
       "                                                        0  \\\n",
       "Airport__Name               BARKSDALE AIR FORCE BASE ARPT   \n",
       "Aircraft__Make_Model                                T-38A   \n",
       "Effect__Amount_of_damage                             None   \n",
       "Flight_Date                                   1/8/90 0:00   \n",
       "Aircraft__Airline_Operator                       MILITARY   \n",
       "Origin_State                                    Louisiana   \n",
       "When__Phase_of_flight                               Climb   \n",
       "Wildlife__Size                                      Large   \n",
       "Wildlife__Species                          Turkey vulture   \n",
       "When__Time_of_day                                     Day   \n",
       "Cost__Other                                             0   \n",
       "Cost__Repair                                            0   \n",
       "Cost__Total_$                                           0   \n",
       "Speed_IAS_in_knots                                  300.0   \n",
       "\n",
       "                                                        1  \\\n",
       "Airport__Name               BARKSDALE AIR FORCE BASE ARPT   \n",
       "Aircraft__Make_Model                               KC-10A   \n",
       "Effect__Amount_of_damage                             None   \n",
       "Flight_Date                                   1/9/90 0:00   \n",
       "Aircraft__Airline_Operator                       MILITARY   \n",
       "Origin_State                                    Louisiana   \n",
       "When__Phase_of_flight                            Approach   \n",
       "Wildlife__Size                                     Medium   \n",
       "Wildlife__Species                     Unknown bird or bat   \n",
       "When__Time_of_day                                   Night   \n",
       "Cost__Other                                             0   \n",
       "Cost__Repair                                            0   \n",
       "Cost__Total_$                                           0   \n",
       "Speed_IAS_in_knots                                  200.0   \n",
       "\n",
       "                                                        2                   3  \\\n",
       "Airport__Name               BARKSDALE AIR FORCE BASE ARPT    NEW ORLEANS INTL   \n",
       "Aircraft__Make_Model                                 B-52           B-737-300   \n",
       "Effect__Amount_of_damage                             None         Substantial   \n",
       "Flight_Date                                  1/11/90 0:00        1/11/90 0:00   \n",
       "Aircraft__Airline_Operator                       MILITARY  SOUTHWEST AIRLINES   \n",
       "Origin_State                                    Louisiana           Louisiana   \n",
       "When__Phase_of_flight                        Take-off run        Take-off run   \n",
       "Wildlife__Size                                     Medium               Small   \n",
       "Wildlife__Species                     Unknown bird or bat         Rock pigeon   \n",
       "When__Time_of_day                                     Day                 Day   \n",
       "Cost__Other                                             0                   0   \n",
       "Cost__Repair                                            0                   0   \n",
       "Cost__Total_$                                           0                   0   \n",
       "Speed_IAS_in_knots                                  130.0               140.0   \n",
       "\n",
       "                                                        4  \n",
       "Airport__Name               BARKSDALE AIR FORCE BASE ARPT  \n",
       "Aircraft__Make_Model                               KC-10A  \n",
       "Effect__Amount_of_damage                             None  \n",
       "Flight_Date                                  1/12/90 0:00  \n",
       "Aircraft__Airline_Operator                       MILITARY  \n",
       "Origin_State                                    Louisiana  \n",
       "When__Phase_of_flight                               Climb  \n",
       "Wildlife__Size                                     Medium  \n",
       "Wildlife__Species                     Unknown bird or bat  \n",
       "When__Time_of_day                                     Day  \n",
       "Cost__Other                                             0  \n",
       "Cost__Repair                                            0  \n",
       "Cost__Total_$                                           0  \n",
       "Speed_IAS_in_knots                                  160.0  "
      ]
     },
     "execution_count": 109,
     "metadata": {},
     "output_type": "execute_result"
    }
   ],
   "source": [
    "df.head().T"
   ]
  },
  {
   "cell_type": "code",
   "execution_count": 110,
   "id": "7958ea13",
   "metadata": {
    "scrolled": true
   },
   "outputs": [
    {
     "name": "stdout",
     "output_type": "stream",
     "text": [
      "<class 'pandas.core.frame.DataFrame'>\n",
      "RangeIndex: 10000 entries, 0 to 9999\n",
      "Data columns (total 14 columns):\n",
      " #   Column                      Non-Null Count  Dtype  \n",
      "---  ------                      --------------  -----  \n",
      " 0   Airport__Name               10000 non-null  object \n",
      " 1   Aircraft__Make_Model        10000 non-null  object \n",
      " 2   Effect__Amount_of_damage    10000 non-null  object \n",
      " 3   Flight_Date                 10000 non-null  object \n",
      " 4   Aircraft__Airline_Operator  10000 non-null  object \n",
      " 5   Origin_State                10000 non-null  object \n",
      " 6   When__Phase_of_flight       10000 non-null  object \n",
      " 7   Wildlife__Size              10000 non-null  object \n",
      " 8   Wildlife__Species           10000 non-null  object \n",
      " 9   When__Time_of_day           10000 non-null  object \n",
      " 10  Cost__Other                 10000 non-null  int64  \n",
      " 11  Cost__Repair                10000 non-null  int64  \n",
      " 12  Cost__Total_$               10000 non-null  int64  \n",
      " 13  Speed_IAS_in_knots          7164 non-null   float64\n",
      "dtypes: float64(1), int64(3), object(10)\n",
      "memory usage: 1.1+ MB\n"
     ]
    }
   ],
   "source": [
    "df.info()"
   ]
  },
  {
   "cell_type": "markdown",
   "id": "e8ef585f",
   "metadata": {},
   "source": [
    "<div class=\"alert alert-info\">\n",
    "\n",
    "\n",
    "# Initial Observations:\n",
    "* Change ```Flight_Date``` dtype to ```datetime64```\n",
    "* Handle Nulls in ```Speed_IAS_in_knots```\n",
    "* May need to create binary categorical features using dummies to pivot data for dtype ```object``` columns"
   ]
  },
  {
   "cell_type": "markdown",
   "id": "c4e3caed",
   "metadata": {},
   "source": [
    "```quit()```... |"
   ]
  },
  {
   "cell_type": "code",
   "execution_count": null,
   "id": "d4a26d9e",
   "metadata": {},
   "outputs": [],
   "source": []
  }
 ],
 "metadata": {
  "kernelspec": {
   "display_name": "Python 3 (ipykernel)",
   "language": "python",
   "name": "python3"
  },
  "language_info": {
   "codemirror_mode": {
    "name": "ipython",
    "version": 3
   },
   "file_extension": ".py",
   "mimetype": "text/x-python",
   "name": "python",
   "nbconvert_exporter": "python",
   "pygments_lexer": "ipython3",
   "version": "3.9.12"
  }
 },
 "nbformat": 4,
 "nbformat_minor": 5
}
